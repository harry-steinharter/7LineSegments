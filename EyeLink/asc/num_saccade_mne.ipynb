{
 "cells": [
  {
   "cell_type": "markdown",
   "id": "022fe9e6",
   "metadata": {},
   "source": [
    "1. Read in raw data file\n",
    "2. Check description of events\n",
    "3. Filter events and trial number based on condition\n",
    "4. Check sum of saccades for different conditions\n",
    "5. Check interperson differences and averages\n",
    "6. Find out how to calculate saccades in visual degrees from x and y positiions\n"
   ]
  },
  {
   "cell_type": "code",
   "execution_count": 60,
   "id": "a06a57d3",
   "metadata": {},
   "outputs": [],
   "source": [
    "from mne.io import read_raw_eyelink\n",
    "from mne.preprocessing.eyetracking import read_eyelink_calibration\n",
    "import mne\n",
    "import pandas as pd\n",
    "import numpy as np\n",
    "import matplotlib.pyplot as plt\n",
    "import glob\n",
    "import os\n",
    "from pprint import pprint"
   ]
  },
  {
   "cell_type": "code",
   "execution_count": 31,
   "id": "8078d953",
   "metadata": {},
   "outputs": [],
   "source": [
    "path = '/Users/wouter/Documents/phd/projects/supervision/harry/7LineSegments/EyeLink/asc'\n",
    "asc_files = glob.glob(os.path.join(path, \"*.asc\"))"
   ]
  },
  {
   "cell_type": "code",
   "execution_count": 32,
   "id": "63c92fa4",
   "metadata": {},
   "outputs": [
    {
     "data": {
      "text/plain": [
       "['/Users/wouter/Documents/phd/projects/supervision/harry/7LineSegments/EyeLink/asc/75.asc',\n",
       " '/Users/wouter/Documents/phd/projects/supervision/harry/7LineSegments/EyeLink/asc/76.asc',\n",
       " '/Users/wouter/Documents/phd/projects/supervision/harry/7LineSegments/EyeLink/asc/77.asc',\n",
       " '/Users/wouter/Documents/phd/projects/supervision/harry/7LineSegments/EyeLink/asc/83.asc',\n",
       " '/Users/wouter/Documents/phd/projects/supervision/harry/7LineSegments/EyeLink/asc/82.asc',\n",
       " '/Users/wouter/Documents/phd/projects/supervision/harry/7LineSegments/EyeLink/asc/81.asc',\n",
       " '/Users/wouter/Documents/phd/projects/supervision/harry/7LineSegments/EyeLink/asc/85.asc',\n",
       " '/Users/wouter/Documents/phd/projects/supervision/harry/7LineSegments/EyeLink/asc/84.asc',\n",
       " '/Users/wouter/Documents/phd/projects/supervision/harry/7LineSegments/EyeLink/asc/78.asc',\n",
       " '/Users/wouter/Documents/phd/projects/supervision/harry/7LineSegments/EyeLink/asc/87.asc']"
      ]
     },
     "execution_count": 32,
     "metadata": {},
     "output_type": "execute_result"
    }
   ],
   "source": [
    "asc_files"
   ]
  },
  {
   "cell_type": "code",
   "execution_count": 33,
   "id": "9f958b1c",
   "metadata": {},
   "outputs": [
    {
     "name": "stdout",
     "output_type": "stream",
     "text": [
      "Loading /Users/wouter/Documents/phd/projects/supervision/harry/7LineSegments/EyeLink/asc/75.asc\n",
      "Pixel coordinate data detected.Pass `scalings=dict(eyegaze=1e3)` when using plot method to make traces more legible.\n",
      "Pupil-size diameter detected.\n",
      "There are 841 recording blocks in this file. Times between blocks will be annotated with BAD_ACQ_SKIP.\n",
      "Reading calibration data from /Users/wouter/Documents/phd/projects/supervision/harry/7LineSegments/EyeLink/asc/75.asc\n",
      "Loading /Users/wouter/Documents/phd/projects/supervision/harry/7LineSegments/EyeLink/asc/76.asc\n",
      "Pixel coordinate data detected.Pass `scalings=dict(eyegaze=1e3)` when using plot method to make traces more legible.\n",
      "Pupil-size diameter detected.\n",
      "There are 1200 recording blocks in this file. Times between blocks will be annotated with BAD_ACQ_SKIP.\n",
      "Reading calibration data from /Users/wouter/Documents/phd/projects/supervision/harry/7LineSegments/EyeLink/asc/76.asc\n",
      "Loading /Users/wouter/Documents/phd/projects/supervision/harry/7LineSegments/EyeLink/asc/77.asc\n",
      "Pixel coordinate data detected.Pass `scalings=dict(eyegaze=1e3)` when using plot method to make traces more legible.\n",
      "Pupil-size diameter detected.\n",
      "There are 1200 recording blocks in this file. Times between blocks will be annotated with BAD_ACQ_SKIP.\n",
      "Reading calibration data from /Users/wouter/Documents/phd/projects/supervision/harry/7LineSegments/EyeLink/asc/77.asc\n",
      "Loading /Users/wouter/Documents/phd/projects/supervision/harry/7LineSegments/EyeLink/asc/83.asc\n",
      "Pixel coordinate data detected.Pass `scalings=dict(eyegaze=1e3)` when using plot method to make traces more legible.\n",
      "Pupil-size diameter detected.\n",
      "There are 1200 recording blocks in this file. Times between blocks will be annotated with BAD_ACQ_SKIP.\n",
      "Reading calibration data from /Users/wouter/Documents/phd/projects/supervision/harry/7LineSegments/EyeLink/asc/83.asc\n",
      "Loading /Users/wouter/Documents/phd/projects/supervision/harry/7LineSegments/EyeLink/asc/82.asc\n",
      "Pixel coordinate data detected.Pass `scalings=dict(eyegaze=1e3)` when using plot method to make traces more legible.\n",
      "Pupil-size diameter detected.\n",
      "There are 1200 recording blocks in this file. Times between blocks will be annotated with BAD_ACQ_SKIP.\n",
      "Reading calibration data from /Users/wouter/Documents/phd/projects/supervision/harry/7LineSegments/EyeLink/asc/82.asc\n",
      "Loading /Users/wouter/Documents/phd/projects/supervision/harry/7LineSegments/EyeLink/asc/81.asc\n",
      "Pixel coordinate data detected.Pass `scalings=dict(eyegaze=1e3)` when using plot method to make traces more legible.\n",
      "Pupil-size diameter detected.\n",
      "There are 1200 recording blocks in this file. Times between blocks will be annotated with BAD_ACQ_SKIP.\n",
      "Reading calibration data from /Users/wouter/Documents/phd/projects/supervision/harry/7LineSegments/EyeLink/asc/81.asc\n",
      "Loading /Users/wouter/Documents/phd/projects/supervision/harry/7LineSegments/EyeLink/asc/85.asc\n",
      "Pixel coordinate data detected.Pass `scalings=dict(eyegaze=1e3)` when using plot method to make traces more legible.\n",
      "Pupil-size diameter detected.\n",
      "There are 1200 recording blocks in this file. Times between blocks will be annotated with BAD_ACQ_SKIP.\n",
      "Reading calibration data from /Users/wouter/Documents/phd/projects/supervision/harry/7LineSegments/EyeLink/asc/85.asc\n",
      "Loading /Users/wouter/Documents/phd/projects/supervision/harry/7LineSegments/EyeLink/asc/84.asc\n",
      "Pixel coordinate data detected.Pass `scalings=dict(eyegaze=1e3)` when using plot method to make traces more legible.\n",
      "Pupil-size diameter detected.\n",
      "There are 1200 recording blocks in this file. Times between blocks will be annotated with BAD_ACQ_SKIP.\n",
      "Reading calibration data from /Users/wouter/Documents/phd/projects/supervision/harry/7LineSegments/EyeLink/asc/84.asc\n",
      "Loading /Users/wouter/Documents/phd/projects/supervision/harry/7LineSegments/EyeLink/asc/78.asc\n",
      "Pixel coordinate data detected.Pass `scalings=dict(eyegaze=1e3)` when using plot method to make traces more legible.\n",
      "Pupil-size diameter detected.\n",
      "There are 1200 recording blocks in this file. Times between blocks will be annotated with BAD_ACQ_SKIP.\n",
      "Reading calibration data from /Users/wouter/Documents/phd/projects/supervision/harry/7LineSegments/EyeLink/asc/78.asc\n",
      "Loading /Users/wouter/Documents/phd/projects/supervision/harry/7LineSegments/EyeLink/asc/87.asc\n",
      "Pixel coordinate data detected.Pass `scalings=dict(eyegaze=1e3)` when using plot method to make traces more legible.\n",
      "Pupil-size diameter detected.\n",
      "There are 1200 recording blocks in this file. Times between blocks will be annotated with BAD_ACQ_SKIP.\n",
      "Reading calibration data from /Users/wouter/Documents/phd/projects/supervision/harry/7LineSegments/EyeLink/asc/87.asc\n"
     ]
    },
    {
     "data": {
      "text/plain": [
       "dict_keys(['calibration_75', 'calibration_76', 'calibration_77', 'calibration_83', 'calibration_82', 'calibration_81', 'calibration_85', 'calibration_84', 'calibration_78', 'calibration_87'])"
      ]
     },
     "execution_count": 33,
     "metadata": {},
     "output_type": "execute_result"
    }
   ],
   "source": [
    "raw_dict = {}\n",
    "calibration_dict = {}\n",
    "\n",
    "for path in asc_files:\n",
    "    filename = os.path.basename(path)\n",
    "    number_str = os.path.splitext(filename)[0]\n",
    "    \n",
    "    raw = read_raw_eyelink(path, create_annotations=True)\n",
    "    df = raw.annotations.to_data_frame()\n",
    "    \n",
    "    calibration = read_eyelink_calibration(\n",
    "        path,\n",
    "        screen_resolution=(1920, 1080),\n",
    "        screen_size=(0.53, 0.3),\n",
    "        screen_distance=0.9,\n",
    "    )[0]\n",
    "    \n",
    "    # Store in dictionary\n",
    "    raw_dict[number_str] = {\n",
    "        'raw': raw,\n",
    "        'df': df\n",
    "    }\n",
    "    \n",
    "    calibration_dict[f'calibration_{number_str}'] = calibration\n",
    "    \n",
    "# Check the participant number included\n",
    "raw_dict.keys()\n",
    "calibration_dict.keys()\n"
   ]
  },
  {
   "cell_type": "code",
   "execution_count": 54,
   "id": "3b5275ff",
   "metadata": {},
   "outputs": [
    {
     "name": "stdout",
     "output_type": "stream",
     "text": [
      "                    onset  duration                          description  \\\n",
      "0 2025-05-12 08:43:45.007     0.365                             fixation   \n",
      "1 2025-05-12 08:43:45.030     0.000  TRIAL_START 0 | FarHighNarrow | 0.1   \n",
      "2 2025-05-12 08:43:45.372     0.016                              saccade   \n",
      "3 2025-05-12 08:43:45.388     1.437                             fixation   \n",
      "4 2025-05-12 08:43:46.256     0.000    TRIAL_END 0 | FarHighNarrow | 0.1   \n",
      "5 2025-05-12 08:43:46.826     0.023                         BAD_ACQ_SKIP   \n",
      "6 2025-05-12 08:43:46.856     1.819                             fixation   \n",
      "7 2025-05-12 08:43:46.880     0.000   TRIAL_START 1 | FarLowNarrow | 0.1   \n",
      "8 2025-05-12 08:43:48.064     0.000     TRIAL_END 1 | FarLowNarrow | 0.1   \n",
      "9 2025-05-12 08:43:48.676     0.023                         BAD_ACQ_SKIP   \n",
      "\n",
      "                             ch_names  \n",
      "0  (xpos_left, ypos_left, pupil_left)  \n",
      "1                                  ()  \n",
      "2  (xpos_left, ypos_left, pupil_left)  \n",
      "3  (xpos_left, ypos_left, pupil_left)  \n",
      "4                                  ()  \n",
      "5                                  ()  \n",
      "6  (xpos_left, ypos_left, pupil_left)  \n",
      "7                                  ()  \n",
      "8                                  ()  \n",
      "9                                  ()  \n",
      "Descriptions:\n",
      "{'TRIAL_START 93 | Constant | 0.00794328234724281', 'TRIAL_START 468 | FarLowWide | 0.009999999999999995', 'TRIAL_START 984 | Constant | 0.01995262314968879', 'TRIAL_END 211 | FarHighNarrow_null | 0.031622776601683784', 'TRIAL_START 934 | FarHighNarrow | 0.01584893192461113', 'TRIAL_START 603 | ThreeLinesControl | 0.015848931924611127', 'TRIAL_START 196 | FarLowNarrow | 0.009999999999999995', 'TRIAL_START 775 | FarLowNarrow | 0.01584893192461113', 'TRIAL_END 643 | FarHighWide | 0.012589254117941668', 'TRIAL_END 745 | ThreeLinesControl | 0.009999999999999995', 'TRIAL_END 523 | Constant | 0.015848931924611127', 'TRIAL_END 262 | FarLowWide | 0.015848931924611127', 'TRIAL_START 873 | FarLowNarrow | 0.01584893192461113', 'TRIAL_START 211 | FarHighNarrow_null | 0.031622776601683784', 'TRIAL_START 137 | ThreeLinesControl | 0.005011872336272719', 'TRIAL_END 343 | ThreeLinesControl | 0.009999999999999995', 'TRIAL_END 1077 | FarLowNarrow | 0.01584893192461113', 'TRIAL_START 996 | FarHighNarrow_null | 0.001995262314968878', 'TRIAL_END 839 | FarHighWide | 0.009999999999999997', 'TRIAL_START 390 | Constant | 0.0063095734448019285', 'TRIAL_START 672 | FarLowNarrow | 0.025118864315095798', 'TRIAL_START 25 | FarHighNarrow | 0.031622776601683784', 'TRIAL_START 820 | ThreeLinesControl_null | 0.005011872336272719', 'TRIAL_START 356 | FarHighWide | 0.007943282347242812', 'TRIAL_END 324 | FarLowNarrow | 0.00501187233627272', 'TRIAL_END 145 | Constant | 0.015848931924611127', 'TRIAL_END 478 | FarLowWide | 0.012589254117941666', 'TRIAL_START 1121 | FarLowWide | 0.009999999999999995', 'TRIAL_START 640 | FarHighWide | 0.01584893192461113', 'TRIAL_START 141 | FarHighNarrow_null | 0.06309573444801932', 'TRIAL_START 323 | Constant | 0.0063095734448019285', 'TRIAL_END 910 | FarLowWide | 0.012589254117941666', 'TRIAL_END 306 | ThreeLinesControl | 0.012589254117941666', 'TRIAL_END 842 | ThreeLinesControl | 0.012589254117941666', 'TRIAL_END 798 | Constant | 0.015848931924611127', 'TRIAL_END 473 | FarLowWide_null | 0.015848931924611127', 'TRIAL_END 74 | FarHighWide | 0.012589254117941666', 'TRIAL_START 1175 | FarLowWide | 0.012589254117941666', 'TRIAL_END 456 | Constant | 0.0063095734448019285', 'TRIAL_END 1174 | FarHighNarrow | 0.009999999999999997', 'TRIAL_START 1100 | FarLowNarrow | 0.01584893192461113', 'TRIAL_END 636 | FarLowNarrow | 0.01584893192461113', 'TRIAL_START 894 | FarLowWide | 0.015848931924611127', 'TRIAL_END 1151 | FarHighNarrow | 0.01584893192461113', 'TRIAL_END 1157 | FarHighWide_null | 0.0031622776601683772', 'TRIAL_START 1084 | FarLowWide | 0.01995262314968879', 'TRIAL_START 914 | FarLowNarrow | 0.019952623149688792', 'TRIAL_END 831 | FarHighNarrow_null | 0.00794328234724281', 'TRIAL_START 681 | FarHighNarrow | 0.012589254117941668', 'TRIAL_END 702 | ThreeLinesControl | 0.025118864315095794', 'TRIAL_START 647 | FarHighWide | 0.01584893192461113', 'TRIAL_END 1039 | FarHighNarrow | 0.01584893192461113', 'TRIAL_START 33 | FarLowNarrow | 0.031622776601683784', 'TRIAL_START 224 | Constant | 0.0063095734448019285', 'TRIAL_END 172 | FarHighWide | 0.007943282347242812', 'TRIAL_START 1029 | FarLowWide_null | 0.012589254117941666', 'TRIAL_START 1149 | FarHighWide | 0.01584893192461113', 'TRIAL_START 267 | Constant | 0.00794328234724281', 'TRIAL_START 556 | FarLowNarrow | 0.012589254117941668', 'TRIAL_END 887 | FarLowNarrow | 0.01584893192461113', 'TRIAL_START 411 | Constant | 0.012589254117941666', 'TRIAL_START 330 | FarHighNarrow | 0.007943282347242812', 'TRIAL_START 504 | FarHighWide | 0.012589254117941668', 'TRIAL_START 1198 | FarLowWide | 0.01995262314968879', 'TRIAL_END 823 | FarHighNarrow | 0.01584893192461113', 'TRIAL_START 1011 | Constant | 0.012589254117941666', 'TRIAL_END 606 | FarHighNarrow | 0.01584893192461113', 'TRIAL_END 225 | Constant_null | 0.031622776601683784', 'TRIAL_END 1141 | FarLowWide | 0.015848931924611127', 'TRIAL_END 14 | FarHighWide | 0.05011872336272722', 'TRIAL_START 825 | ThreeLinesControl | 0.009999999999999995', 'TRIAL_START 957 | FarLowWide | 0.031622776601683784', 'TRIAL_START 964 | FarLowNarrow | 0.012589254117941668', 'TRIAL_END 856 | FarLowWide | 0.015848931924611127', 'TRIAL_START 671 | ThreeLinesControl | 0.009999999999999995', 'TRIAL_END 1147 | FarLowWide | 0.025118864315095794', 'TRIAL_START 374 | Constant | 0.012589254117941666', 'TRIAL_END 214 | ThreeLinesControl | 0.012589254117941666', 'TRIAL_START 765 | FarHighWide | 0.012589254117941668', 'TRIAL_START 743 | FarHighNarrow_null | 0.012589254117941666', 'TRIAL_START 1099 | FarLowWide | 0.009999999999999995', 'TRIAL_START 147 | Constant | 0.012589254117941666', 'TRIAL_END 182 | FarHighWide | 0.00501187233627272', 'TRIAL_START 214 | ThreeLinesControl | 0.012589254117941666', 'TRIAL_END 1023 | FarLowWide | 0.02511886431509579', 'TRIAL_START 1052 | ThreeLinesControl | 0.015848931924611127', 'TRIAL_START 452 | FarLowWide | 0.009999999999999995', 'TRIAL_START 789 | ThreeLinesControl | 0.012589254117941666', 'TRIAL_START 780 | FarLowWide | 0.012589254117941666', 'TRIAL_START 725 | Constant | 0.012589254117941666', 'TRIAL_END 728 | FarHighWide | 0.01584893192461113', 'TRIAL_START 473 | FarLowWide_null | 0.015848931924611127', 'TRIAL_START 536 | FarLowWide | 0.01995262314968879', 'TRIAL_END 1097 | ThreeLinesControl | 0.015848931924611127', 'TRIAL_START 14 | FarHighWide | 0.05011872336272722', 'TRIAL_START 1070 | FarHighWide | 0.01584893192461113', 'TRIAL_END 752 | FarLowWide | 0.01995262314968879', 'TRIAL_START 706 | Constant | 0.015848931924611127', 'TRIAL_END 825 | ThreeLinesControl | 0.009999999999999995', 'TRIAL_START 702 | ThreeLinesControl | 0.025118864315095794', 'TRIAL_START 1123 | FarHighWide | 0.009999999999999997', 'TRIAL_START 231 | ThreeLinesControl | 0.012589254117941666', 'TRIAL_END 316 | FarLowWide | 0.015848931924611127', 'TRIAL_END 1060 | FarLowWide_null | 0.00794328234724281', 'TRIAL_START 205 | ThreeLinesControl | 0.009999999999999995', 'TRIAL_START 693 | Constant | 0.012589254117941666', 'TRIAL_END 168 | FarHighNarrow | 0.00794328234724281', 'saccade', 'TRIAL_END 277 | FarLowWide | 0.015848931924611127', 'TRIAL_START 140 | ThreeLinesControl_null | 0.05011872336272722', 'TRIAL_END 207 | FarLowNarrow | 0.012589254117941666', 'TRIAL_START 466 | ThreeLinesControl | 0.01995262314968879', 'TRIAL_START 908 | FarHighNarrow_null | 0.00398107170553497', 'TRIAL_END 3 | FarHighWide | 0.07943282347242815', 'TRIAL_END 359 | FarHighWide | 0.012589254117941668', 'TRIAL_START 751 | ThreeLinesControl | 0.015848931924611127', 'TRIAL_START 994 | FarHighWide | 0.007943282347242812', 'TRIAL_END 146 | FarLowNarrow_null | 0.05011872336272722', 'TRIAL_START 394 | FarLowWide | 0.012589254117941666', 'TRIAL_END 226 | FarHighNarrow | 0.001995262314968878', 'TRIAL_START 308 | FarLowNarrow | 0.00398107170553497', 'TRIAL_END 582 | FarHighNarrow | 0.00398107170553497', 'TRIAL_END 356 | FarHighWide | 0.007943282347242812', 'TRIAL_END 563 | FarLowNarrow_null | 0.0063095734448019285', 'TRIAL_START 550 | FarHighWide | 0.007943282347242812', 'TRIAL_START 939 | FarHighWide | 0.012589254117941668', 'TRIAL_START 1097 | ThreeLinesControl | 0.015848931924611127', 'TRIAL_START 1119 | FarHighNarrow | 0.012589254117941668', 'TRIAL_END 369 | FarLowWide | 0.012589254117941666', 'TRIAL_START 1014 | Constant | 0.012589254117941666', 'TRIAL_END 994 | FarHighWide | 0.007943282347242812', 'TRIAL_END 774 | FarLowWide | 0.01995262314968879', 'TRIAL_END 685 | FarLowWide | 0.015848931924611127', 'TRIAL_END 118 | FarLowNarrow | 0.00794328234724281', 'TRIAL_START 1163 | FarLowWide | 0.025118864315095794', 'TRIAL_START 840 | FarLowNarrow | 0.01584893192461113', 'TRIAL_END 659 | FarHighWide | 0.006309573444801929', 'TRIAL_END 921 | FarLowNarrow | 0.012589254117941668', 'TRIAL_END 481 | FarLowWide | 0.015848931924611127', 'TRIAL_START 721 | Constant | 0.012589254117941666', 'TRIAL_START 616 | FarHighNarrow | 0.012589254117941668', 'TRIAL_START 353 | FarLowNarrow | 0.012589254117941668', 'TRIAL_END 748 | FarLowNarrow | 0.012589254117941668', 'TRIAL_END 224 | Constant | 0.0063095734448019285', 'TRIAL_END 1142 | FarHighNarrow | 0.012589254117941668', 'TRIAL_END 361 | FarHighWide_null | 0.07943282347242815', 'TRIAL_END 1125 | FarHighNarrow | 0.01584893192461113', 'TRIAL_END 1082 | FarHighWide | 0.012589254117941668', 'TRIAL_END 144 | Constant | 0.01995262314968879', 'TRIAL_START 869 | FarHighNarrow_null | 0.005011872336272719', 'TRIAL_START 430 | ThreeLinesControl | 0.00794328234724281', 'TRIAL_END 1061 | FarHighWide_null | 0.012589254117941666', 'TRIAL_END 1150 | FarLowWide | 0.01995262314968879', 'TRIAL_END 187 | ThreeLinesControl | 0.00794328234724281', 'TRIAL_START 290 | Constant | 0.00794328234724281', 'TRIAL_START 691 | Constant | 0.009999999999999995', 'TRIAL_END 669 | FarLowWide | 0.012589254117941666', 'TRIAL_START 678 | Constant | 0.012589254117941666', 'TRIAL_END 1155 | FarHighNarrow | 0.019952623149688792', 'TRIAL_START 17 | FarHighNarrow | 0.05011872336272722', 'TRIAL_START 182 | FarHighWide | 0.00501187233627272', 'TRIAL_START 652 | FarHighWide | 0.012589254117941668', 'TRIAL_START 838 | ThreeLinesControl_null | 0.00398107170553497', 'TRIAL_END 874 | ThreeLinesControl_null | 0.0031622776601683772', 'TRIAL_START 162 | FarHighNarrow | 0.0063095734448019285', 'TRIAL_END 706 | Constant | 0.015848931924611127', 'TRIAL_END 413 | ThreeLinesControl | 0.015848931924611127', 'TRIAL_END 1013 | ThreeLinesControl | 0.015848931924611127', 'TRIAL_START 305 | Constant | 0.00794328234724281', 'TRIAL_END 1091 | FarLowNarrow | 0.01584893192461113', 'TRIAL_START 71 | FarHighWide_null | 0.1', 'TRIAL_START 866 | FarHighNarrow_null | 0.0063095734448019285', 'TRIAL_START 67 | Constant | 0.009999999999999995', 'TRIAL_START 491 | FarLowNarrow | 0.009999999999999997', 'TRIAL_END 276 | FarHighNarrow | 0.00501187233627272', 'TRIAL_END 526 | ThreeLinesControl_null | 0.01995262314968879', 'TRIAL_START 858 | Constant | 0.015848931924611127', 'TRIAL_END 1148 | FarHighNarrow | 0.012589254117941668', 'TRIAL_END 1190 | FarLowWide | 0.01995262314968879', 'TRIAL_END 950 | Constant | 0.01995262314968879', 'TRIAL_START 16 | Constant | 0.05011872336272722', 'TRIAL_START 347 | ThreeLinesControl | 0.012589254117941666', 'TRIAL_END 196 | FarLowNarrow | 0.009999999999999995', 'TRIAL_END 717 | FarHighNarrow | 0.007943282347242812', 'TRIAL_END 123 | FarHighNarrow_null | 0.07943282347242815', 'TRIAL_END 371 | FarLowNarrow | 0.012589254117941668', 'TRIAL_START 1000 | Constant | 0.01995262314968879', 'TRIAL_START 395 | FarHighNarrow | 0.006309573444801929', 'TRIAL_END 260 | ThreeLinesControl | 0.00794328234724281', 'TRIAL_END 699 | Constant | 0.015848931924611127', 'TRIAL_START 978 | FarHighWide | 0.012589254117941668', 'TRIAL_END 312 | FarLowWide | 0.012589254117941666', 'TRIAL_START 194 | FarLowNarrow_null | 0.02511886431509579', 'TRIAL_START 1174 | FarHighNarrow | 0.009999999999999997', 'TRIAL_START 944 | ThreeLinesControl | 0.015848931924611127', 'TRIAL_START 415 | FarHighNarrow | 0.00501187233627272', 'TRIAL_START 767 | FarHighWide | 0.01584893192461113', 'TRIAL_END 718 | Constant | 0.00794328234724281', 'TRIAL_END 171 | FarHighWide | 0.006309573444801929', 'TRIAL_END 738 | FarHighWide | 0.012589254117941668', 'TRIAL_START 731 | FarHighNarrow | 0.007943282347242812', 'TRIAL_END 779 | Constant | 0.012589254117941666', 'TRIAL_END 1188 | FarLowWide | 0.01995262314968879', 'TRIAL_END 639 | FarLowWide | 0.01995262314968879', 'TRIAL_START 22 | FarLowNarrow | 0.06309573444801932', 'TRIAL_END 236 | ThreeLinesControl | 0.009999999999999995', 'TRIAL_END 1180 | FarHighNarrow | 0.012589254117941668', 'TRIAL_START 683 | Constant | 0.009999999999999995', 'TRIAL_END 611 | Constant | 0.012589254117941666', 'TRIAL_END 139 | FarLowNarrow | 0.0063095734448019285', 'TRIAL_START 899 | FarLowWide | 0.012589254117941666', 'TRIAL_END 586 | FarHighNarrow | 0.006309573444801929', 'TRIAL_START 553 | FarLowNarrow | 0.009999999999999997', 'TRIAL_END 631 | FarLowNarrow | 0.012589254117941668', 'TRIAL_START 104 | FarLowNarrow | 0.00794328234724281', 'TRIAL_END 658 | FarLowNarrow | 0.01584893192461113', 'TRIAL_END 804 | FarHighWide | 0.012589254117941668', 'TRIAL_END 1162 | FarHighWide | 0.019952623149688792', 'TRIAL_START 1196 | FarLowWide | 0.01995262314968879', 'TRIAL_END 386 | Constant | 0.00794328234724281', 'TRIAL_START 143 | FarHighNarrow_null | 0.07943282347242814', 'TRIAL_START 449 | FarLowWide | 0.015848931924611127', 'TRIAL_START 1102 | FarLowNarrow | 0.01584893192461113', 'TRIAL_END 577 | FarLowNarrow | 0.012589254117941668', 'TRIAL_END 569 | FarHighNarrow | 0.00501187233627272', 'TRIAL_START 1128 | FarHighNarrow | 0.01584893192461113', 'TRIAL_END 829 | FarLowWide_null | 0.012589254117941666', 'TRIAL_START 953 | FarLowNarrow | 0.01584893192461113', 'TRIAL_END 535 | ThreeLinesControl | 0.01995262314968879', 'TRIAL_START 376 | FarLowNarrow | 0.01584893192461113', 'TRIAL_END 683 | Constant | 0.009999999999999995', 'TRIAL_END 617 | Constant | 0.012589254117941666', 'TRIAL_END 661 | Constant | 0.00794328234724281', 'TRIAL_END 580 | Constant | 0.012589254117941666', 'TRIAL_END 591 | FarHighWide | 0.025118864315095798', 'TRIAL_END 759 | Constant | 0.009999999999999995', 'TRIAL_START 850 | Constant | 0.00794328234724281', 'TRIAL_END 83 | ThreeLinesControl | 0.01995262314968879', 'TRIAL_START 565 | FarHighWide | 0.012589254117941668', 'TRIAL_END 1176 | FarHighNarrow | 0.012589254117941668', 'TRIAL_END 72 | FarLowNarrow_null | 0.07943282347242815', 'TRIAL_START 906 | FarHighNarrow | 0.012589254117941668', 'TRIAL_START 391 | FarHighWide | 0.007943282347242812', 'TRIAL_START 220 | Constant | 0.009999999999999995', 'TRIAL_END 295 | FarHighWide | 0.00501187233627272', 'TRIAL_START 905 | FarLowWide | 0.009999999999999995', 'TRIAL_END 966 | Constant | 0.02511886431509579', 'TRIAL_END 1144 | FarLowWide | 0.01995262314968879', 'TRIAL_END 984 | Constant | 0.01995262314968879', 'TRIAL_END 1167 | FarHighNarrow | 0.01584893192461113', 'TRIAL_END 794 | FarLowNarrow | 0.03981071705534973', 'TRIAL_START 1035 | ThreeLinesControl | 0.01995262314968879', 'TRIAL_END 634 | Constant | 0.012589254117941666', 'TRIAL_END 899 | FarLowWide | 0.012589254117941666', 'TRIAL_END 99 | FarHighNarrow | 0.009999999999999995', 'TRIAL_END 244 | Constant | 0.00794328234724281', 'TRIAL_END 149 | ThreeLinesControl | 0.0063095734448019285', 'TRIAL_START 12 | Constant | 0.06309573444801932', 'TRIAL_START 233 | FarHighWide | 0.00501187233627272', 'TRIAL_END 375 | Constant | 0.009999999999999995', 'TRIAL_END 938 | FarHighNarrow | 0.019952623149688792', 'TRIAL_END 248 | ThreeLinesControl | 0.00794328234724281', 'TRIAL_END 283 | ThreeLinesControl | 0.005011872336272719', 'TRIAL_END 1064 | ThreeLinesControl | 0.015848931924611127', 'TRIAL_START 669 | FarLowWide | 0.012589254117941666', 'TRIAL_START 495 | Constant | 0.009999999999999995', 'TRIAL_START 228 | Constant | 0.005011872336272719', 'TRIAL_END 608 | FarHighWide | 0.025118864315095798', 'TRIAL_START 885 | FarHighWide | 0.01584893192461113', 'TRIAL_START 760 | ThreeLinesControl | 0.012589254117941666', 'TRIAL_END 819 | ThreeLinesControl | 0.012589254117941666', 'TRIAL_START 400 | ThreeLinesControl | 0.012589254117941666', 'TRIAL_END 568 | FarLowWide | 0.025118864315095794', 'TRIAL_START 735 | Constant_null | 0.005011872336272719', 'TRIAL_END 776 | FarLowNarrow | 0.019952623149688792', 'TRIAL_START 227 | FarLowWide_null | 0.05011872336272722', 'TRIAL_END 731 | FarHighNarrow | 0.007943282347242812', 'TRIAL_END 1087 | ThreeLinesControl | 0.012589254117941666', 'TRIAL_START 38 | FarHighNarrow | 0.02511886431509579', 'TRIAL_END 216 | FarHighWide | 0.00398107170553497', 'TRIAL_START 680 | FarHighWide | 0.009999999999999997', 'TRIAL_START 1095 | FarHighNarrow | 0.025118864315095798', 'TRIAL_END 680 | FarHighWide | 0.009999999999999997', 'TRIAL_END 1106 | FarLowWide | 0.0063095734448019285', 'TRIAL_END 1189 | FarLowWide | 0.025118864315095794', 'TRIAL_START 9 | FarLowNarrow_null | 0.1', 'TRIAL_END 111 | FarHighNarrow | 0.00794328234724281', 'TRIAL_START 51 | FarLowNarrow | 0.01995262314968879', 'TRIAL_END 1110 | FarHighWide | 0.012589254117941668', 'TRIAL_START 275 | Constant | 0.00794328234724281', 'TRIAL_START 439 | FarHighWide | 0.00501187233627272', 'TRIAL_END 352 | FarLowWide_null | 0.031622776601683784', 'TRIAL_END 33 | FarLowNarrow | 0.031622776601683784', 'TRIAL_START 814 | FarLowWide | 0.012589254117941666', 'TRIAL_END 5 | Constant | 0.1', 'TRIAL_END 13 | FarLowWide | 0.1', 'TRIAL_START 990 | ThreeLinesControl | 0.012589254117941666', 'TRIAL_END 1143 | FarLowNarrow | 0.01584893192461113', 'TRIAL_END 530 | ThreeLinesControl_null | 0.015848931924611127', 'TRIAL_END 676 | FarHighNarrow | 0.019952623149688792', 'TRIAL_END 883 | Constant | 0.009999999999999995', 'TRIAL_END 177 | FarLowWide | 0.012589254117941666', 'TRIAL_END 912 | ThreeLinesControl | 0.01995262314968879', 'TRIAL_END 245 | FarLowWide | 0.015848931924611127', 'TRIAL_START 431 | Constant | 0.015848931924611127', 'TRIAL_START 263 | FarLowNarrow_null | 0.01995262314968879', 'TRIAL_START 474 | ThreeLinesControl_null | 0.02511886431509579', 'TRIAL_START 569 | FarHighNarrow | 0.00501187233627272', 'TRIAL_START 772 | Constant | 0.015848931924611127', 'TRIAL_START 198 | FarHighNarrow | 0.0031622776601683772', 'TRIAL_END 510 | FarHighWide | 0.01584893192461113', 'TRIAL_END 219 | FarHighNarrow | 0.002511886431509578', 'TRIAL_START 287 | FarLowWide | 0.012589254117941666', 'TRIAL_START 398 | FarLowWide | 0.015848931924611127', 'TRIAL_START 148 | FarLowNarrow_null | 0.03981071705534971', 'TRIAL_END 969 | FarHighWide_null | 0.02511886431509579', 'TRIAL_END 544 | FarLowNarrow | 0.009999999999999997', 'TRIAL_START 1161 | FarLowWide | 0.01995262314968879', 'TRIAL_START 57 | FarLowWide | 0.02511886431509579', 'TRIAL_START 313 | Constant | 0.00794328234724281', 'TRIAL_START 193 | FarHighWide | 0.0031622776601683772', 'TRIAL_START 896 | ThreeLinesControl | 0.012589254117941666', 'TRIAL_END 1002 | Constant | 0.01995262314968879', 'TRIAL_END 1134 | FarLowWide_null | 0.001995262314968878', 'TRIAL_END 307 | FarHighWide | 0.007943282347242812', 'TRIAL_END 998 | FarLowNarrow | 0.019952623149688792', 'TRIAL_END 889 | ThreeLinesControl | 0.015848931924611127', 'TRIAL_START 378 | FarLowNarrow_null | 0.01995262314968879', 'TRIAL_START 1117 | FarHighNarrow | 0.009999999999999997', 'TRIAL_START 988 | FarHighWide | 0.012589254117941668', 'TRIAL_END 335 | ThreeLinesControl | 0.012589254117941666', 'TRIAL_START 289 | Constant | 0.0063095734448019285', 'TRIAL_START 852 | FarHighWide | 0.009999999999999997', 'TRIAL_END 374 | Constant | 0.012589254117941666', 'TRIAL_END 521 | ThreeLinesControl | 0.015848931924611127', 'TRIAL_START 117 | FarLowNarrow | 0.0063095734448019285', 'TRIAL_END 1183 | FarLowWide | 0.025118864315095794', 'TRIAL_END 488 | FarLowNarrow | 0.009999999999999997', 'TRIAL_START 787 | FarHighNarrow | 0.012589254117941668', 'TRIAL_START 370 | FarLowWide | 0.009999999999999995', 'TRIAL_START 377 | FarHighWide | 0.012589254117941668', 'TRIAL_START 573 | FarLowWide | 0.01995262314968879', 'TRIAL_START 764 | Constant | 0.012589254117941666', 'TRIAL_START 58 | FarHighWide | 0.015848931924611127', 'TRIAL_START 386 | Constant | 0.00794328234724281', 'TRIAL_START 464 | FarHighNarrow | 0.01584893192461113', 'TRIAL_END 846 | FarLowNarrow | 0.019952623149688792', 'TRIAL_START 971 | FarHighNarrow | 0.019952623149688792', 'TRIAL_END 330 | FarHighNarrow | 0.007943282347242812', 'TRIAL_START 774 | FarLowWide | 0.01995262314968879', 'TRIAL_START 146 | FarLowNarrow_null | 0.05011872336272722', 'TRIAL_END 657 | FarLowNarrow | 0.012589254117941668', 'TRIAL_START 1074 | FarLowWide | 0.015848931924611127', 'TRIAL_END 799 | ThreeLinesControl_null | 0.00794328234724281', 'TRIAL_START 1153 | FarHighWide_null | 0.00398107170553497', 'TRIAL_END 679 | FarHighNarrow | 0.01584893192461113', 'TRIAL_END 849 | FarLowWide | 0.012589254117941666', 'TRIAL_START 99 | FarHighNarrow | 0.009999999999999995', 'TRIAL_END 1123 | FarHighWide | 0.009999999999999997', 'TRIAL_END 30 | FarHighWide | 0.031622776601683784', 'TRIAL_END 378 | FarLowNarrow_null | 0.01995262314968879', 'TRIAL_START 164 | FarLowNarrow | 0.00794328234724281', 'TRIAL_START 815 | FarHighNarrow | 0.019952623149688792', 'TRIAL_END 1100 | FarLowNarrow | 0.01584893192461113', 'TRIAL_END 997 | FarHighNarrow | 0.012589254117941668', 'TRIAL_START 230 | Constant | 0.0063095734448019285', 'TRIAL_END 534 | ThreeLinesControl | 0.015848931924611127', 'TRIAL_END 183 | ThreeLinesControl | 0.009999999999999995', 'TRIAL_START 157 | FarLowNarrow | 0.005011872336272719', 'TRIAL_START 718 | Constant | 0.00794328234724281', 'TRIAL_START 845 | FarLowWide | 0.01995262314968879', 'TRIAL_START 1010 | Constant | 0.015848931924611127', 'TRIAL_START 1109 | FarHighWide | 0.01584893192461113', 'TRIAL_START 384 | Constant | 0.009999999999999995', 'TRIAL_END 458 | FarLowWide | 0.00794328234724281', 'TRIAL_END 302 | ThreeLinesControl | 0.009999999999999995', 'TRIAL_END 169 | FarHighNarrow | 0.0063095734448019285', 'TRIAL_START 340 | FarHighNarrow | 0.009999999999999997', 'TRIAL_START 909 | FarHighNarrow | 0.01584893192461113', 'TRIAL_END 166 | FarLowWide | 0.009999999999999995', 'TRIAL_START 800 | FarLowWide | 0.025118864315095794', 'TRIAL_END 560 | FarHighNarrow | 0.00501187233627272', 'TRIAL_START 217 | FarLowWide | 0.012589254117941666', 'TRIAL_START 1068 | FarLowNarrow | 0.012589254117941668', 'TRIAL_START 916 | FarLowNarrow | 0.01584893192461113', 'TRIAL_END 1008 | FarHighWide | 0.01584893192461113', 'TRIAL_END 157 | FarLowNarrow | 0.005011872336272719', 'TRIAL_START 2 | FarHighWide | 0.1', 'TRIAL_START 910 | FarLowWide | 0.012589254117941666', 'TRIAL_END 252 | FarLowNarrow | 0.00794328234724281', 'TRIAL_START 886 | Constant | 0.012589254117941666', 'TRIAL_START 121 | FarHighNarrow | 0.0063095734448019285', 'TRIAL_END 12 | Constant | 0.06309573444801932', 'TRIAL_START 516 | Constant | 0.012589254117941666', 'TRIAL_START 61 | FarLowWide | 0.01995262314968879', 'TRIAL_START 1115 | FarHighNarrow | 0.01584893192461113', 'TRIAL_START 15 | Constant_null | 0.1', 'TRIAL_START 1069 | FarLowNarrow | 0.01584893192461113', 'TRIAL_START 985 | ThreeLinesControl | 0.012589254117941666', 'TRIAL_START 1067 | FarLowNarrow | 0.009999999999999997', 'TRIAL_START 713 | FarLowNarrow | 0.01584893192461113', 'TRIAL_END 917 | Constant | 0.012589254117941666', 'TRIAL_END 280 | FarHighNarrow | 0.00501187233627272', 'TRIAL_START 564 | FarHighWide | 0.01584893192461113', 'TRIAL_END 122 | Constant | 0.009999999999999995', 'TRIAL_END 531 | FarLowWide | 0.015848931924611127', 'TRIAL_START 629 | ThreeLinesControl | 0.01995262314968879', 'TRIAL_START 846 | FarLowNarrow | 0.019952623149688792', 'TRIAL_END 58 | FarHighWide | 0.015848931924611127', 'TRIAL_END 953 | FarLowNarrow | 0.01584893192461113', 'TRIAL_START 1152 | FarHighWide | 0.019952623149688792', 'TRIAL_END 426 | FarLowNarrow | 0.01584893192461113', 'TRIAL_START 69 | FarLowNarrow | 0.009999999999999995', 'TRIAL_END 354 | ThreeLinesControl | 0.015848931924611127', 'TRIAL_END 513 | Constant | 0.009999999999999995', 'TRIAL_START 1016 | FarLowNarrow | 0.012589254117941668', 'TRIAL_START 785 | FarLowNarrow | 0.019952623149688792', 'TRIAL_END 877 | FarLowWide | 0.012589254117941666', 'TRIAL_END 1080 | FarLowWide | 0.01995262314968879', 'TRIAL_START 451 | FarHighNarrow | 0.012589254117941668', 'TRIAL_START 517 | FarHighWide | 0.01584893192461113', 'TRIAL_START 20 | FarHighNarrow | 0.03981071705534971', 'TRIAL_START 1132 | FarLowNarrow | 0.012589254117941668', 'TRIAL_START 296 | FarHighWide | 0.006309573444801929', 'TRIAL_END 1185 | FarLowWide | 0.025118864315095794', 'TRIAL_END 258 | ThreeLinesControl | 0.0063095734448019285', 'TRIAL_END 73 | FarHighNarrow | 0.0063095734448019285', 'TRIAL_START 457 | FarHighNarrow | 0.009999999999999997', 'TRIAL_END 505 | FarLowWide | 0.015848931924611127', 'TRIAL_END 773 | FarHighWide | 0.019952623149688792', 'TRIAL_END 249 | FarHighWide | 0.006309573444801929', 'TRIAL_START 642 | FarLowNarrow | 0.009999999999999997', 'TRIAL_START 1101 | FarLowNarrow | 0.019952623149688792', 'TRIAL_START 940 | FarHighNarrow | 0.01584893192461113', 'TRIAL_END 433 | ThreeLinesControl | 0.009999999999999995', 'TRIAL_END 1169 | FarLowWide | 0.01995262314968879', 'TRIAL_END 760 | ThreeLinesControl | 0.012589254117941666', 'TRIAL_END 151 | FarHighNarrow_null | 0.06309573444801932', 'TRIAL_START 1098 | FarHighWide | 0.019952623149688792', 'TRIAL_START 547 | Constant | 0.012589254117941666', 'TRIAL_START 122 | Constant | 0.009999999999999995', 'TRIAL_START 133 | Constant | 0.015848931924611127', 'TRIAL_END 906 | FarHighNarrow | 0.012589254117941668', 'TRIAL_START 732 | ThreeLinesControl | 0.012589254117941666', 'TRIAL_START 515 | FarHighWide | 0.012589254117941668', 'TRIAL_START 1019 | FarHighWide | 0.01584893192461113', 'TRIAL_END 802 | FarHighNarrow | 0.012589254117941668', 'TRIAL_START 1017 | Constant | 0.015848931924611127', 'TRIAL_END 401 | FarLowNarrow | 0.009999999999999997', 'TRIAL_START 45 | FarLowNarrow | 0.02511886431509579', 'TRIAL_START 921 | FarLowNarrow | 0.012589254117941668', 'TRIAL_START 44 | FarHighWide | 0.01995262314968879', 'TRIAL_START 505 | FarLowWide | 0.015848931924611127', 'TRIAL_END 28 | FarLowNarrow | 0.03981071705534971', 'TRIAL_START 861 | ThreeLinesControl | 0.01995262314968879', 'TRIAL_START 1195 | FarLowWide | 0.02511886431509579', 'TRIAL_START 492 | FarHighNarrow | 0.019952623149688792', 'TRIAL_END 719 | Constant | 0.009999999999999995', 'TRIAL_START 730 | ThreeLinesControl | 0.015848931924611127', 'TRIAL_END 832 | Constant_null | 0.002511886431509578', 'TRIAL_END 88 | Constant_null | 0.06309573444801932', 'TRIAL_END 987 | FarHighNarrow | 0.01584893192461113', 'TRIAL_START 620 | FarHighWide | 0.01584893192461113', 'TRIAL_END 682 | FarLowNarrow | 0.019952623149688792', 'TRIAL_START 566 | ThreeLinesControl | 0.012589254117941666', 'TRIAL_END 879 | ThreeLinesControl | 0.012589254117941666', 'TRIAL_START 294 | FarLowNarrow | 0.0063095734448019285', 'TRIAL_START 955 | FarLowNarrow | 0.019952623149688792', 'TRIAL_END 633 | FarHighWide | 0.012589254117941668', 'TRIAL_START 890 | FarHighNarrow | 0.019952623149688792', 'TRIAL_START 154 | FarLowWide_null | 0.1', 'TRIAL_START 43 | FarLowWide | 0.03981071705534971', 'TRIAL_START 898 | Constant | 0.015848931924611127', 'TRIAL_START 863 | ThreeLinesControl | 0.025118864315095794', 'TRIAL_END 1027 | FarLowNarrow | 0.012589254117941668', 'TRIAL_END 880 | FarHighWide | 0.012589254117941668', 'TRIAL_END 184 | ThreeLinesControl | 0.00794328234724281', 'TRIAL_START 5 | Constant | 0.1', 'TRIAL_END 131 | Constant | 0.012589254117941666', 'TRIAL_START 818 | ThreeLinesControl_null | 0.0063095734448019285', 'TRIAL_END 402 | FarLowWide_null | 0.02511886431509579', 'TRIAL_END 461 | FarHighNarrow | 0.012589254117941668', 'TRIAL_END 294 | FarLowNarrow | 0.0063095734448019285', 'TRIAL_END 19 | FarHighWide | 0.03981071705534971', 'TRIAL_END 333 | ThreeLinesControl | 0.015848931924611127', 'TRIAL_END 453 | FarHighWide | 0.00398107170553497', 'TRIAL_START 752 | FarLowWide | 0.01995262314968879', 'TRIAL_START 870 | Constant_null | 0.0015848931924611121', 'TRIAL_START 692 | FarHighWide | 0.009999999999999997', 'TRIAL_END 340 | FarHighNarrow | 0.009999999999999997', 'TRIAL_START 525 | FarLowNarrow | 0.007943282347242812', 'TRIAL_START 139 | FarLowNarrow | 0.0063095734448019285', 'TRIAL_END 693 | Constant | 0.012589254117941666', 'TRIAL_START 172 | FarHighWide | 0.007943282347242812', 'TRIAL_START 442 | ThreeLinesControl | 0.025118864315095794', 'TRIAL_END 446 | FarLowNarrow | 0.009999999999999997', 'TRIAL_END 106 | FarHighNarrow_null | 0.1', 'TRIAL_START 726 | FarLowWide | 0.01995262314968879', 'TRIAL_START 727 | FarLowNarrow | 0.01584893192461113', 'TRIAL_START 367 | Constant | 0.012589254117941666', 'TRIAL_START 709 | Constant | 0.009999999999999995', 'TRIAL_END 1092 | FarHighWide | 0.01584893192461113', 'TRIAL_START 444 | Constant | 0.009999999999999995', 'TRIAL_START 581 | FarHighNarrow | 0.00501187233627272', 'TRIAL_END 681 | FarHighNarrow | 0.012589254117941668', 'TRIAL_START 1167 | FarHighNarrow | 0.01584893192461113', 'TRIAL_START 960 | FarHighNarrow | 0.01584893192461113', 'TRIAL_END 39 | FarLowWide | 0.05011872336272722', 'TRIAL_END 721 | Constant | 0.012589254117941666', 'TRIAL_START 235 | FarHighNarrow | 0.002511886431509578', 'TRIAL_END 651 | FarHighNarrow | 0.01584893192461113', 'TRIAL_START 1170 | FarLowWide | 0.015848931924611127', 'TRIAL_START 782 | FarHighNarrow | 0.012589254117941668', 'TRIAL_START 930 | FarLowWide | 0.015848931924611127', 'TRIAL_END 350 | FarLowNarrow | 0.009999999999999997', 'TRIAL_START 1182 | FarLowWide | 0.01995262314968879', 'TRIAL_START 471 | Constant | 0.012589254117941666', 'TRIAL_START 877 | FarLowWide | 0.012589254117941666', 'TRIAL_START 1168 | FarHighNarrow | 0.012589254117941668', 'TRIAL_END 1160 | FarHighNarrow | 0.01584893192461113', 'TRIAL_END 188 | FarLowWide | 0.012589254117941666', 'TRIAL_START 676 | FarHighNarrow | 0.019952623149688792', 'TRIAL_END 817 | FarLowNarrow | 0.025118864315095798', 'TRIAL_END 625 | FarHighNarrow | 0.01584893192461113', 'TRIAL_END 1195 | FarLowWide | 0.02511886431509579', 'TRIAL_START 209 | FarLowNarrow | 0.009999999999999995', 'TRIAL_END 334 | FarLowNarrow | 0.006309573444801929', 'TRIAL_START 946 | FarHighNarrow | 0.012589254117941668', 'TRIAL_END 105 | FarLowWide | 0.015848931924611127', 'TRIAL_END 583 | FarLowWide | 0.01995262314968879', 'TRIAL_START 999 | FarHighWide | 0.007943282347242812', 'TRIAL_END 82 | ThreeLinesControl | 0.015848931924611127', 'TRIAL_START 514 | ThreeLinesControl | 0.012589254117941666', 'TRIAL_START 317 | Constant | 0.00794328234724281', 'TRIAL_END 619 | FarLowWide | 0.02511886431509579', 'TRIAL_START 369 | FarLowWide | 0.012589254117941666', 'TRIAL_START 422 | FarHighNarrow_null | 0.015848931924611127', 'TRIAL_END 1149 | FarHighWide | 0.01584893192461113', 'TRIAL_START 631 | FarLowNarrow | 0.012589254117941668', 'TRIAL_START 734 | FarLowNarrow | 0.012589254117941668', 'TRIAL_END 463 | Constant_null | 0.015848931924611127', 'TRIAL_END 722 | FarHighWide | 0.012589254117941668', 'TRIAL_START 700 | FarLowNarrow | 0.025118864315095798', 'TRIAL_END 155 | FarHighNarrow | 0.00794328234724281', 'TRIAL_START 201 | Constant | 0.0063095734448019285', 'TRIAL_END 319 | FarHighWide | 0.006309573444801929', 'TRIAL_START 1159 | FarLowWide | 0.025118864315095794', 'TRIAL_START 1169 | FarLowWide | 0.01995262314968879', 'TRIAL_START 46 | FarLowWide | 0.031622776601683784', 'TRIAL_START 80 | FarLowNarrow | 0.009999999999999995', 'TRIAL_END 1020 | FarLowNarrow | 0.01584893192461113', 'TRIAL_START 1004 | FarHighNarrow | 0.01584893192461113', 'TRIAL_START 55 | FarLowNarrow | 0.015848931924611127', 'TRIAL_END 173 | FarHighNarrow | 0.005011872336272719', 'TRIAL_START 879 | ThreeLinesControl | 0.012589254117941666', 'TRIAL_START 893 | FarHighWide_null | 0.031622776601683784', 'TRIAL_END 100 | FarLowNarrow | 0.0063095734448019285', 'TRIAL_END 540 | FarHighWide | 0.007943282347242812', 'TRIAL_END 50 | FarHighNarrow | 0.012589254117941666', 'TRIAL_START 187 | ThreeLinesControl | 0.00794328234724281', 'TRIAL_START 963 | Constant | 0.031622776601683784', 'TRIAL_END 250 | FarLowNarrow | 0.009999999999999995', 'TRIAL_END 703 | FarLowNarrow_null | 0.0031622776601683772', 'TRIAL_END 242 | Constant | 0.0063095734448019285', 'TRIAL_END 784 | FarHighWide | 0.012589254117941668', 'TRIAL_START 1086 | FarLowWide | 0.015848931924611127', 'TRIAL_END 999 | FarHighWide | 0.007943282347242812', 'TRIAL_START 638 | FarLowWide | 0.025118864315095794', 'TRIAL_END 1105 | FarLowWide_null | 0.0031622776601683772', 'TRIAL_END 751 | ThreeLinesControl | 0.015848931924611127', 'TRIAL_START 482 | ThreeLinesControl | 0.01995262314968879', 'TRIAL_END 167 | FarLowWide | 0.012589254117941666', 'TRIAL_START 160 | Constant | 0.009999999999999995', 'TRIAL_START 749 | ThreeLinesControl | 0.012589254117941666', 'TRIAL_END 803 | ThreeLinesControl | 0.01995262314968879', 'TRIAL_START 221 | ThreeLinesControl | 0.015848931924611127', 'TRIAL_START 578 | Constant | 0.015848931924611127', 'TRIAL_END 995 | FarHighWide | 0.009999999999999997', 'TRIAL_END 1135 | FarHighWide | 0.012589254117941668', 'TRIAL_START 440 | FarHighNarrow | 0.009999999999999997', 'TRIAL_END 733 | Constant | 0.015848931924611127', 'TRIAL_END 222 | FarLowWide_null | 0.06309573444801932', 'TRIAL_START 487 | ThreeLinesControl | 0.015848931924611127', 'TRIAL_END 806 | FarLowWide | 0.015848931924611127', 'TRIAL_START 809 | FarLowWide | 0.009999999999999995', 'TRIAL_END 507 | FarHighNarrow | 0.009999999999999997', 'TRIAL_END 1179 | FarHighNarrow | 0.009999999999999997', 'TRIAL_START 607 | ThreeLinesControl | 0.015848931924611127', 'TRIAL_START 360 | ThreeLinesControl | 0.012589254117941666', 'TRIAL_END 585 | Constant | 0.015848931924611127', 'TRIAL_START 531 | FarLowWide | 0.015848931924611127', 'TRIAL_END 621 | Constant | 0.009999999999999995', 'TRIAL_START 176 | FarLowWide | 0.015848931924611127', 'TRIAL_START 151 | FarHighNarrow_null | 0.06309573444801932', 'TRIAL_END 946 | FarHighNarrow | 0.012589254117941668', 'TRIAL_END 763 | FarHighNarrow | 0.012589254117941668', 'TRIAL_END 491 | FarLowNarrow | 0.009999999999999997', 'TRIAL_START 1194 | FarLowWide | 0.031622776601683784', 'TRIAL_END 56 | Constant | 0.01995262314968879', 'TRIAL_START 1044 | FarHighNarrow | 0.012589254117941668', 'TRIAL_END 179 | ThreeLinesControl | 0.00794328234724281', 'TRIAL_START 633 | FarHighWide | 0.012589254117941668', 'TRIAL_END 581 | FarHighNarrow | 0.00501187233627272', 'TRIAL_END 1152 | FarHighWide | 0.019952623149688792', 'TRIAL_END 1182 | FarLowWide | 0.01995262314968879', 'TRIAL_END 898 | Constant | 0.015848931924611127', 'TRIAL_END 1138 | FarHighNarrow | 0.01584893192461113', 'TRIAL_START 26 | ThreeLinesControl | 0.05011872336272722', 'TRIAL_START 670 | ThreeLinesControl | 0.012589254117941666', 'TRIAL_END 134 | FarHighWide | 0.0063095734448019285', 'TRIAL_END 338 | FarLowWide | 0.01995262314968879', 'TRIAL_START 1185 | FarLowWide | 0.025118864315095794', 'TRIAL_START 801 | Constant | 0.012589254117941666', 'TRIAL_START 998 | FarLowNarrow | 0.019952623149688792', 'TRIAL_END 789 | ThreeLinesControl | 0.012589254117941666', 'TRIAL_START 465 | FarHighNarrow | 0.012589254117941668', 'TRIAL_START 763 | FarHighNarrow | 0.012589254117941668', 'TRIAL_END 970 | FarHighWide | 0.019952623149688792', 'TRIAL_START 375 | Constant | 0.009999999999999995', 'TRIAL_END 886 | Constant | 0.012589254117941666', 'TRIAL_START 557 | ThreeLinesControl | 0.015848931924611127', 'TRIAL_END 920 | FarHighNarrow | 0.01584893192461113', 'TRIAL_END 1033 | FarLowNarrow | 0.012589254117941668', 'TRIAL_START 455 | FarHighWide | 0.00501187233627272', 'TRIAL_END 727 | FarLowNarrow | 0.01584893192461113', 'TRIAL_END 323 | Constant | 0.0063095734448019285', 'TRIAL_START 1036 | FarLowWide_null | 0.009999999999999995', 'TRIAL_START 542 | ThreeLinesControl | 0.01995262314968879', 'TRIAL_END 1028 | FarHighWide | 0.01584893192461113', 'TRIAL_START 1085 | ThreeLinesControl | 0.009999999999999995', 'TRIAL_END 755 | Constant | 0.015848931924611127', 'TRIAL_END 709 | Constant | 0.009999999999999995', 'TRIAL_START 115 | FarLowWide | 0.012589254117941666', 'TRIAL_END 944 | ThreeLinesControl | 0.015848931924611127', 'TRIAL_START 276 | FarHighNarrow | 0.00501187233627272', 'TRIAL_START 657 | FarLowNarrow | 0.012589254117941668', 'TRIAL_END 49 | ThreeLinesControl | 0.012589254117941666', 'TRIAL_START 587 | FarHighWide | 0.01584893192461113', 'TRIAL_START 97 | FarHighNarrow | 0.00794328234724281', 'TRIAL_END 1067 | FarLowNarrow | 0.009999999999999997', 'TRIAL_END 1172 | FarHighNarrow | 0.012589254117941668', 'TRIAL_START 3 | FarHighWide | 0.07943282347242815', 'TRIAL_START 72 | FarLowNarrow_null | 0.07943282347242815', 'TRIAL_END 956 | FarLowNarrow | 0.01584893192461113', 'TRIAL_END 127 | FarHighNarrow | 0.00794328234724281', 'TRIAL_START 116 | FarHighWide_null | 0.07943282347242815', 'TRIAL_END 65 | ThreeLinesControl_null | 0.1', 'TRIAL_END 977 | FarHighWide | 0.01584893192461113', 'TRIAL_END 782 | FarHighNarrow | 0.012589254117941668', 'TRIAL_START 241 | FarLowNarrow | 0.00794328234724281', 'TRIAL_START 590 | FarHighWide | 0.019952623149688792', 'TRIAL_START 1089 | FarHighNarrow | 0.019952623149688792', 'TRIAL_END 464 | FarHighNarrow | 0.01584893192461113', 'TRIAL_START 723 | FarLowNarrow | 0.012589254117941668', 'TRIAL_START 969 | FarHighWide_null | 0.02511886431509579', 'TRIAL_START 649 | FarLowNarrow | 0.012589254117941668', 'TRIAL_START 178 | ThreeLinesControl | 0.0063095734448019285', 'TRIAL_START 428 | ThreeLinesControl_null | 0.03981071705534971', 'TRIAL_START 392 | Constant | 0.00794328234724281', 'TRIAL_END 988 | FarHighWide | 0.012589254117941668', 'TRIAL_END 626 | FarLowWide | 0.01995262314968879', 'TRIAL_END 939 | FarHighWide | 0.012589254117941668', 'TRIAL_START 991 | ThreeLinesControl | 0.015848931924611127', 'TRIAL_START 475 | FarHighNarrow | 0.01584893192461113', 'TRIAL_START 31 | FarLowWide | 0.07943282347242815', 'TRIAL_START 1055 | FarLowNarrow | 0.012589254117941668', 'TRIAL_START 28 | FarLowNarrow | 0.03981071705534971', 'TRIAL_START 42 | ThreeLinesControl | 0.01995262314968879', 'TRIAL_START 165 | ThreeLinesControl | 0.00794328234724281', 'TRIAL_START 271 | FarLowWide | 0.015848931924611127', 'TRIAL_START 355 | FarHighWide | 0.006309573444801929', 'TRIAL_START 810 | Constant_null | 0.0031622776601683772', 'TRIAL_END 601 | Constant | 0.015848931924611127', 'TRIAL_END 900 | Constant | 0.012589254117941666', 'TRIAL_START 39 | FarLowWide | 0.05011872336272722', 'TRIAL_END 567 | ThreeLinesControl | 0.015848931924611127', 'TRIAL_START 887 | FarLowNarrow | 0.01584893192461113', 'TRIAL_START 199 | Constant_null | 0.03981071705534971', 'TRIAL_START 546 | ThreeLinesControl | 0.012589254117941666', 'TRIAL_END 598 | FarHighNarrow | 0.009999999999999997', 'TRIAL_END 484 | Constant | 0.009999999999999995', 'TRIAL_END 405 | Constant | 0.012589254117941666', 'TRIAL_END 863 | ThreeLinesControl | 0.025118864315095794', 'TRIAL_END 25 | FarHighNarrow | 0.031622776601683784', 'TRIAL_END 103 | FarHighNarrow | 0.00794328234724281', 'TRIAL_START 561 | ThreeLinesControl_null | 0.012589254117941666', 'TRIAL_START 192 | ThreeLinesControl | 0.00794328234724281', 'TRIAL_END 905 | FarLowWide | 0.009999999999999995', 'TRIAL_START 170 | FarHighWide | 0.00501187233627272', 'TRIAL_END 959 | FarHighWide | 0.025118864315095798', 'TRIAL_START 363 | FarLowNarrow | 0.01584893192461113', 'TRIAL_START 677 | FarHighWide | 0.007943282347242812', 'TRIAL_END 314 | Constant | 0.009999999999999995', 'TRIAL_START 188 | FarLowWide | 0.012589254117941666', 'TRIAL_END 447 | FarLowNarrow | 0.007943282347242812', 'TRIAL_END 652 | FarHighWide | 0.012589254117941668', 'TRIAL_END 349 | Constant | 0.0063095734448019285', 'TRIAL_START 711 | FarLowNarrow | 0.019952623149688792', 'TRIAL_START 73 | FarHighNarrow | 0.0063095734448019285', 'TRIAL_END 754 | FarLowNarrow | 0.01584893192461113', 'TRIAL_END 293 | FarLowWide | 0.015848931924611127', 'TRIAL_START 570 | FarHighNarrow | 0.006309573444801929', 'TRIAL_END 358 | FarHighWide | 0.009999999999999997', 'TRIAL_START 523 | Constant | 0.015848931924611127', 'TRIAL_END 220 | Constant | 0.009999999999999995', 'TRIAL_END 61 | FarLowWide | 0.01995262314968879', 'TRIAL_END 932 | FarHighNarrow | 0.019952623149688792', 'TRIAL_START 246 | FarHighNarrow | 0.00398107170553497', 'TRIAL_START 1189 | FarLowWide | 0.025118864315095794', 'TRIAL_END 916 | FarLowNarrow | 0.01584893192461113', 'TRIAL_END 766 | ThreeLinesControl | 0.015848931924611127', 'TRIAL_END 189 | FarLowNarrow | 0.00794328234724281', 'TRIAL_END 618 | FarLowWide | 0.031622776601683784', 'TRIAL_END 210 | FarHighWide | 0.002511886431509578', 'TRIAL_START 684 | FarHighWide | 0.007943282347242812', 'TRIAL_START 987 | FarHighNarrow | 0.01584893192461113', 'TRIAL_START 932 | FarHighNarrow | 0.019952623149688792', 'TRIAL_START 110 | FarHighNarrow | 0.009999999999999995', 'TRIAL_END 47 | ThreeLinesControl | 0.015848931924611127', 'TRIAL_END 174 | FarHighNarrow_null | 0.05011872336272722', 'TRIAL_END 1042 | ThreeLinesControl | 0.015848931924611127', 'TRIAL_END 431 | Constant | 0.015848931924611127', 'TRIAL_END 1119 | FarHighNarrow | 0.012589254117941668', 'TRIAL_START 311 | ThreeLinesControl | 0.012589254117941666', 'TRIAL_START 434 | Constant | 0.012589254117941666', 'TRIAL_START 1197 | FarLowWide | 0.025118864315095794', 'TRIAL_END 156 | FarLowNarrow_null | 0.031622776601683784', 'TRIAL_END 1047 | FarHighNarrow | 0.01584893192461113', 'TRIAL_START 23 | Constant | 0.03981071705534971', 'TRIAL_START 1031 | FarLowNarrow | 0.01584893192461113', 'TRIAL_END 927 | ThreeLinesControl | 0.025118864315095794', 'TRIAL_END 588 | FarHighNarrow | 0.007943282347242812', 'TRIAL_START 816 | FarHighWide | 0.012589254117941668', 'TRIAL_END 62 | ThreeLinesControl | 0.012589254117941666', 'TRIAL_END 770 | FarHighNarrow | 0.009999999999999997', 'TRIAL_START 56 | Constant | 0.01995262314968879', 'TRIAL_START 903 | Constant | 0.015848931924611127', 'TRIAL_END 612 | FarLowWide | 0.03981071705534971', 'TRIAL_END 893 | FarHighWide_null | 0.031622776601683784', 'TRIAL_START 847 | FarLowWide | 0.015848931924611127', 'TRIAL_START 98 | Constant | 0.009999999999999995', 'TRIAL_END 292 | FarHighNarrow | 0.006309573444801929', 'TRIAL_START 779 | Constant | 0.012589254117941666', 'TRIAL_START 1022 | FarLowNarrow | 0.012589254117941668', 'TRIAL_START 399 | FarHighNarrow | 0.00398107170553497', 'TRIAL_END 285 | FarHighWide | 0.006309573444801929', 'TRIAL_START 562 | FarHighNarrow | 0.00398107170553497', 'TRIAL_END 318 | Constant | 0.009999999999999995', 'TRIAL_END 550 | FarHighWide | 0.007943282347242812', 'TRIAL_START 522 | FarHighNarrow | 0.012589254117941668', 'TRIAL_END 845 | FarLowWide | 0.01995262314968879', 'TRIAL_END 436 | FarHighWide | 0.006309573444801929', 'TRIAL_END 67 | Constant | 0.009999999999999995', 'TRIAL_START 1180 | FarHighNarrow | 0.012589254117941668', 'TRIAL_END 205 | ThreeLinesControl | 0.009999999999999995', 'TRIAL_START 95 | FarHighWide | 0.0063095734448019285', 'TRIAL_END 968 | ThreeLinesControl | 0.015848931924611127', 'TRIAL_END 1136 | FarLowNarrow | 0.01584893192461113', 'TRIAL_START 333 | ThreeLinesControl | 0.015848931924611127', 'TRIAL_START 134 | FarHighWide | 0.0063095734448019285', 'TRIAL_END 914 | FarLowNarrow | 0.019952623149688792', 'TRIAL_START 416 | FarHighWide | 0.006309573444801929', 'TRIAL_START 229 | FarLowNarrow | 0.00794328234724281', 'TRIAL_START 835 | Constant | 0.012589254117941666', 'TRIAL_START 1053 | FarLowNarrow | 0.012589254117941668', 'TRIAL_START 312 | FarLowWide | 0.012589254117941666', 'TRIAL_START 961 | FarLowNarrow | 0.01584893192461113', 'TRIAL_END 437 | ThreeLinesControl | 0.012589254117941666', 'TRIAL_END 1131 | FarHighWide_null | 0.0063095734448019285', 'TRIAL_END 1193 | FarLowWide | 0.02511886431509579', 'TRIAL_END 1022 | FarLowNarrow | 0.012589254117941668', 'TRIAL_END 778 | FarHighWide | 0.01584893192461113', 'TRIAL_START 537 | ThreeLinesControl | 0.015848931924611127', 'TRIAL_START 123 | FarHighNarrow_null | 0.07943282347242815', 'TRIAL_END 841 | Constant | 0.009999999999999995', 'TRIAL_END 186 | FarLowNarrow | 0.0063095734448019285', 'TRIAL_START 639 | FarLowWide | 0.01995262314968879', 'TRIAL_START 112 | Constant | 0.009999999999999995', 'TRIAL_END 22 | FarLowNarrow | 0.06309573444801932', 'TRIAL_START 21 | ThreeLinesControl | 0.07943282347242815', 'TRIAL_START 477 | ThreeLinesControl | 0.01995262314968879', 'TRIAL_END 524 | FarHighWide | 0.012589254117941668', 'TRIAL_END 1014 | Constant | 0.012589254117941666', 'TRIAL_START 388 | FarLowWide | 0.015848931924611127', 'TRIAL_END 940 | FarHighNarrow | 0.01584893192461113', 'TRIAL_END 881 | FarLowWide | 0.015848931924611127', 'TRIAL_START 265 | Constant | 0.009999999999999995', 'TRIAL_START 650 | ThreeLinesControl | 0.012589254117941666', 'TRIAL_END 1196 | FarLowWide | 0.01995262314968879', 'TRIAL_END 1037 | FarLowWide | 0.01995262314968879', 'TRIAL_END 357 | FarLowNarrow | 0.009999999999999997', 'TRIAL_START 1190 | FarLowWide | 0.01995262314968879', 'TRIAL_START 250 | FarLowNarrow | 0.009999999999999995', 'TRIAL_START 543 | FarHighWide | 0.006309573444801929', 'TRIAL_START 145 | Constant | 0.015848931924611127', 'TRIAL_END 516 | Constant | 0.012589254117941666', 'TRIAL_END 570 | FarHighNarrow | 0.006309573444801929', 'TRIAL_END 313 | Constant | 0.00794328234724281', 'TRIAL_START 662 | FarLowNarrow | 0.012589254117941668', 'TRIAL_END 522 | FarHighNarrow | 0.012589254117941668', 'TRIAL_END 495 | Constant | 0.009999999999999995', 'TRIAL_START 163 | FarLowNarrow | 0.0063095734448019285', 'TRIAL_END 79 | Constant | 0.00794328234724281', 'TRIAL_END 125 | ThreeLinesControl | 0.0063095734448019285', 'TRIAL_END 410 | ThreeLinesControl | 0.012589254117941666', 'TRIAL_START 617 | Constant | 0.012589254117941666', 'TRIAL_START 904 | FarHighWide | 0.01584893192461113', 'TRIAL_START 798 | Constant | 0.015848931924611127', 'TRIAL_START 813 | FarHighNarrow | 0.01584893192461113', 'TRIAL_START 968 | ThreeLinesControl | 0.015848931924611127', 'TRIAL_START 563 | FarLowNarrow_null | 0.0063095734448019285', 'TRIAL_END 1004 | FarHighNarrow | 0.01584893192461113', 'TRIAL_START 1054 | FarLowNarrow | 0.01584893192461113', 'TRIAL_START 568 | FarLowWide | 0.025118864315095794', 'TRIAL_END 931 | FarLowWide | 0.01995262314968879', 'TRIAL_END 396 | FarLowNarrow | 0.012589254117941668', 'TRIAL_END 711 | FarLowNarrow | 0.019952623149688792', 'TRIAL_START 884 | FarLowNarrow | 0.012589254117941668', 'TRIAL_START 81 | FarLowWide | 0.012589254117941666', 'TRIAL_START 500 | ThreeLinesControl | 0.015848931924611127', 'TRIAL_START 1018 | FarHighWide | 0.012589254117941668', 'TRIAL_START 185 | ThreeLinesControl | 0.0063095734448019285', 'TRIAL_START 1171 | FarHighNarrow | 0.01584893192461113', 'TRIAL_END 975 | FarHighWide | 0.012589254117941668', 'TRIAL_END 1166 | FarHighWide | 0.012589254117941668', 'TRIAL_END 272 | FarHighWide_null | 0.1', 'TRIAL_START 555 | FarHighNarrow | 0.006309573444801929', 'TRIAL_END 562 | FarHighNarrow | 0.00398107170553497', 'TRIAL_START 660 | FarHighNarrow | 0.012589254117941668', 'TRIAL_START 577 | FarLowNarrow | 0.012589254117941668', 'TRIAL_END 1035 | ThreeLinesControl | 0.01995262314968879', 'TRIAL_END 485 | FarHighWide | 0.007943282347242812', 'TRIAL_END 986 | Constant | 0.015848931924611127', 'TRIAL_END 297 | FarHighNarrow | 0.007943282347242812', 'TRIAL_START 839 | FarHighWide | 0.009999999999999997', 'TRIAL_START 687 | FarLowWide | 0.012589254117941666', 'TRIAL_START 602 | FarHighNarrow | 0.012589254117941668', 'TRIAL_END 673 | FarHighWide | 0.007943282347242812', 'TRIAL_END 904 | FarHighWide | 0.01584893192461113', 'TRIAL_END 135 | FarLowNarrow | 0.00794328234724281', 'TRIAL_START 427 | ThreeLinesControl | 0.009999999999999995', 'TRIAL_END 164 | FarLowNarrow | 0.00794328234724281', 'TRIAL_END 576 | FarLowWide | 0.025118864315095794', 'TRIAL_END 63 | FarHighNarrow | 0.00794328234724281', 'TRIAL_END 59 | Constant | 0.015848931924611127', 'TRIAL_START 521 | ThreeLinesControl | 0.015848931924611127', 'TRIAL_END 1019 | FarHighWide | 0.01584893192461113', 'TRIAL_END 253 | FarHighNarrow | 0.00501187233627272', 'TRIAL_START 872 | Constant | 0.012589254117941666', 'TRIAL_START 1041 | FarHighWide | 0.012589254117941668', 'TRIAL_START 834 | Constant | 0.009999999999999995', 'TRIAL_START 244 | Constant | 0.00794328234724281', 'TRIAL_END 1006 | ThreeLinesControl | 0.015848931924611127', 'TRIAL_START 878 | FarHighWide | 0.01584893192461113', 'TRIAL_START 1003 | FarHighWide | 0.009999999999999997', 'TRIAL_END 698 | FarHighWide | 0.01584893192461113', 'TRIAL_START 1107 | FarLowNarrow | 0.01584893192461113', 'TRIAL_END 35 | ThreeLinesControl | 0.031622776601683784', 'TRIAL_END 1038 | FarLowNarrow | 0.019952623149688792', 'TRIAL_END 647 | FarHighWide | 0.01584893192461113', 'TRIAL_END 808 | Constant | 0.015848931924611127', 'TRIAL_START 298 | Constant | 0.009999999999999995', 'TRIAL_END 991 | ThreeLinesControl | 0.015848931924611127', 'TRIAL_START 823 | FarHighNarrow | 0.01584893192461113', 'TRIAL_END 783 | FarLowWide | 0.015848931924611127', 'TRIAL_START 1179 | FarHighNarrow | 0.009999999999999997', 'TRIAL_END 1145 | FarHighNarrow | 0.01584893192461113', 'TRIAL_END 870 | Constant_null | 0.0015848931924611121', 'TRIAL_END 1044 | FarHighNarrow | 0.012589254117941668', 'TRIAL_START 1023 | FarLowWide | 0.02511886431509579', 'TRIAL_END 688 | Constant | 0.012589254117941666', 'TRIAL_END 666 | Constant | 0.009999999999999995', 'TRIAL_END 578 | Constant | 0.015848931924611127', 'TRIAL_END 42 | ThreeLinesControl | 0.01995262314968879', 'TRIAL_END 840 | FarLowNarrow | 0.01584893192461113', 'TRIAL_END 594 | Constant_null | 0.009999999999999995', 'TRIAL_START 510 | FarHighWide | 0.01584893192461113', 'TRIAL_START 470 | Constant | 0.009999999999999995', 'TRIAL_END 78 | FarHighWide | 0.009999999999999995', 'TRIAL_END 936 | FarLowNarrow | 0.012589254117941668', 'TRIAL_END 40 | FarHighWide | 0.02511886431509579', 'TRIAL_START 1106 | FarLowWide | 0.0063095734448019285', 'TRIAL_END 672 | FarLowNarrow | 0.025118864315095798', 'TRIAL_END 126 | ThreeLinesControl | 0.00794328234724281', 'TRIAL_END 308 | FarLowNarrow | 0.00398107170553497', 'TRIAL_START 125 | ThreeLinesControl | 0.0063095734448019285', 'TRIAL_START 1026 | FarLowNarrow | 0.01584893192461113', 'TRIAL_END 490 | FarHighNarrow | 0.01584893192461113', 'TRIAL_START 324 | FarLowNarrow | 0.00501187233627272', 'TRIAL_START 679 | FarHighNarrow | 0.01584893192461113', 'TRIAL_START 111 | FarHighNarrow | 0.00794328234724281', 'TRIAL_START 769 | ThreeLinesControl | 0.009999999999999995', 'TRIAL_END 92 | ThreeLinesControl | 0.012589254117941666', 'TRIAL_END 192 | ThreeLinesControl | 0.00794328234724281', 'TRIAL_START 855 | FarHighWide | 0.012589254117941668', 'TRIAL_START 53 | FarHighNarrow | 0.009999999999999995', 'TRIAL_START 1090 | FarLowWide_null | 0.00398107170553497', 'TRIAL_START 1158 | FarLowWide | 0.01995262314968879', 'TRIAL_START 1088 | FarLowNarrow | 0.012589254117941668', 'TRIAL_START 805 | FarLowWide | 0.01995262314968879', 'TRIAL_END 853 | Constant | 0.009999999999999995', 'TRIAL_END 344 | Constant | 0.00794328234724281', 'TRIAL_START 62 | ThreeLinesControl | 0.012589254117941666', 'TRIAL_END 667 | ThreeLinesControl | 0.009999999999999995', 'TRIAL_END 268 | FarLowWide | 0.012589254117941666', 'TRIAL_START 951 | FarLowWide | 0.025118864315095794', 'TRIAL_END 1054 | FarLowNarrow | 0.01584893192461113', 'TRIAL_START 118 | FarLowNarrow | 0.00794328234724281', 'TRIAL_START 1172 | FarHighNarrow | 0.012589254117941668', 'TRIAL_END 116 | FarHighWide_null | 0.07943282347242815', 'TRIAL_END 441 | ThreeLinesControl | 0.01995262314968879', 'TRIAL_START 791 | FarLowWide | 0.01995262314968879', 'TRIAL_END 1070 | FarHighWide | 0.01584893192461113', 'TRIAL_START 1105 | FarLowWide_null | 0.0031622776601683772', 'TRIAL_START 997 | FarHighNarrow | 0.012589254117941668', 'TRIAL_START 572 | FarHighWide | 0.01584893192461113', 'TRIAL_START 526 | ThreeLinesControl_null | 0.01995262314968879', 'TRIAL_END 749 | ThreeLinesControl | 0.012589254117941666', 'TRIAL_END 1086 | FarLowWide | 0.015848931924611127', 'TRIAL_START 1184 | FarLowWide | 0.01995262314968879', 'TRIAL_START 168 | FarHighNarrow | 0.00794328234724281', 'TRIAL_END 36 | Constant | 0.031622776601683784', 'TRIAL_START 433 | ThreeLinesControl | 0.009999999999999995', 'TRIAL_START 506 | ThreeLinesControl | 0.015848931924611127', 'TRIAL_START 615 | FarHighNarrow | 0.01584893192461113', 'TRIAL_START 658 | FarLowNarrow | 0.01584893192461113', 'TRIAL_START 941 | Constant | 0.015848931924611127', 'TRIAL_END 385 | FarHighWide | 0.007943282347242812', 'TRIAL_END 499 | Constant | 0.012589254117941666', 'TRIAL_END 671 | ThreeLinesControl | 0.009999999999999995', 'TRIAL_START 912 | ThreeLinesControl | 0.01995262314968879', 'TRIAL_END 528 | Constant | 0.012589254117941666', 'TRIAL_START 918 | FarHighNarrow_null | 0.0031622776601683772', 'TRIAL_START 867 | FarLowNarrow | 0.012589254117941668', 'TRIAL_START 1193 | FarLowWide | 0.02511886431509579', 'TRIAL_END 121 | FarHighNarrow | 0.0063095734448019285', 'TRIAL_START 829 | FarLowWide_null | 0.012589254117941666', 'TRIAL_START 1020 | FarLowNarrow | 0.01584893192461113', 'TRIAL_END 739 | Constant | 0.012589254117941666', 'TRIAL_START 407 | FarHighNarrow_null | 0.02511886431509579', 'TRIAL_START 509 | ThreeLinesControl | 0.012589254117941666', 'TRIAL_START 919 | FarLowWide | 0.009999999999999995', 'TRIAL_START 1030 | FarHighWide | 0.012589254117941668', 'TRIAL_END 215 | FarHighWide | 0.0031622776601683772', 'TRIAL_END 496 | FarHighNarrow | 0.01584893192461113', 'TRIAL_START 135 | FarLowNarrow | 0.00794328234724281', 'TRIAL_START 1142 | FarHighNarrow | 0.012589254117941668', 'TRIAL_START 533 | ThreeLinesControl | 0.012589254117941666', 'TRIAL_START 883 | Constant | 0.009999999999999995', 'TRIAL_END 1181 | FarLowWide | 0.015848931924611127', 'TRIAL_END 993 | FarHighWide | 0.009999999999999997', 'TRIAL_END 833 | ThreeLinesControl | 0.009999999999999995', 'TRIAL_END 1009 | ThreeLinesControl | 0.012589254117941666', 'TRIAL_START 719 | Constant | 0.009999999999999995', 'TRIAL_START 1082 | FarHighWide | 0.012589254117941668', 'TRIAL_START 91 | FarHighWide | 0.00794328234724281', 'TRIAL_START 1008 | FarHighWide | 0.01584893192461113', 'TRIAL_START 299 | ThreeLinesControl | 0.0063095734448019285', 'TRIAL_START 108 | FarLowNarrow | 0.00794328234724281', 'TRIAL_END 990 | ThreeLinesControl | 0.012589254117941666', 'TRIAL_END 785 | FarLowNarrow | 0.019952623149688792', 'TRIAL_END 229 | FarLowNarrow | 0.00794328234724281', 'TRIAL_END 140 | ThreeLinesControl_null | 0.05011872336272722', 'TRIAL_START 532 | FarHighNarrow | 0.009999999999999997', 'TRIAL_START 527 | FarLowWide | 0.01995262314968879', 'TRIAL_START 981 | FarLowNarrow | 0.01584893192461113', 'TRIAL_END 871 | ThreeLinesControl | 0.015848931924611127', 'TRIAL_START 476 | FarHighNarrow | 0.012589254117941668', 'TRIAL_END 452 | FarLowWide | 0.009999999999999995', 'TRIAL_END 108 | FarLowNarrow | 0.00794328234724281', 'TRIAL_START 127 | FarHighNarrow | 0.00794328234724281', 'TRIAL_START 841 | Constant | 0.009999999999999995', 'TRIAL_END 449 | FarLowWide | 0.015848931924611127', 'TRIAL_START 648 | FarLowWide | 0.015848931924611127', 'TRIAL_END 1132 | FarLowNarrow | 0.012589254117941668', 'TRIAL_START 911 | FarHighNarrow | 0.019952623149688792', 'TRIAL_START 851 | ThreeLinesControl | 0.015848931924611127', 'TRIAL_END 254 | FarLowWide | 0.01995262314968879', 'TRIAL_END 448 | Constant | 0.00794328234724281', 'TRIAL_END 85 | FarLowNarrow | 0.00794328234724281', 'TRIAL_END 137 | ThreeLinesControl | 0.005011872336272719', 'TRIAL_START 166 | FarLowWide | 0.009999999999999995', 'TRIAL_END 163 | FarLowNarrow | 0.0063095734448019285', 'TRIAL_START 236 | ThreeLinesControl | 0.009999999999999995', 'TRIAL_END 90 | FarLowWide | 0.009999999999999995', 'TRIAL_END 572 | FarHighWide | 0.01584893192461113', 'TRIAL_END 48 | FarHighNarrow | 0.015848931924611127', 'TRIAL_END 810 | Constant_null | 0.0031622776601683772', 'TRIAL_START 956 | FarLowNarrow | 0.01584893192461113', 'TRIAL_START 554 | ThreeLinesControl | 0.01995262314968879', 'TRIAL_END 971 | FarHighNarrow | 0.019952623149688792', 'TRIAL_START 548 | ThreeLinesControl | 0.015848931924611127', 'TRIAL_END 394 | FarLowWide | 0.012589254117941666', 'TRIAL_END 367 | Constant | 0.012589254117941666', 'TRIAL_START 1160 | FarHighNarrow | 0.01584893192461113', 'TRIAL_START 1066 | FarLowWide | 0.015848931924611127', 'TRIAL_END 124 | FarLowNarrow | 0.00794328234724281', 'TRIAL_START 349 | Constant | 0.0063095734448019285', 'TRIAL_END 1127 | FarLowWide | 0.015848931924611127', 'TRIAL_START 989 | ThreeLinesControl | 0.009999999999999995', 'TRIAL_END 724 | Constant | 0.015848931924611127', 'TRIAL_END 408 | Constant | 0.015848931924611127', 'TRIAL_START 828 | FarHighNarrow | 0.01584893192461113', 'TRIAL_START 88 | Constant_null | 0.06309573444801932', 'TRIAL_END 1133 | FarLowWide | 0.015848931924611127', 'TRIAL_END 740 | FarLowNarrow | 0.01584893192461113', 'TRIAL_END 115 | FarLowWide | 0.012589254117941666', 'TRIAL_END 1137 | FarHighWide_null | 0.005011872336272719', 'TRIAL_END 716 | Constant_null | 0.0063095734448019285', 'TRIAL_START 530 | ThreeLinesControl_null | 0.015848931924611127', 'TRIAL_START 674 | FarHighWide_null | 0.05011872336272722', 'TRIAL_END 331 | FarLowWide | 0.012589254117941666', 'TRIAL_END 896 | ThreeLinesControl | 0.012589254117941666', 'TRIAL_END 1007 | FarHighNarrow | 0.019952623149688792', 'TRIAL_START 585 | Constant | 0.015848931924611127', 'TRIAL_START 463 | Constant_null | 0.015848931924611127', 'TRIAL_START 486 | FarLowNarrow_null | 0.00794328234724281', 'TRIAL_END 213 | Constant | 0.012589254117941666', 'TRIAL_START 574 | FarHighNarrow | 0.007943282347242812', 'TRIAL_END 979 | ThreeLinesControl | 0.012589254117941666', 'TRIAL_START 1183 | FarLowWide | 0.025118864315095794', 'TRIAL_END 559 | FarHighWide | 0.012589254117941668', 'TRIAL_END 762 | FarLowNarrow | 0.019952623149688792', 'TRIAL_START 190 | ThreeLinesControl | 0.009999999999999995', 'TRIAL_START 748 | FarLowNarrow | 0.012589254117941668', 'TRIAL_END 1041 | FarHighWide | 0.012589254117941668', 'TRIAL_START 690 | FarLowWide | 0.015848931924611127', 'TRIAL_START 502 | FarHighWide | 0.009999999999999997', 'TRIAL_END 304 | FarLowWide | 0.009999999999999995', 'TRIAL_END 593 | ThreeLinesControl | 0.015848931924611127', 'TRIAL_END 628 | FarLowNarrow | 0.009999999999999997', 'TRIAL_START 301 | ThreeLinesControl | 0.00794328234724281', 'TRIAL_START 794 | FarLowNarrow | 0.03981071705534973', 'TRIAL_START 83 | ThreeLinesControl | 0.01995262314968879', 'TRIAL_END 243 | FarLowWide | 0.01995262314968879', 'TRIAL_END 305 | Constant | 0.00794328234724281', 'TRIAL_START 429 | FarLowNarrow_null | 0.009999999999999995', 'TRIAL_END 737 | FarLowWide | 0.025118864315095794', 'TRIAL_END 176 | FarLowWide | 0.015848931924611127', 'TRIAL_END 363 | FarLowNarrow | 0.01584893192461113', 'TRIAL_START 901 | FarLowNarrow | 0.012589254117941668', 'TRIAL_END 54 | Constant | 0.02511886431509579', 'TRIAL_START 266 | FarHighWide | 0.006309573444801929', 'TRIAL_END 814 | FarLowWide | 0.012589254117941666', 'TRIAL_START 327 | Constant | 0.0063095734448019285', 'TRIAL_END 1194 | FarLowWide | 0.031622776601683784', 'TRIAL_START 865 | FarLowNarrow | 0.01584893192461113', 'TRIAL_START 223 | Constant | 0.00794328234724281', 'TRIAL_END 150 | FarHighNarrow | 0.0063095734448019285', 'TRIAL_START 621 | Constant | 0.009999999999999995', 'TRIAL_END 391 | FarHighWide | 0.007943282347242812', 'TRIAL_START 1083 | FarLowWide | 0.025118864315095794', 'TRIAL_END 393 | Constant | 0.009999999999999995', 'TRIAL_START 1040 | FarHighNarrow | 0.012589254117941668', 'TRIAL_START 261 | FarHighWide | 0.007943282347242812', 'TRIAL_START 1037 | FarLowWide | 0.01995262314968879', 'TRIAL_START 699 | Constant | 0.015848931924611127', 'TRIAL_START 644 | FarLowWide | 0.015848931924611127', 'TRIAL_START 1173 | FarHighWide_null | 0.002511886431509578', 'TRIAL_END 161 | FarLowWide | 0.012589254117941666', 'TRIAL_START 303 | FarLowNarrow | 0.005011872336272719', 'TRIAL_START 155 | FarHighNarrow | 0.00794328234724281', 'TRIAL_END 415 | FarHighNarrow | 0.00501187233627272', 'TRIAL_END 923 | FarLowWide | 0.012589254117941666', 'TRIAL_START 86 | FarHighWide | 0.00794328234724281', 'TRIAL_END 555 | FarHighNarrow | 0.006309573444801929', 'TRIAL_START 372 | Constant | 0.015848931924611127', 'TRIAL_START 432 | FarHighWide | 0.007943282347242812', 'TRIAL_START 712 | Constant_null | 0.00794328234724281', 'TRIAL_START 714 | FarHighNarrow | 0.009999999999999997', 'TRIAL_END 548 | ThreeLinesControl | 0.015848931924611127', 'TRIAL_START 107 | FarLowNarrow | 0.0063095734448019285', 'TRIAL_START 833 | ThreeLinesControl | 0.009999999999999995', 'TRIAL_START 381 | Constant_null | 0.01995262314968879', 'TRIAL_END 417 | Constant | 0.015848931924611127', 'TRIAL_START 150 | FarHighNarrow | 0.0063095734448019285', 'TRIAL_START 1148 | FarHighNarrow | 0.012589254117941668', 'TRIAL_END 613 | Constant | 0.009999999999999995', 'TRIAL_END 21 | ThreeLinesControl | 0.07943282347242815', 'TRIAL_END 288 | FarHighNarrow | 0.007943282347242812', 'TRIAL_START 892 | FarHighWide | 0.012589254117941668', 'TRIAL_END 290 | Constant | 0.00794328234724281', 'TRIAL_START 478 | FarLowWide | 0.012589254117941666', 'TRIAL_START 204 | FarLowWide | 0.015848931924611127', 'TRIAL_END 1065 | FarHighWide_null | 0.009999999999999995', 'TRIAL_START 40 | FarHighWide | 0.02511886431509579', 'TRIAL_END 655 | FarLowNarrow | 0.01584893192461113', 'TRIAL_END 93 | Constant | 0.00794328234724281', 'TRIAL_START 175 | FarHighWide | 0.006309573444801929', 'TRIAL_END 143 | FarHighNarrow_null | 0.07943282347242814', 'TRIAL_START 575 | FarHighNarrow | 0.006309573444801929', 'TRIAL_START 90 | FarLowWide | 0.009999999999999995', 'TRIAL_END 372 | Constant | 0.015848931924611127', 'TRIAL_START 579 | FarHighWide | 0.012589254117941668', 'TRIAL_END 1129 | FarLowWide | 0.012589254117941666', 'TRIAL_START 132 | ThreeLinesControl_null | 0.06309573444801932', 'TRIAL_START 222 | FarLowWide_null | 0.06309573444801932', 'TRIAL_START 995 | FarHighWide | 0.009999999999999997', 'TRIAL_START 942 | Constant | 0.01995262314968879', 'TRIAL_END 547 | Constant | 0.012589254117941666', 'TRIAL_END 818 | ThreeLinesControl_null | 0.0063095734448019285', 'TRIAL_START 497 | FarHighWide | 0.009999999999999997', 'TRIAL_END 640 | FarHighWide | 0.01584893192461113', 'TRIAL_END 623 | Constant | 0.012589254117941666', 'TRIAL_END 325 | FarLowWide | 0.015848931924611127', 'TRIAL_START 757 | ThreeLinesControl | 0.012589254117941666', 'TRIAL_END 1198 | FarLowWide | 0.01995262314968879', 'TRIAL_END 435 | FarHighNarrow | 0.007943282347242812', 'TRIAL_END 1130 | FarHighNarrow | 0.019952623149688792', 'TRIAL_START 240 | FarLowWide | 0.015848931924611127', 'TRIAL_END 645 | FarLowWide | 0.012589254117941666', 'TRIAL_END 1036 | FarLowWide_null | 0.009999999999999995', 'TRIAL_END 64 | FarHighNarrow | 0.0063095734448019285', 'TRIAL_START 1116 | FarHighNarrow | 0.012589254117941668', 'TRIAL_END 960 | FarHighNarrow | 0.01584893192461113', 'TRIAL_END 515 | FarHighWide | 0.012589254117941668', 'TRIAL_START 729 | FarHighNarrow | 0.006309573444801929', 'TRIAL_END 691 | Constant | 0.009999999999999995', 'TRIAL_END 265 | Constant | 0.009999999999999995', 'TRIAL_START 597 | FarLowNarrow_null | 0.005011872336272719', 'TRIAL_END 347 | ThreeLinesControl | 0.012589254117941666', 'TRIAL_END 158 | FarHighWide | 0.005011872336272719', 'TRIAL_START 1138 | FarHighNarrow | 0.01584893192461113', 'TRIAL_END 529 | Constant | 0.009999999999999995', 'TRIAL_END 827 | FarLowWide | 0.015848931924611127', 'TRIAL_END 945 | FarHighWide | 0.019952623149688792', 'TRIAL_END 742 | FarLowNarrow | 0.012589254117941668', 'TRIAL_START 880 | FarHighWide | 0.012589254117941668', 'TRIAL_END 843 | FarLowNarrow_null | 0.001995262314968878', 'TRIAL_START 453 | FarHighWide | 0.00398107170553497', 'TRIAL_START 1051 | ThreeLinesControl | 0.012589254117941666', 'TRIAL_START 436 | FarHighWide | 0.006309573444801929', 'TRIAL_END 234 | FarLowNarrow | 0.009999999999999995', 'TRIAL_START 634 | Constant | 0.012589254117941666', 'TRIAL_END 869 | FarHighNarrow_null | 0.005011872336272719', 'TRIAL_START 161 | FarLowWide | 0.012589254117941666', 'TRIAL_END 565 | FarHighWide | 0.012589254117941668', 'TRIAL_END 1124 | FarLowWide | 0.012589254117941666', 'TRIAL_START 106 | FarHighNarrow_null | 0.1', 'TRIAL_END 694 | ThreeLinesControl_null | 0.009999999999999995', 'TRIAL_END 377 | FarHighWide | 0.012589254117941668', 'TRIAL_END 1161 | FarLowWide | 0.01995262314968879', 'TRIAL_END 1076 | FarLowWide_null | 0.005011872336272719', 'TRIAL_END 261 | FarHighWide | 0.007943282347242812', 'TRIAL_START 811 | ThreeLinesControl | 0.015848931924611127', 'TRIAL_START 1009 | ThreeLinesControl | 0.012589254117941666', 'TRIAL_START 328 | FarHighWide | 0.007943282347242812', 'TRIAL_END 98 | Constant | 0.009999999999999995', 'TRIAL_START 414 | FarHighNarrow_null | 0.01995262314968879', 'TRIAL_END 10 | FarHighNarrow | 0.06309573444801932', 'TRIAL_START 705 | Constant | 0.012589254117941666', 'TRIAL_START 738 | FarHighWide | 0.012589254117941668', 'TRIAL_START 744 | Constant | 0.015848931924611127', 'TRIAL_START 1118 | FarHighWide | 0.01584893192461113', 'TRIAL_START 859 | Constant | 0.012589254117941666', 'TRIAL_END 637 | FarHighNarrow | 0.012589254117941668', 'TRIAL_START 913 | FarLowNarrow | 0.025118864315095798', 'TRIAL_END 948 | FarLowNarrow | 0.019952623149688792', 'TRIAL_START 856 | FarLowWide | 0.015848931924611127', 'TRIAL_START 1034 | FarLowNarrow | 0.01584893192461113', 'TRIAL_START 84 | Constant | 0.0063095734448019285', 'TRIAL_START 409 | FarLowNarrow | 0.012589254117941668', 'TRIAL_END 1199 | FarHighWide_null | 0.001995262314968878', 'TRIAL_START 89 | FarHighWide | 0.0063095734448019285', 'TRIAL_END 227 | FarLowWide_null | 0.05011872336272722', 'TRIAL_START 871 | ThreeLinesControl | 0.015848931924611127', 'TRIAL_END 337 | ThreeLinesControl | 0.009999999999999995', 'TRIAL_START 1060 | FarLowWide_null | 0.00794328234724281', 'TRIAL_END 221 | ThreeLinesControl | 0.015848931924611127', 'TRIAL_START 489 | FarLowNarrow | 0.012589254117941668', 'TRIAL_START 499 | Constant | 0.012589254117941666', 'TRIAL_START 609 | FarHighWide | 0.019952623149688792', 'TRIAL_START 1015 | FarLowNarrow | 0.01584893192461113', 'TRIAL_END 553 | FarLowNarrow | 0.009999999999999997', 'TRIAL_START 490 | FarHighNarrow | 0.01584893192461113', 'TRIAL_END 511 | ThreeLinesControl | 0.015848931924611127', 'TRIAL_START 119 | Constant | 0.012589254117941666', 'TRIAL_END 400 | ThreeLinesControl | 0.012589254117941666', 'TRIAL_END 610 | FarHighNarrow | 0.019952623149688792', 'TRIAL_START 74 | FarHighWide | 0.012589254117941666', 'TRIAL_START 85 | FarLowNarrow | 0.00794328234724281', 'TRIAL_START 282 | FarLowNarrow | 0.00794328234724281', 'TRIAL_START 354 | ThreeLinesControl | 0.015848931924611127', 'TRIAL_START 724 | Constant | 0.015848931924611127', 'TRIAL_END 256 | FarLowNarrow | 0.0063095734448019285', 'TRIAL_END 1084 | FarLowWide | 0.01995262314968879', 'TRIAL_END 878 | FarHighWide | 0.01584893192461113', 'TRIAL_END 942 | Constant | 0.01995262314968879', 'TRIAL_START 94 | ThreeLinesControl | 0.009999999999999995', 'TRIAL_END 494 | Constant | 0.012589254117941666', 'TRIAL_START 589 | FarLowWide | 0.025118864315095794', 'TRIAL_START 902 | FarLowNarrow | 0.01584893192461113', 'TRIAL_START 528 | Constant | 0.012589254117941666', 'TRIAL_END 31 | FarLowWide | 0.07943282347242815', 'TRIAL_END 903 | Constant | 0.015848931924611127', 'TRIAL_END 862 | FarLowNarrow | 0.012589254117941668', 'TRIAL_START 501 | FarHighWide | 0.007943282347242812', 'TRIAL_START 52 | ThreeLinesControl | 0.015848931924611127', 'TRIAL_START 761 | FarLowWide | 0.025118864315095794', 'TRIAL_START 986 | Constant | 0.015848931924611127', 'TRIAL_END 406 | ThreeLinesControl | 0.009999999999999995', 'TRIAL_START 967 | ThreeLinesControl | 0.01995262314968879', 'TRIAL_END 474 | ThreeLinesControl_null | 0.02511886431509579', 'TRIAL_START 1013 | ThreeLinesControl | 0.015848931924611127', 'TRIAL_START 359 | FarHighWide | 0.012589254117941668', 'TRIAL_END 45 | FarLowNarrow | 0.02511886431509579', 'TRIAL_END 1122 | FarHighWide | 0.012589254117941668', 'TRIAL_START 768 | ThreeLinesControl | 0.012589254117941666', 'TRIAL_START 382 | FarLowWide | 0.012589254117941666', 'TRIAL_END 1095 | FarHighNarrow | 0.025118864315095798', 'fixation', 'TRIAL_START 685 | FarLowWide | 0.015848931924611127', 'TRIAL_END 202 | FarHighNarrow | 0.002511886431509578', 'TRIAL_END 18 | FarLowNarrow | 0.07943282347242815', 'TRIAL_START 191 | FarHighWide | 0.00398107170553497', 'TRIAL_END 654 | FarHighWide | 0.009999999999999997', 'TRIAL_START 7 | Constant_null | 0.1', 'TRIAL_END 622 | ThreeLinesControl | 0.015848931924611127', 'TRIAL_END 859 | Constant | 0.012589254117941666', 'TRIAL_END 114 | ThreeLinesControl | 0.00794328234724281', 'TRIAL_END 341 | FarHighNarrow | 0.007943282347242812', 'TRIAL_START 733 | Constant | 0.015848931924611127', 'TRIAL_END 532 | FarHighNarrow | 0.009999999999999997', 'TRIAL_END 1096 | FarHighWide_null | 0.00794328234724281', 'TRIAL_START 549 | FarHighNarrow | 0.007943282347242812', 'TRIAL_END 1170 | FarLowWide | 0.015848931924611127', 'TRIAL_END 80 | FarLowNarrow | 0.009999999999999995', 'TRIAL_END 1111 | FarLowNarrow | 0.012589254117941668', 'TRIAL_START 1188 | FarLowWide | 0.01995262314968879', 'TRIAL_END 663 | FarLowNarrow | 0.01584893192461113', 'TRIAL_START 1129 | FarLowWide | 0.012589254117941666', 'TRIAL_START 6 | FarHighNarrow | 0.07943282347242815', 'TRIAL_END 1079 | FarHighWide | 0.01584893192461113', 'TRIAL_START 552 | FarHighWide | 0.009999999999999997', 'TRIAL_END 66 | Constant | 0.012589254117941666', 'TRIAL_START 319 | FarHighWide | 0.006309573444801929', 'TRIAL_END 1099 | FarLowWide | 0.009999999999999995', 'TRIAL_END 851 | ThreeLinesControl | 0.015848931924611127', 'TRIAL_START 922 | ThreeLinesControl | 0.025118864315095794', 'TRIAL_START 512 | FarHighWide_null | 0.06309573444801932', 'TRIAL_START 50 | FarHighNarrow | 0.012589254117941666', 'TRIAL_END 11 | Constant | 0.07943282347242815', 'TRIAL_START 78 | FarHighWide | 0.009999999999999995', 'TRIAL_END 1026 | FarLowNarrow | 0.01584893192461113', 'TRIAL_START 623 | Constant | 0.012589254117941666', 'TRIAL_START 213 | Constant | 0.012589254117941666', 'TRIAL_END 929 | FarHighWide | 0.009999999999999997', 'TRIAL_END 247 | FarHighNarrow | 0.0031622776601683772', 'TRIAL_START 943 | FarHighWide | 0.01584893192461113', 'TRIAL_START 174 | FarHighNarrow_null | 0.05011872336272722', 'TRIAL_END 955 | FarLowNarrow | 0.019952623149688792', 'TRIAL_END 389 | FarLowNarrow_null | 0.015848931924611127', 'TRIAL_END 429 | FarLowNarrow_null | 0.009999999999999995', 'TRIAL_START 605 | ThreeLinesControl | 0.012589254117941666', 'TRIAL_START 306 | ThreeLinesControl | 0.012589254117941666', 'TRIAL_START 128 | ThreeLinesControl | 0.0063095734448019285', 'TRIAL_START 361 | FarHighWide_null | 0.07943282347242815', 'TRIAL_END 967 | ThreeLinesControl | 0.01995262314968879', 'TRIAL_START 481 | FarLowWide | 0.015848931924611127', 'TRIAL_END 571 | ThreeLinesControl | 0.01995262314968879', 'TRIAL_END 592 | FarLowNarrow | 0.009999999999999997', 'TRIAL_END 181 | FarHighNarrow | 0.00398107170553497', 'TRIAL_END 438 | ThreeLinesControl | 0.015848931924611127', 'TRIAL_START 1025 | FarHighWide_null | 0.01995262314968879', 'TRIAL_END 1049 | FarLowWide | 0.01995262314968879', 'TRIAL_END 434 | Constant | 0.012589254117941666', 'TRIAL_START 844 | FarHighNarrow | 0.01584893192461113', 'TRIAL_END 147 | Constant | 0.012589254117941666', 'TRIAL_START 1154 | FarHighWide | 0.01584893192461113', 'TRIAL_START 339 | FarLowNarrow_null | 0.025118864315095794', 'TRIAL_END 509 | ThreeLinesControl | 0.012589254117941666', 'TRIAL_START 1131 | FarHighWide_null | 0.0063095734448019285', 'TRIAL_START 1144 | FarLowWide | 0.01995262314968879', 'TRIAL_START 1127 | FarLowWide | 0.015848931924611127', 'TRIAL_END 233 | FarHighWide | 0.00501187233627272', 'TRIAL_END 1063 | ThreeLinesControl_null | 0.001995262314968878', 'TRIAL_START 389 | FarLowNarrow_null | 0.015848931924611127', 'TRIAL_START 608 | FarHighWide | 0.025118864315095798', 'TRIAL_END 743 | FarHighNarrow_null | 0.012589254117941666', 'TRIAL_START 637 | FarHighNarrow | 0.012589254117941668', 'TRIAL_END 648 | FarLowWide | 0.015848931924611127', 'TRIAL_END 1115 | FarHighNarrow | 0.01584893192461113', 'TRIAL_END 543 | FarHighWide | 0.006309573444801929', 'TRIAL_END 190 | ThreeLinesControl | 0.009999999999999995', 'TRIAL_START 441 | ThreeLinesControl | 0.01995262314968879', 'TRIAL_END 996 | FarHighNarrow_null | 0.001995262314968878', 'TRIAL_START 1096 | FarHighWide_null | 0.00794328234724281', 'TRIAL_START 435 | FarHighNarrow | 0.007943282347242812', 'TRIAL_END 138 | FarHighWide | 0.005011872336272719', 'TRIAL_END 701 | FarLowWide | 0.01995262314968879', 'TRIAL_START 1199 | FarHighWide_null | 0.001995262314968878', 'TRIAL_END 418 | ThreeLinesControl | 0.012589254117941666', 'TRIAL_END 55 | FarLowNarrow | 0.015848931924611127', 'TRIAL_END 327 | Constant | 0.0063095734448019285', 'TRIAL_START 821 | FarHighWide | 0.009999999999999997', 'TRIAL_START 1137 | FarHighWide_null | 0.005011872336272719', 'TRIAL_START 778 | FarHighWide | 0.01584893192461113', 'TRIAL_END 805 | FarLowWide | 0.01995262314968879', 'TRIAL_START 889 | ThreeLinesControl | 0.015848931924611127', 'TRIAL_START 326 | Constant | 0.00794328234724281', 'TRIAL_START 1063 | ThreeLinesControl_null | 0.001995262314968878', 'TRIAL_START 1165 | FarHighWide | 0.01584893192461113', 'TRIAL_START 895 | FarHighNarrow | 0.01584893192461113', 'TRIAL_END 311 | ThreeLinesControl | 0.012589254117941666', 'TRIAL_START 1150 | FarLowWide | 0.01995262314968879', 'TRIAL_START 159 | FarHighWide | 0.00398107170553497', 'TRIAL_END 178 | ThreeLinesControl | 0.0063095734448019285', 'TRIAL_END 1068 | FarLowNarrow | 0.012589254117941668', 'TRIAL_START 247 | FarHighNarrow | 0.0031622776601683772', 'TRIAL_END 650 | ThreeLinesControl | 0.012589254117941666', 'TRIAL_START 836 | FarLowNarrow | 0.019952623149688792', 'TRIAL_END 1016 | FarLowNarrow | 0.012589254117941668', 'TRIAL_END 713 | FarLowNarrow | 0.01584893192461113', 'TRIAL_END 704 | ThreeLinesControl | 0.01995262314968879', 'TRIAL_START 321 | FarLowWide | 0.01995262314968879', 'TRIAL_START 126 | ThreeLinesControl | 0.00794328234724281', 'TRIAL_START 665 | FarLowNarrow | 0.019952623149688792', 'TRIAL_START 799 | ThreeLinesControl_null | 0.00794328234724281', 'TRIAL_END 387 | FarHighWide | 0.006309573444801929', 'TRIAL_END 317 | Constant | 0.00794328234724281', 'TRIAL_START 544 | FarLowNarrow | 0.009999999999999997', 'TRIAL_END 326 | Constant | 0.00794328234724281', 'TRIAL_START 421 | FarLowNarrow_null | 0.012589254117941666', 'TRIAL_END 508 | FarLowWide | 0.01995262314968879', 'TRIAL_END 0 | FarHighNarrow | 0.1', 'TRIAL_START 158 | FarHighWide | 0.005011872336272719', 'TRIAL_END 428 | ThreeLinesControl_null | 0.03981071705534971', 'TRIAL_START 1006 | ThreeLinesControl | 0.015848931924611127', 'TRIAL_END 230 | Constant | 0.0063095734448019285', 'TRIAL_START 832 | Constant_null | 0.002511886431509578', 'TRIAL_START 1058 | FarHighWide_null | 0.015848931924611127', 'TRIAL_END 574 | FarHighNarrow | 0.007943282347242812', 'TRIAL_START 627 | Constant | 0.01995262314968879', 'TRIAL_START 256 | FarLowNarrow | 0.0063095734448019285', 'TRIAL_START 264 | FarHighNarrow | 0.00501187233627272', 'TRIAL_END 954 | ThreeLinesControl | 0.01995262314968879', 'TRIAL_END 687 | FarLowWide | 0.012589254117941666', 'TRIAL_END 421 | FarLowNarrow_null | 0.012589254117941666', 'TRIAL_START 992 | ThreeLinesControl | 0.012589254117941666', 'TRIAL_START 739 | Constant | 0.012589254117941666', 'TRIAL_START 503 | ThreeLinesControl | 0.012589254117941666', 'TRIAL_END 322 | FarLowWide_null | 0.03981071705534971', 'TRIAL_START 770 | FarHighNarrow | 0.009999999999999997', 'TRIAL_START 1162 | FarHighWide | 0.019952623149688792', 'TRIAL_START 237 | FarHighNarrow | 0.0031622776601683772', 'TRIAL_END 790 | FarLowNarrow | 0.025118864315095798', 'TRIAL_END 384 | Constant | 0.009999999999999995', 'TRIAL_END 992 | ThreeLinesControl | 0.012589254117941666', 'TRIAL_START 538 | FarHighWide | 0.009999999999999997', 'TRIAL_START 980 | Constant | 0.015848931924611127', 'TRIAL_END 1192 | FarLowWide | 0.031622776601683784', 'TRIAL_END 198 | FarHighNarrow | 0.0031622776601683772', 'TRIAL_END 689 | ThreeLinesControl | 0.012589254117941666', 'TRIAL_START 1032 | FarHighWide | 0.01584893192461113', 'TRIAL_START 928 | FarLowNarrow | 0.01584893192461113', 'TRIAL_END 890 | FarHighNarrow | 0.019952623149688792', 'TRIAL_START 742 | FarLowNarrow | 0.012589254117941668', 'TRIAL_END 26 | ThreeLinesControl | 0.05011872336272722', 'TRIAL_START 796 | FarLowNarrow | 0.03162277660168379', 'TRIAL_START 461 | FarHighNarrow | 0.012589254117941668', 'TRIAL_END 1102 | FarLowNarrow | 0.01584893192461113', 'TRIAL_START 1122 | FarHighWide | 0.012589254117941668', 'TRIAL_END 868 | Constant | 0.009999999999999995', 'TRIAL_START 797 | FarHighWide | 0.01584893192461113', 'TRIAL_END 1003 | FarHighWide | 0.009999999999999997', 'TRIAL_END 935 | Constant | 0.012589254117941666', 'TRIAL_END 29 | Constant_null | 0.07943282347242815', 'TRIAL_START 197 | Constant | 0.00794328234724281', 'TRIAL_START 1047 | FarHighNarrow | 0.01584893192461113', 'TRIAL_START 698 | FarHighWide | 0.01584893192461113', 'TRIAL_START 1057 | ThreeLinesControl | 0.015848931924611127', 'TRIAL_START 232 | Constant | 0.005011872336272719', 'TRIAL_END 924 | Constant | 0.015848931924611127', 'TRIAL_END 208 | FarHighNarrow | 0.0031622776601683772', 'TRIAL_START 610 | FarHighNarrow | 0.019952623149688792', 'TRIAL_END 427 | ThreeLinesControl | 0.009999999999999995', 'TRIAL_END 875 | FarLowNarrow | 0.012589254117941668', 'TRIAL_END 398 | FarLowWide | 0.015848931924611127', 'TRIAL_START 591 | FarHighWide | 0.025118864315095798', 'TRIAL_START 686 | FarHighNarrow | 0.009999999999999997', 'TRIAL_START 297 | FarHighNarrow | 0.007943282347242812', 'TRIAL_START 754 | FarLowNarrow | 0.01584893192461113', 'TRIAL_END 4 | ThreeLinesControl | 0.1', 'TRIAL_END 855 | FarHighWide | 0.012589254117941668', 'TRIAL_START 936 | FarLowNarrow | 0.012589254117941668', 'TRIAL_START 316 | FarLowWide | 0.015848931924611127', 'TRIAL_END 1197 | FarLowWide | 0.025118864315095794', 'TRIAL_START 103 | FarHighNarrow | 0.00794328234724281', 'TRIAL_END 259 | FarHighNarrow | 0.006309573444801929', 'TRIAL_END 653 | Constant | 0.009999999999999995', 'TRIAL_END 282 | FarLowNarrow | 0.00794328234724281', 'TRIAL_END 561 | ThreeLinesControl_null | 0.012589254117941666', 'TRIAL_END 1010 | Constant | 0.015848931924611127', 'TRIAL_END 23 | Constant | 0.03981071705534971', 'TRIAL_START 795 | ThreeLinesControl | 0.015848931924611127', 'TRIAL_START 454 | FarLowNarrow | 0.006309573444801929', 'TRIAL_END 152 | FarLowWide | 0.009999999999999995', 'TRIAL_START 488 | FarLowNarrow | 0.009999999999999997', 'TRIAL_START 404 | FarLowNarrow | 0.009999999999999997', 'TRIAL_END 20 | FarHighNarrow | 0.03981071705534971', 'TRIAL_END 403 | FarLowNarrow | 0.007943282347242812', 'TRIAL_START 10 | FarHighNarrow | 0.06309573444801932', 'TRIAL_END 483 | FarLowWide | 0.01995262314968879', 'TRIAL_END 965 | FarHighNarrow_null | 0.002511886431509578', 'TRIAL_START 34 | ThreeLinesControl | 0.03981071705534971', 'TRIAL_END 861 | ThreeLinesControl | 0.01995262314968879', 'TRIAL_END 1005 | FarHighWide | 0.012589254117941668', 'TRIAL_START 1141 | FarLowWide | 0.015848931924611127', 'TRIAL_END 527 | FarLowWide | 0.01995262314968879', 'TRIAL_START 208 | FarHighNarrow | 0.0031622776601683772', 'TRIAL_END 503 | ThreeLinesControl | 0.012589254117941666', 'TRIAL_END 472 | ThreeLinesControl | 0.025118864315095794', 'TRIAL_END 328 | FarHighWide | 0.007943282347242812', 'TRIAL_END 696 | ThreeLinesControl | 0.015848931924611127', 'TRIAL_START 958 | FarLowNarrow | 0.019952623149688792', 'TRIAL_END 110 | FarHighNarrow | 0.009999999999999995', 'TRIAL_END 664 | FarHighNarrow | 0.01584893192461113', 'TRIAL_START 790 | FarLowNarrow | 0.025118864315095798', 'TRIAL_START 277 | FarLowWide | 0.015848931924611127', 'TRIAL_START 255 | FarLowWide | 0.015848931924611127', 'TRIAL_START 766 | ThreeLinesControl | 0.015848931924611127', 'TRIAL_START 804 | FarHighWide | 0.012589254117941668', 'TRIAL_END 812 | FarHighWide | 0.01584893192461113', 'TRIAL_START 496 | FarHighNarrow | 0.01584893192461113', 'TRIAL_START 417 | Constant | 0.015848931924611127', 'TRIAL_END 797 | FarHighWide | 0.01584893192461113', 'TRIAL_START 931 | FarLowWide | 0.01995262314968879', 'TRIAL_START 786 | FarHighNarrow | 0.009999999999999997', 'TRIAL_START 1135 | FarHighWide | 0.012589254117941668', 'TRIAL_END 707 | FarHighWide | 0.019952623149688792', 'TRIAL_END 51 | FarLowNarrow | 0.01995262314968879', 'TRIAL_START 973 | Constant | 0.01995262314968879', 'TRIAL_START 120 | FarLowNarrow | 0.0063095734448019285', 'TRIAL_START 807 | FarLowWide | 0.012589254117941666', 'TRIAL_START 153 | FarHighWide | 0.0063095734448019285', 'TRIAL_START 408 | Constant | 0.015848931924611127', 'TRIAL_END 180 | FarLowWide | 0.015848931924611127', 'TRIAL_START 599 | FarHighWide | 0.019952623149688792', 'TRIAL_START 837 | FarHighNarrow | 0.012589254117941668', 'TRIAL_END 130 | FarLowWide | 0.009999999999999995', 'TRIAL_START 66 | Constant | 0.012589254117941666', 'TRIAL_START 781 | FarLowNarrow | 0.01584893192461113', 'TRIAL_END 86 | FarHighWide | 0.00794328234724281', 'TRIAL_START 976 | FarLowNarrow | 0.012589254117941668', 'TRIAL_START 186 | FarLowNarrow | 0.0063095734448019285', 'TRIAL_START 225 | Constant_null | 0.031622776601683784', 'TRIAL_START 472 | ThreeLinesControl | 0.025118864315095794', 'TRIAL_END 1093 | FarLowWide | 0.012589254117941666', 'TRIAL_START 24 | ThreeLinesControl | 0.06309573444801932', 'TRIAL_START 975 | FarHighWide | 0.012589254117941668', 'TRIAL_START 446 | FarLowNarrow | 0.009999999999999997', 'TRIAL_START 403 | FarLowNarrow | 0.007943282347242812', 'TRIAL_START 443 | FarLowNarrow | 0.012589254117941668', 'TRIAL_END 597 | FarLowNarrow_null | 0.005011872336272719', 'TRIAL_END 217 | FarLowWide | 0.012589254117941666', 'TRIAL_END 1168 | FarHighNarrow | 0.012589254117941668', 'TRIAL_END 336 | ThreeLinesControl_null | 0.05011872336272722', 'TRIAL_END 850 | Constant | 0.00794328234724281', 'TRIAL_START 819 | ThreeLinesControl | 0.012589254117941666', 'TRIAL_END 70 | FarHighNarrow | 0.00794328234724281', 'TRIAL_END 89 | FarHighWide | 0.0063095734448019285', 'TRIAL_END 309 | Constant | 0.009999999999999995', 'TRIAL_END 596 | ThreeLinesControl | 0.012589254117941666', 'TRIAL_START 827 | FarLowWide | 0.015848931924611127', 'TRIAL_END 471 | Constant | 0.012589254117941666', 'TRIAL_END 730 | ThreeLinesControl | 0.015848931924611127', 'TRIAL_START 177 | FarLowWide | 0.012589254117941666', 'TRIAL_START 773 | FarHighWide | 0.019952623149688792', 'TRIAL_START 368 | ThreeLinesControl | 0.015848931924611127', 'TRIAL_END 1024 | FarHighWide | 0.012589254117941668', 'TRIAL_START 1092 | FarHighWide | 0.01584893192461113', 'TRIAL_START 210 | FarHighWide | 0.002511886431509578', 'TRIAL_END 800 | FarLowWide | 0.025118864315095794', 'TRIAL_START 402 | FarLowWide_null | 0.02511886431509579', 'TRIAL_END 257 | FarLowWide | 0.012589254117941666', 'TRIAL_START 304 | FarLowWide | 0.009999999999999995', 'TRIAL_START 456 | Constant | 0.0063095734448019285', 'TRIAL_END 815 | FarHighNarrow | 0.019952623149688792', 'TRIAL_END 476 | FarHighNarrow | 0.012589254117941668', 'TRIAL_END 1075 | FarLowNarrow | 0.019952623149688792', 'TRIAL_START 1126 | FarHighNarrow | 0.012589254117941668', 'TRIAL_END 424 | FarLowWide_null | 0.01995262314968879', 'TRIAL_START 423 | Constant | 0.012589254117941666', 'TRIAL_START 243 | FarLowWide | 0.01995262314968879', 'TRIAL_START 59 | Constant | 0.015848931924611127', 'TRIAL_START 245 | FarLowWide | 0.015848931924611127', 'TRIAL_END 360 | ThreeLinesControl | 0.012589254117941666', 'TRIAL_END 1112 | FarLowNarrow | 0.01584893192461113', 'TRIAL_END 96 | FarLowWide | 0.012589254117941666', 'TRIAL_END 860 | Constant_null | 0.001995262314968878', 'TRIAL_END 821 | FarHighWide | 0.009999999999999997', 'TRIAL_END 251 | FarHighNarrow | 0.00398107170553497', 'TRIAL_START 959 | FarHighWide | 0.025118864315095798', 'TRIAL_START 167 | FarLowWide | 0.012589254117941666', 'TRIAL_START 413 | ThreeLinesControl | 0.015848931924611127', 'TRIAL_START 35 | ThreeLinesControl | 0.031622776601683784', 'TRIAL_END 275 | Constant | 0.00794328234724281', 'TRIAL_END 512 | FarHighWide_null | 0.06309573444801932', 'TRIAL_END 972 | FarHighWide | 0.01584893192461113', 'TRIAL_START 1056 | ThreeLinesControl | 0.01995262314968879', 'TRIAL_START 606 | FarHighNarrow | 0.01584893192461113', 'TRIAL_START 689 | ThreeLinesControl | 0.012589254117941666', 'TRIAL_END 980 | Constant | 0.015848931924611127', 'TRIAL_START 13 | FarLowWide | 0.1', 'TRIAL_START 694 | ThreeLinesControl_null | 0.009999999999999995', 'TRIAL_START 1191 | FarLowWide | 0.025118864315095794', 'TRIAL_END 315 | ThreeLinesControl_null | 0.06309573444801932', 'TRIAL_START 60 | FarLowNarrow | 0.012589254117941666', 'TRIAL_END 470 | Constant | 0.009999999999999995', 'TRIAL_END 120 | FarLowNarrow | 0.0063095734448019285', 'TRIAL_END 345 | FarLowNarrow | 0.007943282347242812', 'TRIAL_START 458 | FarLowWide | 0.00794328234724281', 'TRIAL_END 7 | Constant_null | 0.1', 'TRIAL_START 424 | FarLowWide_null | 0.01995262314968879', 'TRIAL_START 741 | FarHighWide | 0.01584893192461113', 'TRIAL_START 808 | Constant | 0.015848931924611127', 'TRIAL_END 708 | Constant | 0.012589254117941666', 'TRIAL_END 395 | FarHighNarrow | 0.006309573444801929', 'TRIAL_START 1093 | FarLowWide | 0.012589254117941666', 'TRIAL_START 226 | FarHighNarrow | 0.001995262314968878', 'TRIAL_END 564 | FarHighWide | 0.01584893192461113', 'TRIAL_END 381 | Constant_null | 0.01995262314968879', 'TRIAL_START 682 | FarLowNarrow | 0.019952623149688792', 'TRIAL_START 292 | FarHighNarrow | 0.006309573444801929', 'TRIAL_END 442 | ThreeLinesControl | 0.025118864315095794', 'TRIAL_END 697 | ThreeLinesControl | 0.01995262314968879', 'TRIAL_END 836 | FarLowNarrow | 0.019952623149688792', 'TRIAL_END 489 | FarLowNarrow | 0.012589254117941668', 'TRIAL_END 128 | ThreeLinesControl | 0.0063095734448019285', 'TRIAL_END 558 | FarLowNarrow | 0.01584893192461113', 'TRIAL_START 1073 | FarLowWide | 0.01995262314968879', 'TRIAL_END 1128 | FarHighNarrow | 0.01584893192461113', 'TRIAL_START 737 | FarLowWide | 0.025118864315095794', 'TRIAL_START 802 | FarHighNarrow | 0.012589254117941668', 'TRIAL_START 1136 | FarLowNarrow | 0.01584893192461113', 'TRIAL_END 206 | FarHighNarrow_null | 0.03981071705534971', 'TRIAL_END 552 | FarHighWide | 0.009999999999999997', 'TRIAL_END 239 | FarHighWide | 0.00501187233627272', 'TRIAL_END 514 | ThreeLinesControl | 0.012589254117941666', 'TRIAL_END 1055 | FarLowNarrow | 0.012589254117941668', 'TRIAL_END 1114 | FarLowWide | 0.00794328234724281', 'TRIAL_START 281 | FarHighWide | 0.00501187233627272', 'TRIAL_START 1125 | FarHighNarrow | 0.01584893192461113', 'TRIAL_END 404 | FarLowNarrow | 0.009999999999999997', 'TRIAL_START 77 | FarLowNarrow | 0.012589254117941666', 'TRIAL_START 708 | Constant | 0.012589254117941666', 'TRIAL_START 293 | FarLowWide | 0.015848931924611127', 'TRIAL_END 642 | FarLowNarrow | 0.009999999999999997', 'TRIAL_END 57 | FarLowWide | 0.02511886431509579', 'TRIAL_END 811 | ThreeLinesControl | 0.015848931924611127', 'TRIAL_END 416 | FarHighWide | 0.006309573444801929', 'TRIAL_END 962 | ThreeLinesControl | 0.025118864315095794', 'TRIAL_END 885 | FarHighWide | 0.01584893192461113', 'TRIAL_START 635 | ThreeLinesControl | 0.01995262314968879', 'TRIAL_END 284 | FarHighNarrow | 0.006309573444801929', 'TRIAL_END 677 | FarHighWide | 0.007943282347242812', 'TRIAL_END 1108 | ThreeLinesControl | 0.012589254117941666', 'TRIAL_END 423 | Constant | 0.012589254117941666', 'TRIAL_START 284 | FarHighNarrow | 0.006309573444801929', 'TRIAL_END 909 | FarHighNarrow | 0.01584893192461113', 'TRIAL_START 396 | FarLowNarrow | 0.012589254117941668', 'TRIAL_START 346 | FarLowWide | 0.015848931924611127', 'TRIAL_START 593 | ThreeLinesControl | 0.015848931924611127', 'TRIAL_START 1076 | FarLowWide_null | 0.005011872336272719', 'TRIAL_END 170 | FarHighWide | 0.00501187233627272', 'TRIAL_START 907 | FarLowNarrow | 0.019952623149688792', 'TRIAL_START 358 | FarHighWide | 0.009999999999999997', 'TRIAL_END 864 | ThreeLinesControl | 0.01995262314968879', 'TRIAL_START 868 | Constant | 0.009999999999999995', 'TRIAL_END 1000 | Constant | 0.01995262314968879', 'TRIAL_END 517 | FarHighWide | 0.01584893192461113', 'TRIAL_END 732 | ThreeLinesControl | 0.012589254117941666', 'TRIAL_START 1124 | FarLowWide | 0.012589254117941666', 'TRIAL_START 68 | Constant | 0.00794328234724281', 'TRIAL_START 949 | Constant | 0.015848931924611127', 'TRIAL_START 551 | FarLowNarrow | 0.012589254117941668', 'TRIAL_END 557 | ThreeLinesControl | 0.015848931924611127', 'TRIAL_START 130 | FarLowWide | 0.009999999999999995', 'TRIAL_END 981 | FarLowNarrow | 0.01584893192461113', 'TRIAL_END 289 | Constant | 0.0063095734448019285', 'TRIAL_START 1166 | FarHighWide | 0.012589254117941668', 'TRIAL_END 1104 | FarLowWide | 0.00794328234724281', 'TRIAL_START 102 | Constant_null | 0.05011872336272722', 'TRIAL_START 100 | FarLowNarrow | 0.0063095734448019285', 'TRIAL_START 848 | FarHighWide | 0.007943282347242812', 'TRIAL_START 295 | FarHighWide | 0.00501187233627272', 'TRIAL_END 159 | FarHighWide | 0.00398107170553497', 'TRIAL_START 758 | ThreeLinesControl | 0.015848931924611127', 'TRIAL_START 260 | ThreeLinesControl | 0.00794328234724281', 'TRIAL_END 321 | FarLowWide | 0.01995262314968879', 'TRIAL_START 332 | FarLowWide | 0.015848931924611127', 'TRIAL_END 1118 | FarHighWide | 0.01584893192461113', 'TRIAL_START 101 | ThreeLinesControl_null | 0.07943282347242815', 'TRIAL_END 891 | FarHighWide | 0.01584893192461113', 'TRIAL_END 700 | FarLowNarrow | 0.025118864315095798', 'TRIAL_START 720 | FarHighWide | 0.01584893192461113', 'TRIAL_END 132 | ThreeLinesControl_null | 0.06309573444801932', 'TRIAL_END 830 | FarHighWide | 0.012589254117941668', 'TRIAL_START 1134 | FarLowWide_null | 0.001995262314968878', 'TRIAL_START 279 | FarHighNarrow | 0.006309573444801929', 'TRIAL_END 142 | FarLowNarrow_null | 0.06309573444801932', 'TRIAL_START 508 | FarLowWide | 0.01995262314968879', 'TRIAL_START 114 | ThreeLinesControl | 0.00794328234724281', 'TRIAL_START 1002 | Constant | 0.01995262314968879', 'TRIAL_END 107 | FarLowNarrow | 0.0063095734448019285', 'TRIAL_END 238 | FarHighWide | 0.00398107170553497', 'TRIAL_START 1155 | FarHighNarrow | 0.019952623149688792', 'TRIAL_END 1163 | FarLowWide | 0.025118864315095794', 'TRIAL_END 744 | Constant | 0.015848931924611127', 'TRIAL_START 234 | FarLowNarrow | 0.009999999999999995', 'TRIAL_START 32 | FarLowWide | 0.06309573444801932', 'TRIAL_START 144 | Constant | 0.01995262314968879', 'TRIAL_START 612 | FarLowWide | 0.03981071705534971', 'TRIAL_END 24 | ThreeLinesControl | 0.06309573444801932', 'TRIAL_START 129 | FarLowNarrow | 0.0063095734448019285', 'TRIAL_END 109 | Constant | 0.012589254117941666', 'TRIAL_END 148 | FarLowNarrow_null | 0.03981071705534971', 'TRIAL_START 632 | ThreeLinesControl | 0.025118864315095794', 'TRIAL_START 643 | FarHighWide | 0.012589254117941668', 'TRIAL_START 351 | FarHighWide | 0.00501187233627272', 'TRIAL_START 947 | FarLowWide_null | 0.009999999999999995', 'TRIAL_END 656 | FarHighWide | 0.007943282347242812', 'TRIAL_END 620 | FarHighWide | 0.01584893192461113', 'TRIAL_END 486 | FarLowNarrow_null | 0.00794328234724281', 'TRIAL_START 1039 | FarHighNarrow | 0.01584893192461113', 'TRIAL_END 506 | ThreeLinesControl | 0.015848931924611127', 'TRIAL_END 820 | ThreeLinesControl_null | 0.005011872336272719', 'TRIAL_END 368 | ThreeLinesControl | 0.015848931924611127', 'TRIAL_END 780 | FarLowWide | 0.012589254117941666', 'TRIAL_END 342 | ThreeLinesControl | 0.00794328234724281', 'TRIAL_START 1079 | FarHighWide | 0.01584893192461113', 'TRIAL_END 1034 | FarLowNarrow | 0.01584893192461113', 'TRIAL_END 419 | FarLowNarrow | 0.012589254117941668', 'TRIAL_END 439 | FarHighWide | 0.00501187233627272', 'TRIAL_END 1062 | FarHighWide | 0.012589254117941668', 'TRIAL_START 262 | FarLowWide | 0.015848931924611127', 'TRIAL_END 1083 | FarLowWide | 0.025118864315095794', 'TRIAL_START 1075 | FarLowNarrow | 0.019952623149688792', 'TRIAL_START 972 | FarHighWide | 0.01584893192461113', 'TRIAL_START 149 | ThreeLinesControl | 0.0063095734448019285', 'TRIAL_END 922 | ThreeLinesControl | 0.025118864315095794', 'TRIAL_END 267 | Constant | 0.00794328234724281', 'TRIAL_START 1042 | ThreeLinesControl | 0.015848931924611127', 'TRIAL_START 63 | FarHighNarrow | 0.00794328234724281', 'TRIAL_START 580 | Constant | 0.012589254117941666', 'TRIAL_START 445 | ThreeLinesControl | 0.01995262314968879', 'TRIAL_END 390 | Constant | 0.0063095734448019285', 'TRIAL_START 352 | FarLowWide_null | 0.031622776601683784', 'TRIAL_START 604 | FarLowNarrow | 0.007943282347242812', 'TRIAL_START 337 | ThreeLinesControl | 0.009999999999999995', 'TRIAL_START 270 | Constant | 0.009999999999999995', 'TRIAL_START 1049 | FarLowWide | 0.01995262314968879', 'TRIAL_START 36 | Constant | 0.031622776601683784', 'TRIAL_START 659 | FarHighWide | 0.006309573444801929', 'TRIAL_START 586 | FarHighNarrow | 0.006309573444801929', 'TRIAL_START 156 | FarLowNarrow_null | 0.031622776601683784', 'TRIAL_START 645 | FarLowWide | 0.012589254117941666', 'TRIAL_END 974 | FarLowNarrow | 0.01584893192461113', 'TRIAL_START 357 | FarLowNarrow | 0.009999999999999997', 'TRIAL_END 113 | FarHighWide | 0.005011872336272719', 'TRIAL_END 768 | ThreeLinesControl | 0.012589254117941666', 'TRIAL_START 653 | Constant | 0.009999999999999995', 'TRIAL_END 542 | ThreeLinesControl | 0.01995262314968879', 'TRIAL_END 918 | FarHighNarrow_null | 0.0031622776601683772', 'TRIAL_END 807 | FarLowWide | 0.012589254117941666', 'BAD_blink', 'TRIAL_START 1062 | FarHighWide | 0.012589254117941668', 'TRIAL_END 828 | FarHighNarrow | 0.01584893192461113', 'TRIAL_END 1121 | FarLowWide | 0.009999999999999995', 'TRIAL_END 228 | Constant | 0.005011872336272719', 'TRIAL_START 822 | Constant | 0.012589254117941666', 'TRIAL_END 907 | FarLowNarrow | 0.019952623149688792', 'TRIAL_START 1081 | FarHighNarrow | 0.01584893192461113', 'TRIAL_START 329 | FarHighNarrow | 0.009999999999999997', 'TRIAL_END 1173 | FarHighWide_null | 0.002511886431509578', 'TRIAL_START 483 | FarLowWide | 0.01995262314968879', 'TRIAL_START 314 | Constant | 0.009999999999999995', 'TRIAL_END 958 | FarLowNarrow | 0.019952623149688792', 'TRIAL_START 1176 | FarHighNarrow | 0.012589254117941668', 'TRIAL_END 370 | FarLowWide | 0.009999999999999995', 'TRIAL_START 11 | Constant | 0.07943282347242815', 'TRIAL_START 656 | FarHighWide | 0.007943282347242812', 'TRIAL_START 668 | FarLowNarrow_null | 0.00398107170553497', 'TRIAL_START 96 | FarLowWide | 0.012589254117941666', 'TRIAL_END 2 | FarHighWide | 0.1', 'TRIAL_START 87 | ThreeLinesControl | 0.015848931924611127', 'TRIAL_END 380 | FarHighWide | 0.009999999999999997', 'TRIAL_START 4 | ThreeLinesControl | 0.1', 'TRIAL_END 165 | ThreeLinesControl | 0.00794328234724281', 'TRIAL_END 300 | FarLowWide | 0.012589254117941666', 'TRIAL_END 376 | FarLowNarrow | 0.01584893192461113', 'TRIAL_START 950 | Constant | 0.01995262314968879', 'TRIAL_START 344 | Constant | 0.00794328234724281', 'TRIAL_END 460 | Constant | 0.00794328234724281', 'TRIAL_START 485 | FarHighWide | 0.007943282347242812', 'TRIAL_END 746 | Constant | 0.012589254117941666', 'TRIAL_END 961 | FarLowNarrow | 0.01584893192461113', 'TRIAL_START 900 | Constant | 0.012589254117941666', 'TRIAL_START 619 | FarLowWide | 0.02511886431509579', 'TRIAL_END 1073 | FarLowWide | 0.01995262314968879', 'TRIAL_END 801 | Constant | 0.012589254117941666', 'TRIAL_END 355 | FarHighWide | 0.006309573444801929', 'TRIAL_END 383 | Constant | 0.00794328234724281', 'TRIAL_END 835 | Constant | 0.012589254117941666', 'TRIAL_END 235 | FarHighNarrow | 0.002511886431509578', 'TRIAL_END 537 | ThreeLinesControl | 0.015848931924611127', 'TRIAL_START 966 | Constant | 0.02511886431509579', 'TRIAL_END 826 | ThreeLinesControl | 0.00794328234724281', 'TRIAL_END 695 | FarHighWide | 0.012589254117941668', 'TRIAL_START 366 | Constant | 0.009999999999999995', 'TRIAL_START 302 | ThreeLinesControl | 0.009999999999999995', 'TRIAL_START 203 | Constant | 0.00794328234724281', 'TRIAL_START 759 | Constant | 0.009999999999999995', 'TRIAL_END 203 | Constant | 0.00794328234724281', 'TRIAL_START 1064 | ThreeLinesControl | 0.015848931924611127', 'TRIAL_END 824 | FarHighNarrow | 0.012589254117941668', 'TRIAL_END 777 | FarLowWide | 0.015848931924611127', 'TRIAL_END 761 | FarLowWide | 0.025118864315095794', 'TRIAL_START 1143 | FarLowNarrow | 0.01584893192461113', 'TRIAL_START 897 | ThreeLinesControl | 0.015848931924611127', 'TRIAL_END 538 | FarHighWide | 0.009999999999999997', 'TRIAL_END 281 | FarHighWide | 0.00501187233627272', 'TRIAL_START 169 | FarHighNarrow | 0.0063095734448019285', 'TRIAL_END 1015 | FarLowNarrow | 0.01584893192461113', 'TRIAL_END 809 | FarLowWide | 0.009999999999999995', 'TRIAL_START 857 | FarLowNarrow | 0.01584893192461113', 'TRIAL_END 884 | FarLowNarrow | 0.012589254117941668', 'TRIAL_END 609 | FarHighWide | 0.019952623149688792', 'TRIAL_START 310 | ThreeLinesControl | 0.015848931924611127', 'TRIAL_START 704 | ThreeLinesControl | 0.01995262314968879', 'TRIAL_START 524 | FarHighWide | 0.012589254117941668', 'TRIAL_START 728 | FarHighWide | 0.01584893192461113', 'TRIAL_START 238 | FarHighWide | 0.00398107170553497', 'TRIAL_END 465 | FarHighNarrow | 0.012589254117941668', 'TRIAL_START 278 | FarLowWide | 0.012589254117941666', 'TRIAL_END 587 | FarHighWide | 0.01584893192461113', 'TRIAL_END 77 | FarLowNarrow | 0.012589254117941666', 'TRIAL_START 152 | FarLowWide | 0.009999999999999995', 'TRIAL_START 75 | Constant | 0.0063095734448019285', 'TRIAL_START 755 | Constant | 0.015848931924611127', 'TRIAL_START 1110 | FarHighWide | 0.012589254117941668', 'TRIAL_START 876 | FarLowNarrow | 0.01584893192461113', 'TRIAL_START 771 | Constant_null | 0.00398107170553497', 'TRIAL_START 1072 | FarHighWide | 0.012589254117941668', 'TRIAL_END 296 | FarHighWide | 0.006309573444801929', 'TRIAL_END 1153 | FarHighWide_null | 0.00398107170553497', 'TRIAL_END 1045 | FarHighWide | 0.009999999999999997', 'TRIAL_END 847 | FarLowWide | 0.015848931924611127', 'TRIAL_START 1046 | FarLowWide | 0.015848931924611127', 'TRIAL_START 715 | FarLowWide | 0.015848931924611127', 'TRIAL_END 1030 | FarHighWide | 0.012589254117941668', 'TRIAL_START 179 | ThreeLinesControl | 0.00794328234724281', 'TRIAL_END 546 | ThreeLinesControl | 0.012589254117941666', 'TRIAL_END 985 | ThreeLinesControl | 0.012589254117941666', 'TRIAL_END 52 | ThreeLinesControl | 0.015848931924611127', 'TRIAL_START 920 | FarHighNarrow | 0.01584893192461113', 'TRIAL_END 1074 | FarLowWide | 0.015848931924611127', 'TRIAL_START 935 | Constant | 0.012589254117941666', 'TRIAL_START 412 | FarLowNarrow | 0.01584893192461113', 'TRIAL_START 1192 | FarLowWide | 0.031622776601683784', 'TRIAL_END 844 | FarHighNarrow | 0.01584893192461113', 'TRIAL_END 270 | Constant | 0.009999999999999995', 'TRIAL_START 180 | FarLowWide | 0.015848931924611127', 'TRIAL_START 460 | Constant | 0.00794328234724281', 'TRIAL_END 566 | ThreeLinesControl | 0.012589254117941666', 'TRIAL_END 750 | FarLowNarrow_null | 0.002511886431509578', 'TRIAL_START 1187 | FarLowWide | 0.02511886431509579', 'TRIAL_END 1101 | FarLowNarrow | 0.019952623149688792', 'TRIAL_START 1050 | FarHighNarrow | 0.012589254117941668', 'TRIAL_END 1107 | FarLowNarrow | 0.01584893192461113', 'TRIAL_START 534 | ThreeLinesControl | 0.015848931924611127', 'TRIAL_START 218 | FarLowWide_null | 0.07943282347242815', 'TRIAL_START 654 | FarHighWide | 0.009999999999999997', 'TRIAL_END 459 | ThreeLinesControl | 0.015848931924611127', 'TRIAL_END 16 | Constant | 0.05011872336272722', 'TRIAL_END 366 | Constant | 0.009999999999999995', 'TRIAL_END 678 | Constant | 0.012589254117941666', 'TRIAL_END 838 | ThreeLinesControl_null | 0.00398107170553497', 'TRIAL_END 756 | Constant | 0.012589254117941666', 'TRIAL_START 977 | FarHighWide | 0.01584893192461113', 'TRIAL_END 329 | FarHighNarrow | 0.009999999999999997', 'TRIAL_END 38 | FarHighNarrow | 0.02511886431509579', 'TRIAL_START 373 | FarHighWide | 0.01584893192461113', 'TRIAL_START 273 | FarLowWide | 0.012589254117941666', 'TRIAL_START 252 | FarLowNarrow | 0.00794328234724281', 'TRIAL_END 129 | FarLowNarrow | 0.0063095734448019285', 'TRIAL_START 82 | ThreeLinesControl | 0.015848931924611127', 'TRIAL_START 625 | FarHighNarrow | 0.01584893192461113', 'TRIAL_END 95 | FarHighWide | 0.0063095734448019285', 'TRIAL_START 558 | FarLowNarrow | 0.01584893192461113', 'TRIAL_END 269 | FarHighNarrow | 0.006309573444801929', 'TRIAL_START 938 | FarHighNarrow | 0.019952623149688792', 'TRIAL_START 576 | FarLowWide | 0.025118864315095794', 'TRIAL_START 447 | FarLowNarrow | 0.007943282347242812', 'TRIAL_START 54 | Constant | 0.02511886431509579', 'TRIAL_END 926 | ThreeLinesControl_null | 0.002511886431509578', 'TRIAL_START 272 | FarHighWide_null | 0.1', 'TRIAL_END 397 | FarHighNarrow | 0.00501187233627272', 'TRIAL_END 298 | Constant | 0.009999999999999995', 'TRIAL_END 765 | FarHighWide | 0.012589254117941668', 'TRIAL_END 670 | ThreeLinesControl | 0.012589254117941666', 'TRIAL_START 762 | FarLowNarrow | 0.019952623149688792', 'TRIAL_START 365 | FarHighNarrow | 0.009999999999999997', 'TRIAL_END 632 | ThreeLinesControl | 0.025118864315095794', 'TRIAL_START 341 | FarHighNarrow | 0.007943282347242812', 'TRIAL_START 601 | Constant | 0.015848931924611127', 'TRIAL_START 1146 | FarLowNarrow | 0.019952623149688792', 'TRIAL_START 824 | FarHighNarrow | 0.012589254117941668', 'TRIAL_END 8 | FarHighWide | 0.06309573444801932', 'TRIAL_END 6 | FarHighNarrow | 0.07943282347242815', 'TRIAL_END 614 | ThreeLinesControl | 0.012589254117941666', 'TRIAL_START 979 | ThreeLinesControl | 0.012589254117941666', 'TRIAL_START 27 | FarLowNarrow | 0.05011872336272722', 'TRIAL_END 723 | FarLowNarrow | 0.012589254117941668', 'TRIAL_END 660 | FarHighNarrow | 0.012589254117941668', 'TRIAL_END 500 | ThreeLinesControl | 0.015848931924611127', 'TRIAL_END 973 | Constant | 0.01995262314968879', 'TRIAL_END 1069 | FarLowNarrow | 0.01584893192461113', 'TRIAL_END 590 | FarHighWide | 0.019952623149688792', 'TRIAL_START 513 | Constant | 0.009999999999999995', 'TRIAL_END 27 | FarLowNarrow | 0.05011872336272722', 'TRIAL_START 571 | ThreeLinesControl | 0.01995262314968879', 'TRIAL_START 183 | ThreeLinesControl | 0.009999999999999995', 'TRIAL_END 933 | ThreeLinesControl | 0.01995262314968879', 'TRIAL_START 1113 | FarHighNarrow | 0.019952623149688792', 'TRIAL_END 795 | ThreeLinesControl | 0.015848931924611127', 'TRIAL_START 212 | Constant | 0.009999999999999995', 'TRIAL_START 792 | FarLowNarrow | 0.03162277660168379', 'TRIAL_START 875 | FarLowNarrow | 0.012589254117941668', 'TRIAL_END 68 | Constant | 0.00794328234724281', 'TRIAL_END 589 | FarLowWide | 0.025118864315095794', 'TRIAL_END 1053 | FarLowNarrow | 0.012589254117941668', 'TRIAL_START 661 | Constant | 0.00794328234724281', 'TRIAL_END 1 | FarLowNarrow | 0.1', 'TRIAL_START 29 | Constant_null | 0.07943282347242815', 'TRIAL_END 94 | ThreeLinesControl | 0.009999999999999995', 'TRIAL_START 560 | FarHighNarrow | 0.00501187233627272', 'TRIAL_START 993 | FarHighWide | 0.009999999999999997', 'TRIAL_START 207 | FarLowNarrow | 0.012589254117941666', 'TRIAL_END 1052 | ThreeLinesControl | 0.015848931924611127', 'TRIAL_END 141 | FarHighNarrow_null | 0.06309573444801932', 'TRIAL_START 926 | ThreeLinesControl_null | 0.002511886431509578', 'TRIAL_START 1114 | FarLowWide | 0.00794328234724281', 'TRIAL_START 64 | FarHighNarrow | 0.0063095734448019285', 'TRIAL_START 710 | FarHighNarrow | 0.012589254117941668', 'TRIAL_START 173 | FarHighNarrow | 0.005011872336272719', 'TRIAL_END 353 | FarLowNarrow | 0.012589254117941668', 'TRIAL_END 291 | Constant_null | 0.02511886431509579', 'TRIAL_END 781 | FarLowNarrow | 0.01584893192461113', 'TRIAL_END 897 | ThreeLinesControl | 0.015848931924611127', 'TRIAL_END 915 | FarHighWide | 0.012589254117941668', 'TRIAL_END 635 | ThreeLinesControl | 0.01995262314968879', 'TRIAL_START 1140 | FarLowNarrow | 0.012589254117941668', 'TRIAL_START 1 | FarLowNarrow | 0.1', 'TRIAL_START 142 | FarLowNarrow_null | 0.06309573444801932', 'TRIAL_START 636 | FarLowNarrow | 0.01584893192461113', 'TRIAL_END 525 | FarLowNarrow | 0.007943282347242812', 'TRIAL_START 952 | Constant | 0.025118864315095794', 'TRIAL_END 1001 | Constant | 0.015848931924611127', 'TRIAL_END 1154 | FarHighWide | 0.01584893192461113', 'TRIAL_END 191 | FarHighWide | 0.00398107170553497', 'TRIAL_START 1151 | FarHighNarrow | 0.01584893192461113', 'TRIAL_END 901 | FarLowNarrow | 0.012589254117941668', 'TRIAL_START 1156 | FarLowWide | 0.015848931924611127', 'TRIAL_START 663 | FarLowNarrow | 0.01584893192461113', 'TRIAL_END 983 | ThreeLinesControl | 0.015848931924611127', 'TRIAL_START 588 | FarHighNarrow | 0.007943282347242812', 'TRIAL_END 274 | ThreeLinesControl | 0.0063095734448019285', 'TRIAL_END 1040 | FarHighNarrow | 0.012589254117941668', 'TRIAL_END 649 | FarLowNarrow | 0.012589254117941668', 'TRIAL_START 830 | FarHighWide | 0.012589254117941668', 'TRIAL_END 231 | ThreeLinesControl | 0.012589254117941666', 'TRIAL_END 1032 | FarHighWide | 0.01584893192461113', 'TRIAL_START 595 | Constant | 0.012589254117941666', 'TRIAL_START 707 | FarHighWide | 0.019952623149688792', 'TRIAL_END 91 | FarHighWide | 0.00794328234724281', 'TRIAL_END 194 | FarLowNarrow_null | 0.02511886431509579', 'TRIAL_END 153 | FarHighWide | 0.0063095734448019285', 'TRIAL_END 919 | FarLowWide | 0.009999999999999995', 'TRIAL_START 348 | FarHighWide | 0.006309573444801929', 'TRIAL_END 715 | FarLowWide | 0.015848931924611127', 'TRIAL_START 664 | FarHighNarrow | 0.01584893192461113', 'TRIAL_START 701 | FarLowWide | 0.01995262314968879', 'TRIAL_END 793 | FarHighNarrow | 0.009999999999999997', 'TRIAL_END 928 | FarLowNarrow | 0.01584893192461113', 'TRIAL_END 551 | FarLowNarrow | 0.012589254117941668', 'TRIAL_END 957 | FarLowWide | 0.031622776601683784', 'TRIAL_START 315 | ThreeLinesControl_null | 0.06309573444801932', 'TRIAL_END 533 | ThreeLinesControl | 0.012589254117941666', 'TRIAL_START 425 | FarLowWide | 0.01995262314968879', 'TRIAL_START 962 | ThreeLinesControl | 0.025118864315095794', 'TRIAL_END 1113 | FarHighNarrow | 0.019952623149688792', 'TRIAL_START 79 | Constant | 0.00794328234724281', 'TRIAL_END 837 | FarHighNarrow | 0.012589254117941668', 'TRIAL_END 624 | Constant | 0.015848931924611127', 'TRIAL_START 673 | FarHighWide | 0.007943282347242812', 'TRIAL_END 518 | FarLowWide | 0.025118864315095794', 'TRIAL_START 1045 | FarHighWide | 0.009999999999999997', 'TRIAL_START 105 | FarLowWide | 0.015848931924611127', 'TRIAL_START 285 | FarHighWide | 0.006309573444801929', 'TRIAL_END 1051 | ThreeLinesControl | 0.012589254117941666', 'TRIAL_END 502 | FarHighWide | 0.009999999999999997', 'TRIAL_END 1109 | FarHighWide | 0.01584893192461113', 'TRIAL_END 348 | FarHighWide | 0.006309573444801929', 'TRIAL_END 1050 | FarHighNarrow | 0.012589254117941668', 'TRIAL_END 1156 | FarLowWide | 0.015848931924611127', 'TRIAL_END 735 | Constant_null | 0.005011872336272719', 'TRIAL_END 895 | FarHighNarrow | 0.01584893192461113', 'TRIAL_END 160 | Constant | 0.009999999999999995', 'TRIAL_END 788 | FarHighWide_null | 0.03981071705534971', 'TRIAL_END 734 | FarLowNarrow | 0.012589254117941668', 'TRIAL_START 1091 | FarLowNarrow | 0.01584893192461113', 'TRIAL_END 1164 | FarHighNarrow | 0.019952623149688792', 'TRIAL_START 559 | FarHighWide | 0.012589254117941668', 'TRIAL_END 399 | FarHighNarrow | 0.00398107170553497', 'TRIAL_END 736 | FarHighNarrow | 0.009999999999999997', 'TRIAL_END 1178 | FarHighNarrow | 0.012589254117941668', 'TRIAL_START 529 | Constant | 0.009999999999999995', 'TRIAL_START 666 | Constant | 0.009999999999999995', 'TRIAL_START 459 | ThreeLinesControl | 0.015848931924611127', 'TRIAL_START 288 | FarHighNarrow | 0.007943282347242812', 'TRIAL_START 1007 | FarHighNarrow | 0.019952623149688792', 'TRIAL_START 598 | FarHighNarrow | 0.009999999999999997', 'TRIAL_START 753 | FarHighNarrow_null | 0.009999999999999995', 'TRIAL_START 842 | ThreeLinesControl | 0.012589254117941666', 'TRIAL_END 15 | Constant_null | 0.1', 'TRIAL_START 322 | FarLowWide_null | 0.03981071705534971', 'TRIAL_START 1021 | Constant | 0.012589254117941666', 'TRIAL_START 318 | Constant | 0.009999999999999995', 'TRIAL_START 853 | Constant | 0.009999999999999995', 'TRIAL_END 195 | FarLowWide | 0.015848931924611127', 'TRIAL_END 668 | FarLowNarrow_null | 0.00398107170553497', 'TRIAL_START 1108 | ThreeLinesControl | 0.012589254117941666', 'TRIAL_END 71 | FarHighWide_null | 0.1', 'TRIAL_END 911 | FarHighNarrow | 0.019952623149688792', 'TRIAL_END 866 | FarHighNarrow_null | 0.0063095734448019285', 'TRIAL_START 974 | FarLowNarrow | 0.01584893192461113', 'TRIAL_END 876 | FarLowNarrow | 0.01584893192461113', 'TRIAL_END 445 | ThreeLinesControl | 0.01995262314968879', 'TRIAL_START 793 | FarHighNarrow | 0.009999999999999997', 'TRIAL_START 788 | FarHighWide_null | 0.03981071705534971', 'TRIAL_END 246 | FarHighNarrow | 0.00398107170553497', 'TRIAL_START 1027 | FarLowNarrow | 0.012589254117941668', 'TRIAL_END 769 | ThreeLinesControl | 0.009999999999999995', 'TRIAL_END 604 | FarLowNarrow | 0.007943282347242812', 'TRIAL_END 605 | ThreeLinesControl | 0.012589254117941666', 'TRIAL_START 124 | FarLowNarrow | 0.00794328234724281', 'TRIAL_START 200 | FarLowWide | 0.01995262314968879', 'TRIAL_END 504 | FarHighWide | 0.012589254117941668', 'TRIAL_END 351 | FarHighWide | 0.00501187233627272', 'TRIAL_END 209 | FarLowNarrow | 0.009999999999999995', 'TRIAL_START 1178 | FarHighNarrow | 0.012589254117941668', 'TRIAL_START 675 | FarHighWide | 0.006309573444801929', 'TRIAL_END 710 | FarHighNarrow | 0.012589254117941668', 'TRIAL_START 1012 | Constant | 0.015848931924611127', 'TRIAL_END 902 | FarLowNarrow | 0.01584893192461113', 'TRIAL_END 1066 | FarLowWide | 0.015848931924611127', 'TRIAL_START 0 | FarHighNarrow | 0.1', 'TRIAL_START 864 | ThreeLinesControl | 0.01995262314968879', 'TRIAL_START 717 | FarHighNarrow | 0.007943282347242812', 'TRIAL_START 438 | ThreeLinesControl | 0.015848931924611127', 'TRIAL_END 575 | FarHighNarrow | 0.006309573444801929', 'TRIAL_END 519 | FarHighNarrow | 0.012589254117941668', 'BAD_ACQ_SKIP', 'TRIAL_START 929 | FarHighWide | 0.009999999999999997', 'TRIAL_START 891 | FarHighWide | 0.01584893192461113', 'TRIAL_END 675 | FarHighWide | 0.006309573444801929', 'TRIAL_END 17 | FarHighNarrow | 0.05011872336272722', 'TRIAL_START 131 | Constant | 0.012589254117941666', 'TRIAL_START 274 | ThreeLinesControl | 0.0063095734448019285', 'TRIAL_START 448 | Constant | 0.00794328234724281', 'TRIAL_END 963 | Constant | 0.031622776601683784', 'TRIAL_START 18 | FarLowNarrow | 0.07943282347242815', 'TRIAL_END 690 | FarLowWide | 0.015848931924611127', 'TRIAL_START 47 | ThreeLinesControl | 0.015848931924611127', 'TRIAL_END 457 | FarHighNarrow | 0.009999999999999997', 'TRIAL_END 925 | ThreeLinesControl | 0.01995262314968879', 'TRIAL_START 343 | ThreeLinesControl | 0.009999999999999995', 'TRIAL_END 1018 | FarHighWide | 0.012589254117941668', 'TRIAL_END 430 | ThreeLinesControl | 0.00794328234724281', 'TRIAL_END 407 | FarHighNarrow_null | 0.02511886431509579', 'TRIAL_END 454 | FarLowNarrow | 0.006309573444801929', 'TRIAL_START 383 | Constant | 0.00794328234724281', 'TRIAL_START 784 | FarHighWide | 0.012589254117941668', 'TRIAL_START 113 | FarHighWide | 0.005011872336272719', 'TRIAL_END 573 | FarLowWide | 0.01995262314968879', 'TRIAL_END 487 | ThreeLinesControl | 0.015848931924611127', 'TRIAL_END 1048 | FarLowNarrow | 0.01584893192461113', 'TRIAL_END 493 | ThreeLinesControl | 0.012589254117941666', 'TRIAL_END 193 | FarHighWide | 0.0031622776601683772', 'TRIAL_START 596 | ThreeLinesControl | 0.012589254117941666', 'TRIAL_START 259 | FarHighNarrow | 0.006309573444801929', 'TRIAL_END 420 | FarHighNarrow | 0.006309573444801929', 'TRIAL_END 69 | FarLowNarrow | 0.009999999999999995', 'TRIAL_START 405 | Constant | 0.012589254117941666', 'TRIAL_START 1181 | FarLowWide | 0.015848931924611127', 'TRIAL_START 584 | FarHighNarrow | 0.00501187233627272', 'TRIAL_START 406 | ThreeLinesControl | 0.009999999999999995', 'TRIAL_END 444 | Constant | 0.009999999999999995', 'TRIAL_END 450 | FarLowWide | 0.012589254117941666', 'TRIAL_START 19 | FarHighWide | 0.03981071705534971', 'TRIAL_START 545 | ThreeLinesControl | 0.015848931924611127', 'TRIAL_END 263 | FarLowNarrow_null | 0.01995262314968879', 'TRIAL_START 257 | FarLowWide | 0.012589254117941666', 'TRIAL_END 848 | FarHighWide | 0.007943282347242812', 'TRIAL_START 716 | Constant_null | 0.0063095734448019285', 'TRIAL_START 195 | FarLowWide | 0.015848931924611127', 'TRIAL_END 373 | FarHighWide | 0.01584893192461113', 'TRIAL_END 1072 | FarHighWide | 0.012589254117941668', 'TRIAL_START 215 | FarHighWide | 0.0031622776601683772', 'TRIAL_END 852 | FarHighWide | 0.009999999999999997', 'TRIAL_END 392 | Constant | 0.00794328234724281', 'TRIAL_END 662 | FarLowNarrow | 0.012589254117941668', 'TRIAL_START 651 | FarHighNarrow | 0.01584893192461113', 'TRIAL_START 350 | FarLowNarrow | 0.009999999999999997', 'TRIAL_END 1117 | FarHighNarrow | 0.009999999999999997', 'TRIAL_START 300 | FarLowWide | 0.012589254117941666', 'TRIAL_START 420 | FarHighNarrow | 0.006309573444801929', 'TRIAL_START 1061 | FarHighWide_null | 0.012589254117941666', 'TRIAL_END 320 | Constant | 0.00794328234724281', 'TRIAL_END 982 | FarHighWide | 0.01584893192461113', 'TRIAL_START 745 | ThreeLinesControl | 0.009999999999999995', 'TRIAL_END 822 | Constant | 0.012589254117941666', 'TRIAL_END 432 | FarHighWide | 0.007943282347242812', 'TRIAL_START 519 | FarHighNarrow | 0.012589254117941668', 'TRIAL_START 206 | FarHighNarrow_null | 0.03981071705534971', 'TRIAL_END 133 | Constant | 0.015848931924611127', 'TRIAL_START 307 | FarHighWide | 0.007943282347242812', 'TRIAL_START 923 | FarLowWide | 0.012589254117941666', 'TRIAL_START 507 | FarHighNarrow | 0.009999999999999997', 'TRIAL_START 520 | FarHighNarrow | 0.009999999999999997', 'TRIAL_END 467 | ThreeLinesControl_null | 0.031622776601683784', 'TRIAL_END 266 | FarHighWide | 0.006309573444801929', 'TRIAL_START 219 | FarHighNarrow | 0.002511886431509578', 'TRIAL_END 492 | FarHighNarrow | 0.019952623149688792', 'TRIAL_START 806 | FarLowWide | 0.015848931924611127', 'TRIAL_END 545 | ThreeLinesControl | 0.015848931924611127', 'TRIAL_START 933 | ThreeLinesControl | 0.01995262314968879', 'TRIAL_START 1112 | FarLowNarrow | 0.01584893192461113', 'TRIAL_END 1058 | FarHighWide_null | 0.015848931924611127', 'TRIAL_START 703 | FarLowNarrow_null | 0.0031622776601683772', 'TRIAL_END 865 | FarLowNarrow | 0.01584893192461113', 'TRIAL_START 1145 | FarHighNarrow | 0.01584893192461113', 'TRIAL_START 283 | ThreeLinesControl | 0.005011872336272719', 'TRIAL_END 1171 | FarHighNarrow | 0.01584893192461113', 'TRIAL_START 385 | FarHighWide | 0.007943282347242812', 'TRIAL_END 1071 | FarLowWide_null | 0.0063095734448019285', 'TRIAL_END 1046 | FarLowWide | 0.015848931924611127', 'TRIAL_END 1098 | FarHighWide | 0.019952623149688792', 'TRIAL_END 425 | FarLowWide | 0.01995262314968879', 'TRIAL_END 556 | FarLowNarrow | 0.012589254117941668', 'TRIAL_END 1103 | FarLowNarrow | 0.012589254117941668', 'TRIAL_END 32 | FarLowWide | 0.06309573444801932', 'TRIAL_END 725 | Constant | 0.012589254117941666', 'TRIAL_END 197 | Constant | 0.00794328234724281', 'TRIAL_START 917 | Constant | 0.012589254117941666', 'TRIAL_END 600 | FarLowWide | 0.031622776601683784', 'TRIAL_START 336 | ThreeLinesControl_null | 0.05011872336272722', 'TRIAL_START 747 | FarLowNarrow | 0.01584893192461113', 'TRIAL_START 583 | FarLowWide | 0.01995262314968879', 'TRIAL_START 860 | Constant_null | 0.001995262314968878', 'TRIAL_END 908 | FarHighNarrow_null | 0.00398107170553497', 'TRIAL_START 249 | FarHighWide | 0.006309573444801929', 'TRIAL_END 365 | FarHighNarrow | 0.009999999999999997', 'TRIAL_END 223 | Constant | 0.00794328234724281', 'TRIAL_START 253 | FarHighNarrow | 0.00501187233627272', 'TRIAL_END 303 | FarLowNarrow | 0.005011872336272719', 'TRIAL_END 964 | FarLowNarrow | 0.012589254117941668', 'TRIAL_END 888 | FarHighWide | 0.012589254117941668', 'TRIAL_END 218 | FarLowWide_null | 0.07943282347242815', 'TRIAL_END 854 | Constant | 0.012589254117941666', 'TRIAL_END 240 | FarLowWide | 0.015848931924611127', 'TRIAL_START 48 | FarHighNarrow | 0.015848931924611127', 'TRIAL_START 925 | ThreeLinesControl | 0.01995262314968879', 'TRIAL_END 1090 | FarLowWide_null | 0.00398107170553497', 'TRIAL_START 1078 | ThreeLinesControl | 0.012589254117941666', 'TRIAL_START 320 | Constant | 0.00794328234724281', 'TRIAL_END 34 | ThreeLinesControl | 0.03981071705534971', 'TRIAL_END 84 | Constant | 0.0063095734448019285', 'TRIAL_END 1158 | FarLowWide | 0.01995262314968879', 'TRIAL_END 771 | Constant_null | 0.00398107170553497', 'TRIAL_START 1133 | FarLowWide | 0.015848931924611127', 'TRIAL_END 541 | Constant | 0.009999999999999995', 'TRIAL_START 817 | FarLowNarrow | 0.025118864315095798', 'TRIAL_END 607 | ThreeLinesControl | 0.015848931924611127', 'TRIAL_END 644 | FarLowWide | 0.015848931924611127', 'TRIAL_START 740 | FarLowNarrow | 0.01584893192461113', 'TRIAL_END 1021 | Constant | 0.012589254117941666', 'TRIAL_END 1025 | FarHighWide_null | 0.01995262314968879', 'TRIAL_END 1057 | ThreeLinesControl | 0.015848931924611127', 'TRIAL_END 579 | FarHighWide | 0.012589254117941668', 'TRIAL_START 624 | Constant | 0.015848931924611127', 'TRIAL_END 873 | FarLowNarrow | 0.01584893192461113', 'TRIAL_END 409 | FarLowNarrow | 0.012589254117941668', 'TRIAL_END 536 | FarLowWide | 0.01995262314968879', 'TRIAL_START 397 | FarHighNarrow | 0.00501187233627272', 'TRIAL_START 915 | FarHighWide | 0.012589254117941668', 'TRIAL_START 1071 | FarLowWide_null | 0.0063095734448019285', 'TRIAL_START 380 | FarHighWide | 0.009999999999999997', 'TRIAL_START 696 | ThreeLinesControl | 0.015848931924611127', 'TRIAL_END 791 | FarLowWide | 0.01995262314968879', 'TRIAL_START 924 | Constant | 0.015848931924611127', 'TRIAL_END 757 | ThreeLinesControl | 0.012589254117941666', 'TRIAL_START 541 | Constant | 0.009999999999999995', 'TRIAL_START 345 | FarLowNarrow | 0.007943282347242812', 'TRIAL_END 976 | FarLowNarrow | 0.012589254117941668', 'TRIAL_START 628 | FarLowNarrow | 0.009999999999999997', 'TRIAL_END 1191 | FarLowWide | 0.025118864315095794', 'TRIAL_END 469 | FarLowNarrow | 0.007943282347242812', 'TRIAL_START 248 | ThreeLinesControl | 0.00794328234724281', 'TRIAL_END 455 | FarHighWide | 0.00501187233627272', 'TRIAL_START 189 | FarLowNarrow | 0.00794328234724281', 'TRIAL_START 826 | ThreeLinesControl | 0.00794328234724281', 'TRIAL_START 1077 | FarLowNarrow | 0.01584893192461113', 'TRIAL_END 212 | Constant | 0.009999999999999995', 'TRIAL_END 468 | FarLowWide | 0.009999999999999995', 'TRIAL_START 776 | FarLowNarrow | 0.019952623149688792', 'TRIAL_START 777 | FarLowWide | 0.015848931924611127', 'TRIAL_START 419 | FarLowNarrow | 0.012589254117941668', 'TRIAL_START 181 | FarHighNarrow | 0.00398107170553497', 'TRIAL_END 882 | FarLowWide | 0.012589254117941666', 'TRIAL_START 945 | FarHighWide | 0.019952623149688792', 'TRIAL_END 175 | FarHighWide | 0.006309573444801929', 'TRIAL_END 332 | FarLowWide | 0.015848931924611127', 'TRIAL_END 758 | ThreeLinesControl | 0.015848931924611127', 'TRIAL_END 1175 | FarLowWide | 0.012589254117941666', 'TRIAL_END 273 | FarLowWide | 0.012589254117941666', 'TRIAL_END 101 | ThreeLinesControl_null | 0.07943282347242815', 'TRIAL_START 937 | FarLowNarrow | 0.01584893192461113', 'TRIAL_START 70 | FarHighNarrow | 0.00794328234724281', 'TRIAL_START 948 | FarLowNarrow | 0.019952623149688792', 'TRIAL_END 629 | ThreeLinesControl | 0.01995262314968879', 'TRIAL_END 729 | FarHighNarrow | 0.006309573444801929', 'TRIAL_START 843 | FarLowNarrow_null | 0.001995262314968878', 'TRIAL_END 1184 | FarLowWide | 0.01995262314968879', 'TRIAL_END 43 | FarLowWide | 0.03981071705534971', 'TRIAL_END 674 | FarHighWide_null | 0.05011872336272722', 'TRIAL_END 200 | FarLowWide | 0.01995262314968879', 'TRIAL_START 49 | ThreeLinesControl | 0.012589254117941666', 'TRIAL_END 480 | Constant_null | 0.012589254117941666', 'TRIAL_START 331 | FarLowWide | 0.012589254117941666', 'TRIAL_START 334 | FarLowNarrow | 0.006309573444801929', 'TRIAL_END 75 | Constant | 0.0063095734448019285', 'TRIAL_START 592 | FarLowNarrow | 0.009999999999999997', 'TRIAL_START 1120 | FarLowWide_null | 0.002511886431509578', 'TRIAL_END 37 | ThreeLinesControl | 0.02511886431509579', 'TRIAL_START 216 | FarHighWide | 0.00398107170553497', 'TRIAL_START 309 | Constant | 0.009999999999999995', 'TRIAL_END 264 | FarHighNarrow | 0.00501187233627272', 'TRIAL_START 1065 | FarHighWide_null | 0.009999999999999995', 'TRIAL_START 65 | ThreeLinesControl_null | 0.1', 'TRIAL_START 539 | Constant | 0.012589254117941666', 'TRIAL_START 1024 | FarHighWide | 0.012589254117941668', 'TRIAL_END 422 | FarHighNarrow_null | 0.015848931924611127', 'TRIAL_START 1157 | FarHighWide_null | 0.0031622776601683772', 'TRIAL_END 686 | FarHighNarrow | 0.009999999999999997', 'TRIAL_START 387 | FarHighWide | 0.006309573444801929', 'TRIAL_END 1186 | FarLowWide | 0.031622776601683784', 'TRIAL_START 184 | ThreeLinesControl | 0.00794328234724281', 'TRIAL_END 237 | FarHighNarrow | 0.0031622776601683772', 'TRIAL_START 242 | Constant | 0.0063095734448019285', 'TRIAL_END 462 | FarHighWide | 0.006309573444801929', 'TRIAL_START 371 | FarLowNarrow | 0.012589254117941668', 'TRIAL_START 269 | FarHighNarrow | 0.006309573444801929', 'TRIAL_END 501 | FarHighWide | 0.007943282347242812', 'TRIAL_START 342 | ThreeLinesControl | 0.00794328234724281', 'TRIAL_START 338 | FarLowWide | 0.01995262314968879', 'TRIAL_END 201 | Constant | 0.0063095734448019285', 'TRIAL_START 630 | Constant | 0.015848931924611127', 'TRIAL_END 53 | FarHighNarrow | 0.009999999999999995', 'TRIAL_END 411 | Constant | 0.012589254117941666', 'TRIAL_END 1031 | FarLowNarrow | 0.01584893192461113', 'TRIAL_START 450 | FarLowWide | 0.012589254117941666', 'TRIAL_END 684 | FarHighWide | 0.007943282347242812', 'TRIAL_END 278 | FarLowWide | 0.012589254117941666', 'TRIAL_START 469 | FarLowNarrow | 0.007943282347242812', 'TRIAL_START 600 | FarLowWide | 0.031622776601683784', 'TRIAL_END 364 | Constant | 0.00794328234724281', 'TRIAL_START 418 | ThreeLinesControl | 0.012589254117941666', 'TRIAL_END 477 | ThreeLinesControl | 0.01995262314968879', 'TRIAL_START 268 | FarLowWide | 0.012589254117941666', 'TRIAL_END 894 | FarLowWide | 0.015848931924611127', 'TRIAL_END 162 | FarHighNarrow | 0.0063095734448019285', 'TRIAL_END 772 | Constant | 0.015848931924611127', 'TRIAL_START 92 | ThreeLinesControl | 0.012589254117941666', 'TRIAL_END 857 | FarLowNarrow | 0.01584893192461113', 'TRIAL_START 1028 | FarHighWide | 0.01584893192461113', 'TRIAL_START 983 | ThreeLinesControl | 0.015848931924611127', 'TRIAL_END 787 | FarHighNarrow | 0.012589254117941668', 'TRIAL_END 76 | FarLowWide | 0.015848931924611127', 'TRIAL_START 582 | FarHighNarrow | 0.00398107170553497', 'TRIAL_END 539 | Constant | 0.012589254117941666', 'TRIAL_END 46 | FarLowWide | 0.031622776601683784', 'TRIAL_START 1164 | FarHighNarrow | 0.019952623149688792', 'TRIAL_END 1116 | FarHighNarrow | 0.012589254117941668', 'TRIAL_END 41 | FarHighNarrow | 0.01995262314968879', 'TRIAL_END 1088 | FarLowNarrow | 0.012589254117941668', 'TRIAL_END 1139 | FarLowWide | 0.01995262314968879', 'TRIAL_START 251 | FarHighNarrow | 0.00398107170553497', 'TRIAL_START 982 | FarHighWide | 0.01584893192461113', 'TRIAL_START 1094 | FarLowNarrow | 0.012589254117941668', 'TRIAL_END 1187 | FarLowWide | 0.02511886431509579', 'TRIAL_END 1085 | ThreeLinesControl | 0.009999999999999995', 'TRIAL_END 388 | FarLowWide | 0.015848931924611127', 'TRIAL_END 412 | FarLowNarrow | 0.01584893192461113', 'TRIAL_START 484 | Constant | 0.009999999999999995', 'TRIAL_END 1146 | FarLowNarrow | 0.019952623149688792', 'TRIAL_END 136 | FarLowWide | 0.012589254117941666', 'TRIAL_END 1177 | FarHighNarrow | 0.01584893192461113', 'TRIAL_START 8 | FarHighWide | 0.06309573444801932', 'TRIAL_START 291 | Constant_null | 0.02511886431509579', 'TRIAL_START 1130 | FarHighNarrow | 0.019952623149688792', 'TRIAL_END 989 | ThreeLinesControl | 0.009999999999999995', 'TRIAL_START 1087 | ThreeLinesControl | 0.012589254117941666', 'TRIAL_END 339 | FarLowNarrow_null | 0.025118864315095794', 'TRIAL_END 892 | FarHighWide | 0.012589254117941668', 'TRIAL_END 440 | FarHighNarrow | 0.009999999999999997', 'TRIAL_END 204 | FarLowWide | 0.015848931924611127', 'TRIAL_START 622 | ThreeLinesControl | 0.015848931924611127', 'TRIAL_END 102 | Constant_null | 0.05011872336272722', 'TRIAL_START 362 | FarLowNarrow | 0.012589254117941668', 'TRIAL_END 232 | Constant | 0.005011872336272719', 'TRIAL_END 1017 | Constant | 0.015848931924611127', 'TRIAL_END 796 | FarLowNarrow | 0.03162277660168379', 'TRIAL_START 1111 | FarLowNarrow | 0.012589254117941668', 'TRIAL_START 109 | Constant | 0.012589254117941666', 'TRIAL_END 382 | FarLowWide | 0.012589254117941666', 'TRIAL_END 1012 | Constant | 0.015848931924611127', 'TRIAL_START 1177 | FarHighNarrow | 0.01584893192461113', 'TRIAL_START 479 | ThreeLinesControl | 0.025118864315095794', 'TRIAL_END 599 | FarHighWide | 0.019952623149688792', 'TRIAL_START 970 | FarHighWide | 0.019952623149688792', 'TRIAL_START 1147 | FarLowWide | 0.025118864315095794', 'TRIAL_END 497 | FarHighWide | 0.009999999999999997', 'TRIAL_END 726 | FarLowWide | 0.01995262314968879', 'TRIAL_START 667 | ThreeLinesControl | 0.009999999999999995', 'TRIAL_END 1140 | FarLowNarrow | 0.012589254117941668', 'TRIAL_END 154 | FarLowWide_null | 0.1', 'TRIAL_START 498 | FarHighNarrow | 0.012589254117941668', 'TRIAL_START 410 | ThreeLinesControl | 0.012589254117941666', 'TRIAL_END 310 | ThreeLinesControl | 0.015848931924611127', 'TRIAL_START 1059 | ThreeLinesControl | 0.01995262314968879', 'TRIAL_END 641 | FarLowNarrow | 0.012589254117941668', 'TRIAL_START 927 | ThreeLinesControl | 0.025118864315095794', 'TRIAL_START 881 | FarLowWide | 0.015848931924611127', 'TRIAL_END 603 | ThreeLinesControl | 0.015848931924611127', 'TRIAL_START 437 | ThreeLinesControl | 0.012589254117941666', 'TRIAL_START 862 | FarLowNarrow | 0.012589254117941668', 'TRIAL_START 1038 | FarLowNarrow | 0.019952623149688792', 'TRIAL_END 475 | FarHighNarrow | 0.01584893192461113', 'TRIAL_START 618 | FarLowWide | 0.031622776601683784', 'TRIAL_START 1001 | Constant | 0.015848931924611127', 'TRIAL_START 76 | FarLowWide | 0.015848931924611127', 'TRIAL_START 239 | FarHighWide | 0.00501187233627272', 'TRIAL_START 688 | Constant | 0.012589254117941666', 'TRIAL_END 301 | ThreeLinesControl | 0.00794328234724281', 'TRIAL_END 286 | FarLowWide | 0.009999999999999995', 'TRIAL_END 712 | Constant_null | 0.00794328234724281', 'TRIAL_END 241 | FarLowNarrow | 0.00794328234724281', 'TRIAL_END 584 | FarHighNarrow | 0.00501187233627272', 'TRIAL_END 466 | ThreeLinesControl | 0.01995262314968879', 'TRIAL_END 549 | FarHighNarrow | 0.007943282347242812', 'TRIAL_END 498 | FarHighNarrow | 0.012589254117941668', 'TRIAL_START 335 | ThreeLinesControl | 0.012589254117941666', 'TRIAL_END 1159 | FarLowWide | 0.025118864315095794', 'TRIAL_START 954 | ThreeLinesControl | 0.01995262314968879', 'TRIAL_START 854 | Constant | 0.012589254117941666', 'TRIAL_START 535 | ThreeLinesControl | 0.01995262314968879', 'TRIAL_START 136 | FarLowWide | 0.012589254117941666', 'TRIAL_END 479 | ThreeLinesControl | 0.025118864315095794', 'TRIAL_START 280 | FarHighNarrow | 0.00501187233627272', 'TRIAL_START 138 | FarHighWide | 0.005011872336272719', 'TRIAL_START 1080 | FarLowWide | 0.01995262314968879', 'TRIAL_END 741 | FarHighWide | 0.01584893192461113', 'TRIAL_END 615 | FarHighNarrow | 0.01584893192461113', 'TRIAL_START 613 | Constant | 0.009999999999999995', 'TRIAL_END 1078 | ThreeLinesControl | 0.012589254117941666', 'TRIAL_END 1094 | FarLowNarrow | 0.012589254117941668', 'TRIAL_START 567 | ThreeLinesControl | 0.015848931924611127', 'TRIAL_START 462 | FarHighWide | 0.006309573444801929', 'TRIAL_END 705 | Constant | 0.012589254117941666', 'TRIAL_END 627 | Constant | 0.01995262314968879', 'TRIAL_END 1081 | FarHighNarrow | 0.01584893192461113', 'TRIAL_START 1103 | FarLowNarrow | 0.012589254117941668', 'TRIAL_START 874 | ThreeLinesControl_null | 0.0031622776601683772', 'TRIAL_END 913 | FarLowNarrow | 0.025118864315095798', 'TRIAL_START 1104 | FarLowWide | 0.00794328234724281', 'TRIAL_START 812 | FarHighWide | 0.01584893192461113', 'TRIAL_END 520 | FarHighNarrow | 0.009999999999999997', 'TRIAL_START 882 | FarLowWide | 0.012589254117941666', 'TRIAL_END 602 | FarHighNarrow | 0.012589254117941668', 'TRIAL_END 81 | FarLowWide | 0.012589254117941666', 'TRIAL_END 1165 | FarHighWide | 0.01584893192461113', 'TRIAL_START 254 | FarLowWide | 0.01995262314968879', 'TRIAL_END 646 | ThreeLinesControl | 0.015848931924611127', 'TRIAL_END 451 | FarHighNarrow | 0.012589254117941668', 'TRIAL_END 362 | FarLowNarrow | 0.012589254117941668', 'TRIAL_END 978 | FarHighWide | 0.012589254117941668', 'TRIAL_START 30 | FarHighWide | 0.031622776601683784', 'TRIAL_END 1029 | FarLowWide_null | 0.012589254117941666', 'TRIAL_END 97 | FarHighNarrow | 0.00794328234724281', 'TRIAL_START 1043 | FarHighNarrow | 0.01584893192461113', 'TRIAL_START 511 | ThreeLinesControl | 0.015848931924611127', 'TRIAL_END 1059 | ThreeLinesControl | 0.01995262314968879', 'TRIAL_START 41 | FarHighNarrow | 0.01995262314968879', 'TRIAL_START 325 | FarLowWide | 0.015848931924611127', 'TRIAL_END 482 | ThreeLinesControl | 0.01995262314968879', 'TRIAL_END 112 | Constant | 0.009999999999999995', 'TRIAL_START 401 | FarLowNarrow | 0.009999999999999997', 'TRIAL_START 467 | ThreeLinesControl_null | 0.031622776601683784', 'TRIAL_END 595 | Constant | 0.012589254117941666', 'TRIAL_END 665 | FarLowNarrow | 0.019952623149688792', 'TRIAL_START 611 | Constant | 0.012589254117941666', 'TRIAL_END 858 | Constant | 0.015848931924611127', 'TRIAL_END 1089 | FarHighNarrow | 0.019952623149688792', 'TRIAL_START 426 | FarLowNarrow | 0.01584893192461113', 'TRIAL_END 747 | FarLowNarrow | 0.01584893192461113', 'TRIAL_START 37 | ThreeLinesControl | 0.02511886431509579', 'TRIAL_START 1033 | FarLowNarrow | 0.012589254117941668', 'TRIAL_START 736 | FarHighNarrow | 0.009999999999999997', 'TRIAL_END 44 | FarHighWide | 0.01995262314968879', 'TRIAL_START 171 | FarHighWide | 0.006309573444801929', 'TRIAL_START 722 | FarHighWide | 0.012589254117941668', 'TRIAL_END 753 | FarHighNarrow_null | 0.009999999999999995', 'TRIAL_START 626 | FarLowWide | 0.01995262314968879', 'TRIAL_START 646 | ThreeLinesControl | 0.015848931924611127', 'TRIAL_START 803 | ThreeLinesControl | 0.01995262314968879', 'TRIAL_START 594 | Constant_null | 0.009999999999999995', 'TRIAL_END 271 | FarLowWide | 0.015848931924611127', 'TRIAL_END 1120 | FarLowWide_null | 0.002511886431509578', 'TRIAL_START 258 | ThreeLinesControl | 0.0063095734448019285', 'TRIAL_END 616 | FarHighNarrow | 0.012589254117941668', 'TRIAL_START 1005 | FarHighWide | 0.012589254117941668', 'TRIAL_START 1139 | FarLowWide | 0.01995262314968879', 'TRIAL_END 834 | Constant | 0.009999999999999995', 'TRIAL_START 888 | FarHighWide | 0.012589254117941668', 'TRIAL_START 746 | Constant | 0.012589254117941666', 'TRIAL_START 614 | ThreeLinesControl | 0.012589254117941666', 'TRIAL_START 750 | FarLowNarrow_null | 0.002511886431509578', 'TRIAL_START 518 | FarLowWide | 0.025118864315095794', 'TRIAL_START 849 | FarLowWide | 0.012589254117941666', 'TRIAL_END 279 | FarHighNarrow | 0.006309573444801929', 'TRIAL_END 199 | Constant_null | 0.03981071705534971', 'TRIAL_START 364 | Constant | 0.00794328234724281', 'TRIAL_START 641 | FarLowNarrow | 0.012589254117941668', 'TRIAL_END 9 | FarLowNarrow_null | 0.1', 'TRIAL_END 714 | FarHighNarrow | 0.009999999999999997', 'TRIAL_START 756 | Constant | 0.012589254117941666', 'TRIAL_START 494 | Constant | 0.012589254117941666', 'TRIAL_START 697 | ThreeLinesControl | 0.01995262314968879', 'TRIAL_END 1056 | ThreeLinesControl | 0.01995262314968879', 'TRIAL_START 655 | FarLowNarrow | 0.01584893192461113', 'TRIAL_END 554 | ThreeLinesControl | 0.01995262314968879', 'TRIAL_START 1048 | FarLowNarrow | 0.01584893192461113', 'TRIAL_END 104 | FarLowNarrow | 0.00794328234724281', 'TRIAL_END 867 | FarLowNarrow | 0.012589254117941668', 'TRIAL_END 1043 | FarHighNarrow | 0.01584893192461113', 'TRIAL_START 540 | FarHighWide | 0.007943282347242812', 'TRIAL_END 692 | FarHighWide | 0.009999999999999997', 'TRIAL_END 1126 | FarHighNarrow | 0.012589254117941668', 'TRIAL_END 60 | FarLowNarrow | 0.012589254117941666', 'TRIAL_START 1186 | FarLowWide | 0.031622776601683784', 'TRIAL_END 255 | FarLowWide | 0.015848931924611127', 'TRIAL_END 414 | FarHighNarrow_null | 0.01995262314968879', 'TRIAL_END 630 | Constant | 0.015848931924611127', 'TRIAL_END 638 | FarLowWide | 0.025118864315095794', 'TRIAL_END 119 | Constant | 0.012589254117941666', 'TRIAL_END 287 | FarLowWide | 0.012589254117941666', 'TRIAL_END 443 | FarLowNarrow | 0.012589254117941668', 'TRIAL_END 379 | FarHighNarrow | 0.007943282347242812', 'TRIAL_START 202 | FarHighNarrow | 0.002511886431509578', 'TRIAL_START 286 | FarLowWide | 0.009999999999999995', 'TRIAL_START 493 | ThreeLinesControl | 0.012589254117941666', 'TRIAL_END 872 | Constant | 0.012589254117941666', 'TRIAL_END 87 | ThreeLinesControl | 0.015848931924611127', 'TRIAL_START 379 | FarHighNarrow | 0.007943282347242812', 'TRIAL_END 346 | FarLowWide | 0.015848931924611127', 'TRIAL_START 480 | Constant_null | 0.012589254117941666', 'TRIAL_START 695 | FarHighWide | 0.012589254117941668', 'TRIAL_END 767 | FarHighWide | 0.01584893192461113', 'TRIAL_END 720 | FarHighWide | 0.01584893192461113', 'TRIAL_START 831 | FarHighNarrow_null | 0.00794328234724281', 'TRIAL_START 783 | FarLowWide | 0.015848931924611127', 'TRIAL_START 965 | FarHighNarrow_null | 0.002511886431509578', 'TRIAL_END 816 | FarHighWide | 0.012589254117941668', 'TRIAL_START 393 | Constant | 0.009999999999999995'}\n"
     ]
    }
   ],
   "source": [
    "print(raw_dict['82']['df'].head(10))\n",
    "print('Descriptions:')\n",
    "print(set(raw_dict['82']['df']['description']))"
   ]
  },
  {
   "cell_type": "code",
   "execution_count": null,
   "id": "4f9268c7",
   "metadata": {},
   "outputs": [
    {
     "data": {
      "application/vnd.microsoft.datawrangler.viewer.v0+json": {
       "columns": [
        {
         "name": "index",
         "rawType": "int64",
         "type": "integer"
        },
        {
         "name": "Participant",
         "rawType": "object",
         "type": "string"
        },
        {
         "name": "Total saccades",
         "rawType": "int64",
         "type": "integer"
        },
        {
         "name": "Mean duration (s)",
         "rawType": "float64",
         "type": "float"
        },
        {
         "name": "Min duration (s)",
         "rawType": "float64",
         "type": "float"
        },
        {
         "name": "Max duration (s)",
         "rawType": "float64",
         "type": "float"
        },
        {
         "name": "Unique descriptions",
         "rawType": "int64",
         "type": "integer"
        }
       ],
       "conversionMethod": "pd.DataFrame",
       "ref": "f6abc360-86b5-455c-b98d-fbfd648dd0e2",
       "rows": [
        [
         "0",
         "75",
         "2152",
         "0.13077648698884758",
         "0.005",
         "67.985",
         "1"
        ],
        [
         "1",
         "76",
         "2852",
         "0.12962903225806452",
         "0.005",
         "1.839",
         "1"
        ],
        [
         "2",
         "77",
         "2387",
         "0.028445747800586514",
         "0.005",
         "0.489",
         "1"
        ],
        [
         "3",
         "83",
         "2801",
         "0.10769546590503393",
         "0.005",
         "1.816",
         "1"
        ],
        [
         "4",
         "82",
         "2960",
         "0.017445945945945947",
         "0.005",
         "0.258",
         "1"
        ],
        [
         "5",
         "81",
         "1161",
         "0.0728337639965547",
         "0.005",
         "0.254",
         "1"
        ],
        [
         "6",
         "85",
         "2840",
         "0.06434542253521126",
         "0.005",
         "0.422",
         "1"
        ],
        [
         "7",
         "84",
         "2572",
         "0.04830832037325039",
         "0.005",
         "0.839",
         "1"
        ],
        [
         "8",
         "78",
         "3698",
         "0.08067414818820985",
         "0.005",
         "0.744",
         "1"
        ],
        [
         "9",
         "87",
         "2906",
         "0.07009050240880936",
         "0.005",
         "0.449",
         "1"
        ]
       ],
       "shape": {
        "columns": 6,
        "rows": 10
       }
      },
      "text/html": [
       "<div>\n",
       "<style scoped>\n",
       "    .dataframe tbody tr th:only-of-type {\n",
       "        vertical-align: middle;\n",
       "    }\n",
       "\n",
       "    .dataframe tbody tr th {\n",
       "        vertical-align: top;\n",
       "    }\n",
       "\n",
       "    .dataframe thead th {\n",
       "        text-align: right;\n",
       "    }\n",
       "</style>\n",
       "<table border=\"1\" class=\"dataframe\">\n",
       "  <thead>\n",
       "    <tr style=\"text-align: right;\">\n",
       "      <th></th>\n",
       "      <th>Participant</th>\n",
       "      <th>Total saccades</th>\n",
       "      <th>Mean duration (s)</th>\n",
       "      <th>Min duration (s)</th>\n",
       "      <th>Max duration (s)</th>\n",
       "      <th>Unique descriptions</th>\n",
       "    </tr>\n",
       "  </thead>\n",
       "  <tbody>\n",
       "    <tr>\n",
       "      <th>0</th>\n",
       "      <td>75</td>\n",
       "      <td>2152</td>\n",
       "      <td>0.130776</td>\n",
       "      <td>0.005</td>\n",
       "      <td>67.985</td>\n",
       "      <td>1</td>\n",
       "    </tr>\n",
       "    <tr>\n",
       "      <th>1</th>\n",
       "      <td>76</td>\n",
       "      <td>2852</td>\n",
       "      <td>0.129629</td>\n",
       "      <td>0.005</td>\n",
       "      <td>1.839</td>\n",
       "      <td>1</td>\n",
       "    </tr>\n",
       "    <tr>\n",
       "      <th>2</th>\n",
       "      <td>77</td>\n",
       "      <td>2387</td>\n",
       "      <td>0.028446</td>\n",
       "      <td>0.005</td>\n",
       "      <td>0.489</td>\n",
       "      <td>1</td>\n",
       "    </tr>\n",
       "    <tr>\n",
       "      <th>3</th>\n",
       "      <td>83</td>\n",
       "      <td>2801</td>\n",
       "      <td>0.107695</td>\n",
       "      <td>0.005</td>\n",
       "      <td>1.816</td>\n",
       "      <td>1</td>\n",
       "    </tr>\n",
       "    <tr>\n",
       "      <th>4</th>\n",
       "      <td>82</td>\n",
       "      <td>2960</td>\n",
       "      <td>0.017446</td>\n",
       "      <td>0.005</td>\n",
       "      <td>0.258</td>\n",
       "      <td>1</td>\n",
       "    </tr>\n",
       "    <tr>\n",
       "      <th>5</th>\n",
       "      <td>81</td>\n",
       "      <td>1161</td>\n",
       "      <td>0.072834</td>\n",
       "      <td>0.005</td>\n",
       "      <td>0.254</td>\n",
       "      <td>1</td>\n",
       "    </tr>\n",
       "    <tr>\n",
       "      <th>6</th>\n",
       "      <td>85</td>\n",
       "      <td>2840</td>\n",
       "      <td>0.064345</td>\n",
       "      <td>0.005</td>\n",
       "      <td>0.422</td>\n",
       "      <td>1</td>\n",
       "    </tr>\n",
       "    <tr>\n",
       "      <th>7</th>\n",
       "      <td>84</td>\n",
       "      <td>2572</td>\n",
       "      <td>0.048308</td>\n",
       "      <td>0.005</td>\n",
       "      <td>0.839</td>\n",
       "      <td>1</td>\n",
       "    </tr>\n",
       "    <tr>\n",
       "      <th>8</th>\n",
       "      <td>78</td>\n",
       "      <td>3698</td>\n",
       "      <td>0.080674</td>\n",
       "      <td>0.005</td>\n",
       "      <td>0.744</td>\n",
       "      <td>1</td>\n",
       "    </tr>\n",
       "    <tr>\n",
       "      <th>9</th>\n",
       "      <td>87</td>\n",
       "      <td>2906</td>\n",
       "      <td>0.070091</td>\n",
       "      <td>0.005</td>\n",
       "      <td>0.449</td>\n",
       "      <td>1</td>\n",
       "    </tr>\n",
       "  </tbody>\n",
       "</table>\n",
       "</div>"
      ],
      "text/plain": [
       "  Participant  Total saccades  Mean duration (s)  Min duration (s)  \\\n",
       "0          75            2152           0.130776             0.005   \n",
       "1          76            2852           0.129629             0.005   \n",
       "2          77            2387           0.028446             0.005   \n",
       "3          83            2801           0.107695             0.005   \n",
       "4          82            2960           0.017446             0.005   \n",
       "5          81            1161           0.072834             0.005   \n",
       "6          85            2840           0.064345             0.005   \n",
       "7          84            2572           0.048308             0.005   \n",
       "8          78            3698           0.080674             0.005   \n",
       "9          87            2906           0.070091             0.005   \n",
       "\n",
       "   Max duration (s)  Unique descriptions  \n",
       "0            67.985                    1  \n",
       "1             1.839                    1  \n",
       "2             0.489                    1  \n",
       "3             1.816                    1  \n",
       "4             0.258                    1  \n",
       "5             0.254                    1  \n",
       "6             0.422                    1  \n",
       "7             0.839                    1  \n",
       "8             0.744                    1  \n",
       "9             0.449                    1  "
      ]
     },
     "metadata": {},
     "output_type": "display_data"
    }
   ],
   "source": [
    "all_summary_stats = []\n",
    "\n",
    "for participant_id, participant_data in raw_dict.items():\n",
    "    annotations_df = participant_data['df']\n",
    "    \n",
    "    # Filter for saccades\n",
    "    saccades_df = annotations_df[\n",
    "        annotations_df['description'].str.contains('saccade', case=False, na=False)\n",
    "    ]\n",
    "    \n",
    "    # Collect summary statistics\n",
    "    summary_stats = {\n",
    "        \"Participant\": participant_id,\n",
    "        \"Total saccades\": len(saccades_df),\n",
    "        \"Mean duration (s)\": saccades_df['duration'].mean(),\n",
    "        \"Min duration (s)\": saccades_df['duration'].min(),\n",
    "        \"Max duration (s)\": saccades_df['duration'].max(),\n",
    "        \"Unique descriptions\": saccades_df['description'].nunique()\n",
    "    }\n",
    "    \n",
    "    all_summary_stats.append(summary_stats)\n",
    "\n",
    "# Convert the list of dicts into a DataFrame\n",
    "summary_df = pd.DataFrame(all_summary_stats)\n",
    "\n",
    "# Display the summary\n",
    "display(summary_df) "
   ]
  },
  {
   "cell_type": "code",
   "execution_count": 65,
   "id": "93c5e617",
   "metadata": {},
   "outputs": [
    {
     "data": {
      "application/vnd.microsoft.datawrangler.viewer.v0+json": {
       "columns": [
        {
         "name": "Participant",
         "rawType": "object",
         "type": "string"
        },
        {
         "name": "constant",
         "rawType": "int64",
         "type": "integer"
        },
        {
         "name": "ThreeLinesControl",
         "rawType": "int64",
         "type": "integer"
        },
        {
         "name": "FarHighNarrow",
         "rawType": "int64",
         "type": "integer"
        },
        {
         "name": "FarHighWide",
         "rawType": "int64",
         "type": "integer"
        }
       ],
       "conversionMethod": "pd.DataFrame",
       "ref": "9b3f1795-e0ae-4b55-a643-476c9d26379d",
       "rows": [
        [
         "75",
         "253",
         "268",
         "250",
         "259"
        ],
        [
         "76",
         "387",
         "375",
         "379",
         "382"
        ],
        [
         "77",
         "398",
         "397",
         "399",
         "395"
        ],
        [
         "83",
         "368",
         "371",
         "375",
         "371"
        ],
        [
         "82",
         "395",
         "398",
         "397",
         "399"
        ],
        [
         "81",
         "366",
         "386",
         "375",
         "372"
        ],
        [
         "85",
         "400",
         "400",
         "400",
         "400"
        ],
        [
         "84",
         "389",
         "394",
         "395",
         "396"
        ],
        [
         "78",
         "374",
         "372",
         "366",
         "372"
        ],
        [
         "87",
         "397",
         "399",
         "398",
         "399"
        ]
       ],
       "shape": {
        "columns": 4,
        "rows": 10
       }
      },
      "text/html": [
       "<div>\n",
       "<style scoped>\n",
       "    .dataframe tbody tr th:only-of-type {\n",
       "        vertical-align: middle;\n",
       "    }\n",
       "\n",
       "    .dataframe tbody tr th {\n",
       "        vertical-align: top;\n",
       "    }\n",
       "\n",
       "    .dataframe thead th {\n",
       "        text-align: right;\n",
       "    }\n",
       "</style>\n",
       "<table border=\"1\" class=\"dataframe\">\n",
       "  <thead>\n",
       "    <tr style=\"text-align: right;\">\n",
       "      <th></th>\n",
       "      <th>constant</th>\n",
       "      <th>ThreeLinesControl</th>\n",
       "      <th>FarHighNarrow</th>\n",
       "      <th>FarHighWide</th>\n",
       "    </tr>\n",
       "    <tr>\n",
       "      <th>Participant</th>\n",
       "      <th></th>\n",
       "      <th></th>\n",
       "      <th></th>\n",
       "      <th></th>\n",
       "    </tr>\n",
       "  </thead>\n",
       "  <tbody>\n",
       "    <tr>\n",
       "      <th>75</th>\n",
       "      <td>253</td>\n",
       "      <td>268</td>\n",
       "      <td>250</td>\n",
       "      <td>259</td>\n",
       "    </tr>\n",
       "    <tr>\n",
       "      <th>76</th>\n",
       "      <td>387</td>\n",
       "      <td>375</td>\n",
       "      <td>379</td>\n",
       "      <td>382</td>\n",
       "    </tr>\n",
       "    <tr>\n",
       "      <th>77</th>\n",
       "      <td>398</td>\n",
       "      <td>397</td>\n",
       "      <td>399</td>\n",
       "      <td>395</td>\n",
       "    </tr>\n",
       "    <tr>\n",
       "      <th>83</th>\n",
       "      <td>368</td>\n",
       "      <td>371</td>\n",
       "      <td>375</td>\n",
       "      <td>371</td>\n",
       "    </tr>\n",
       "    <tr>\n",
       "      <th>82</th>\n",
       "      <td>395</td>\n",
       "      <td>398</td>\n",
       "      <td>397</td>\n",
       "      <td>399</td>\n",
       "    </tr>\n",
       "    <tr>\n",
       "      <th>81</th>\n",
       "      <td>366</td>\n",
       "      <td>386</td>\n",
       "      <td>375</td>\n",
       "      <td>372</td>\n",
       "    </tr>\n",
       "    <tr>\n",
       "      <th>85</th>\n",
       "      <td>400</td>\n",
       "      <td>400</td>\n",
       "      <td>400</td>\n",
       "      <td>400</td>\n",
       "    </tr>\n",
       "    <tr>\n",
       "      <th>84</th>\n",
       "      <td>389</td>\n",
       "      <td>394</td>\n",
       "      <td>395</td>\n",
       "      <td>396</td>\n",
       "    </tr>\n",
       "    <tr>\n",
       "      <th>78</th>\n",
       "      <td>374</td>\n",
       "      <td>372</td>\n",
       "      <td>366</td>\n",
       "      <td>372</td>\n",
       "    </tr>\n",
       "    <tr>\n",
       "      <th>87</th>\n",
       "      <td>397</td>\n",
       "      <td>399</td>\n",
       "      <td>398</td>\n",
       "      <td>399</td>\n",
       "    </tr>\n",
       "  </tbody>\n",
       "</table>\n",
       "</div>"
      ],
      "text/plain": [
       "             constant  ThreeLinesControl  FarHighNarrow  FarHighWide\n",
       "Participant                                                         \n",
       "75                253                268            250          259\n",
       "76                387                375            379          382\n",
       "77                398                397            399          395\n",
       "83                368                371            375          371\n",
       "82                395                398            397          399\n",
       "81                366                386            375          372\n",
       "85                400                400            400          400\n",
       "84                389                394            395          396\n",
       "78                374                372            366          372\n",
       "87                397                399            398          399"
      ]
     },
     "metadata": {},
     "output_type": "display_data"
    }
   ],
   "source": [
    "# Conditions\n",
    "conditions = [\"constant\", \"ThreeLinesControl\", \"FarHighNarrow\", \"FarHighWide\"]\n",
    "\n",
    "# Collect per-participant condition counts\n",
    "all_counts = []\n",
    "\n",
    "for participant_id, participant_data in raw_dict.items():\n",
    "    annotation_df = participant_data['df']\n",
    "    \n",
    "    participant_counts = {\"Participant\": participant_id}\n",
    "    \n",
    "    for condition in conditions:\n",
    "        count = annotation_df['description'].str.contains(condition, case=False, na=False).sum()\n",
    "        participant_counts[condition] = count\n",
    "    \n",
    "    all_counts.append(participant_counts)\n",
    "\n",
    "# Create a summary DataFrame\n",
    "condition_summary_df = pd.DataFrame(all_counts)\n",
    "condition_summary_df.set_index(\"Participant\", inplace=True)\n",
    "\n",
    "# Display the result\n",
    "display(condition_summary_df)\n"
   ]
  }
 ],
 "metadata": {
  "kernelspec": {
   "display_name": "eyetracker_env",
   "language": "python",
   "name": "python3"
  },
  "language_info": {
   "codemirror_mode": {
    "name": "ipython",
    "version": 3
   },
   "file_extension": ".py",
   "mimetype": "text/x-python",
   "name": "python",
   "nbconvert_exporter": "python",
   "pygments_lexer": "ipython3",
   "version": "3.13.3"
  }
 },
 "nbformat": 4,
 "nbformat_minor": 5
}
